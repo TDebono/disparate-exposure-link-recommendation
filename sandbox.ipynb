{
 "cells": [
  {
   "cell_type": "code",
   "execution_count": 78,
   "metadata": {},
   "outputs": [],
   "source": [
    "import pandas as pd\n",
    "import numpy as np\n",
    "from operator import itemgetter\n",
    "import os\n",
    "\n",
    "dir_string = 'C:/Users/timod/Box/University Documents/Master/UvA/Thesis/work/profile-data/'"
   ]
  },
  {
   "cell_type": "code",
   "execution_count": null,
   "metadata": {},
   "outputs": [],
   "source": [
    "def load_profile_data(dir_string):\n",
    "\n",
    "    directory = os.fsencode(dir_string)\n",
    "\n",
    "    profile_array = []\n",
    "    COL_INDICES = [0, 3, 7]\n",
    "        \n",
    "    for profile_data_file in os.listdir(directory):\n",
    "        with open(dir_string + (str(profile_data_file)[2:-1])) as f:\n",
    "            for line in f:\n",
    "                profile_array.append(itemgetter(*COL_INDICES)(line.split(\"\\t\")))\n",
    "    \n",
    "    return np.array(profile_array)"
   ]
  },
  {
   "cell_type": "code",
   "execution_count": 99,
   "metadata": {},
   "outputs": [],
   "source": [
    "def profile_data_to_df(profile_array, replace_null_strings=True):\n",
    "    \n",
    "    profile_df = pd.DataFrame(data=profile_array[0:,0:], \n",
    "                  index=[i for i in range(profile_array.shape[0])],\n",
    "                  columns=['user_id', 'gender', 'age'])\n",
    "    \n",
    "    if replace_null_strings:\n",
    "        profile_df.replace('null', -999999, inplace=True)\n",
    "        profile_df.astype(int)\n",
    "        profile_df.replace(-999999, np.nan, inplace=True)\n",
    "    \n",
    "    return profile_df"
   ]
  },
  {
   "cell_type": "code",
   "execution_count": null,
   "metadata": {},
   "outputs": [],
   "source": []
  },
  {
   "cell_type": "code",
   "execution_count": null,
   "metadata": {},
   "outputs": [],
   "source": []
  },
  {
   "cell_type": "code",
   "execution_count": null,
   "metadata": {},
   "outputs": [],
   "source": []
  },
  {
   "cell_type": "code",
   "execution_count": null,
   "metadata": {},
   "outputs": [],
   "source": []
  }
 ],
 "metadata": {
  "interpreter": {
   "hash": "1fb8e078cb962540c7e7ee51bf113dc58305575cec4abc5de20bbf9c14466811"
  },
  "kernelspec": {
   "display_name": "Python 3.7.6 ('base')",
   "language": "python",
   "name": "python3"
  },
  "language_info": {
   "codemirror_mode": {
    "name": "ipython",
    "version": 3
   },
   "file_extension": ".py",
   "mimetype": "text/x-python",
   "name": "python",
   "nbconvert_exporter": "python",
   "pygments_lexer": "ipython3",
   "version": "3.7.6"
  },
  "orig_nbformat": 4
 },
 "nbformat": 4,
 "nbformat_minor": 2
}
