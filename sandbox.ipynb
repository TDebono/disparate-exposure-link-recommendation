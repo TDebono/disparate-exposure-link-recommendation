{
 "cells": [
  {
   "cell_type": "code",
   "execution_count": 9,
   "metadata": {},
   "outputs": [],
   "source": [
    "import pandas as pd\n",
    "\n",
    "profile_data_file = 'C:/Users/timod/Box/University Documents/Master/UvA/Thesis/work/profile-data/out34.txt'"
   ]
  },
  {
   "cell_type": "code",
   "execution_count": null,
   "metadata": {},
   "outputs": [],
   "source": [
    "profile_info = pd.read_csv(profile_data_file, skipinitialspace=False, sep='\\t', lineterminator='\\r')"
   ]
  },
  {
   "cell_type": "code",
   "execution_count": null,
   "metadata": {},
   "outputs": [],
   "source": []
  },
  {
   "cell_type": "code",
   "execution_count": null,
   "metadata": {},
   "outputs": [],
   "source": [
    "# fields = ['star_name', 'ra']\n",
    "\n",
    "# df = pd.read_csv('data.csv', skipinitialspace=True, usecols=fields)"
   ]
  },
  {
   "cell_type": "code",
   "execution_count": null,
   "metadata": {},
   "outputs": [],
   "source": [
    "# with open(\"log.txt\") as infile:\n",
    "#     for line in infile:\n",
    "#         do_something_with(line)"
   ]
  }
 ],
 "metadata": {
  "interpreter": {
   "hash": "1fb8e078cb962540c7e7ee51bf113dc58305575cec4abc5de20bbf9c14466811"
  },
  "kernelspec": {
   "display_name": "Python 3.7.6 ('base')",
   "language": "python",
   "name": "python3"
  },
  "language_info": {
   "codemirror_mode": {
    "name": "ipython",
    "version": 3
   },
   "file_extension": ".py",
   "mimetype": "text/x-python",
   "name": "python",
   "nbconvert_exporter": "python",
   "pygments_lexer": "ipython3",
   "version": "3.7.6"
  },
  "orig_nbformat": 4
 },
 "nbformat": 4,
 "nbformat_minor": 2
}
