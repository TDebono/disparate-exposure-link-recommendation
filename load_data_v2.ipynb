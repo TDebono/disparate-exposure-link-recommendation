{
 "cells": [
  {
   "cell_type": "code",
   "execution_count": 1,
   "metadata": {},
   "outputs": [],
   "source": [
    "import networkx as nx\n",
    "import numpy as np\n",
    "import pandas as pd\n",
    "from data_loader import *\n",
    "import igraph as ig\n",
    "import config\n",
    "import matplotlib.pyplot as plt\n",
    "import seaborn as sns"
   ]
  },
  {
   "cell_type": "code",
   "execution_count": 2,
   "metadata": {},
   "outputs": [
    {
     "ename": "Error",
     "evalue": "Canceled future for execute_request message before replies were done",
     "output_type": "error",
     "traceback": [
      "Error: Canceled future for execute_request message before replies were done",
      "at t.KernelShellFutureHandler.dispose (c:\\Users\\timod\\.vscode\\extensions\\ms-toolsai.jupyter-2022.3.1000901801\\out\\extension.js:2:1204175)",
      "at c:\\Users\\timod\\.vscode\\extensions\\ms-toolsai.jupyter-2022.3.1000901801\\out\\extension.js:2:1223227",
      "at Map.forEach (<anonymous>)",
      "at v._clearKernelState (c:\\Users\\timod\\.vscode\\extensions\\ms-toolsai.jupyter-2022.3.1000901801\\out\\extension.js:2:1223212)",
      "at v.dispose (c:\\Users\\timod\\.vscode\\extensions\\ms-toolsai.jupyter-2022.3.1000901801\\out\\extension.js:2:1216694)",
      "at c:\\Users\\timod\\.vscode\\extensions\\ms-toolsai.jupyter-2022.3.1000901801\\out\\extension.js:2:533674",
      "at t.swallowExceptions (c:\\Users\\timod\\.vscode\\extensions\\ms-toolsai.jupyter-2022.3.1000901801\\out\\extension.js:2:913059)",
      "at dispose (c:\\Users\\timod\\.vscode\\extensions\\ms-toolsai.jupyter-2022.3.1000901801\\out\\extension.js:2:533652)",
      "at t.RawSession.dispose (c:\\Users\\timod\\.vscode\\extensions\\ms-toolsai.jupyter-2022.3.1000901801\\out\\extension.js:2:537330)",
      "at runMicrotasks (<anonymous>)",
      "at processTicksAndRejections (node:internal/process/task_queues:96:5)"
     ]
    }
   ],
   "source": [
    "G = read_pkl_graph(\"graph_no_attributes.pkl\")"
   ]
  },
  {
   "cell_type": "code",
   "execution_count": null,
   "metadata": {},
   "outputs": [],
   "source": [
    "_p = load_profile_data(config.PROFILES_PATH)\n",
    "P = profile_data_to_df(_p)"
   ]
  },
  {
   "cell_type": "code",
   "execution_count": 51,
   "metadata": {},
   "outputs": [],
   "source": [
    "# match nodes with attributes"
   ]
  },
  {
   "cell_type": "code",
   "execution_count": 56,
   "metadata": {},
   "outputs": [],
   "source": [
    "P2 = P.copy()\n",
    "P2.dropna(inplace=True)\n",
    "P2 = P2.astype({'user_id':str, 'gender':'int64', 'age':'int64'})\n",
    "user_ids = P2['user_id'].to_list()\n",
    "P2.set_index('user_id', inplace=True)"
   ]
  },
  {
   "cell_type": "code",
   "execution_count": null,
   "metadata": {},
   "outputs": [],
   "source": [
    "for v in G.vs:\n",
    "    if v['name'] in user_ids:\n",
    "        v['gender'] = P2.loc[v['name']][0]"
   ]
  },
  {
   "cell_type": "code",
   "execution_count": null,
   "metadata": {},
   "outputs": [],
   "source": [
    "### implement random walk sampler first!"
   ]
  },
  {
   "cell_type": "code",
   "execution_count": null,
   "metadata": {},
   "outputs": [],
   "source": [
    "# implement random walk"
   ]
  },
  {
   "cell_type": "code",
   "execution_count": null,
   "metadata": {},
   "outputs": [],
   "source": []
  },
  {
   "cell_type": "code",
   "execution_count": null,
   "metadata": {},
   "outputs": [],
   "source": []
  },
  {
   "cell_type": "code",
   "execution_count": null,
   "metadata": {},
   "outputs": [],
   "source": []
  },
  {
   "cell_type": "code",
   "execution_count": null,
   "metadata": {},
   "outputs": [],
   "source": []
  },
  {
   "cell_type": "code",
   "execution_count": null,
   "metadata": {},
   "outputs": [],
   "source": []
  },
  {
   "cell_type": "markdown",
   "metadata": {},
   "source": [
    "#### EDA Plots"
   ]
  },
  {
   "cell_type": "code",
   "execution_count": 4,
   "metadata": {},
   "outputs": [
    {
     "name": "stdout",
     "output_type": "stream",
     "text": [
      "804336\n"
     ]
    }
   ],
   "source": [
    "num_males = len(P[P['gender'] == '1'])\n",
    "print(num_males)"
   ]
  },
  {
   "cell_type": "code",
   "execution_count": 5,
   "metadata": {},
   "outputs": [
    {
     "name": "stdout",
     "output_type": "stream",
     "text": [
      "828467\n",
      "828304\n"
     ]
    }
   ],
   "source": [
    "num_females = len(P) - num_males\n",
    "num_females2 = len(P[P['gender'] == '0'])\n",
    "print(num_females)\n",
    "print(num_females2)"
   ]
  },
  {
   "cell_type": "code",
   "execution_count": 36,
   "metadata": {},
   "outputs": [],
   "source": [
    "assert num_males + num_females == G.vcount()"
   ]
  },
  {
   "cell_type": "code",
   "execution_count": 14,
   "metadata": {},
   "outputs": [],
   "source": [
    "h = G.degree_distribution(bin_width=100)"
   ]
  },
  {
   "cell_type": "code",
   "execution_count": 15,
   "metadata": {},
   "outputs": [
    {
     "name": "stdout",
     "output_type": "stream",
     "text": [
      "N = 1632803, mean +- sd: 37.5092 +- 59.5256\n",
      "Each * represents 28330 items\n",
      "[    0,   100): **************************************************** (1473176)\n",
      "[  100,   200): **** (127482)\n",
      "[  200,   300):  (24106)\n",
      "[  300,   400):  (5604)\n",
      "[  400,   500):  (1471)\n",
      "[  500,   600):  (477)\n",
      "[  600,   700):  (206)\n",
      "[  700,   800):  (100)\n",
      "[  800,   900):  (67)\n",
      "[  900,  1000):  (45)\n",
      "[ 1000,  1100):  (36)\n",
      "[ 1100,  1200):  (7)\n",
      "[ 1200,  1300):  (6)\n",
      "[ 1300,  1400):  (4)\n",
      "[ 1400,  1500):  (2)\n",
      "[ 1500,  1600):  (1)\n",
      "[ 1600,  1700):  (0)\n",
      "[ 1700,  1800):  (3)\n",
      "[ 1800,  1900):  (0)\n",
      "[ 1900,  2000):  (0)\n",
      "[ 2000,  2100):  (1)\n",
      "[ 2100,  2200):  (0)\n",
      "[ 2200,  2300):  (0)\n",
      "[ 2300,  2400):  (0)\n",
      "[ 2400,  2500):  (1)\n",
      "[ 2500,  2600):  (0)\n",
      "[ 2600,  2700):  (0)\n",
      "[ 2700,  2800):  (0)\n",
      "[ 2800,  2900):  (0)\n",
      "[ 2900,  3000):  (0)\n",
      "[ 3000,  3100):  (0)\n",
      "[ 3100,  3200):  (0)\n",
      "[ 3200,  3300):  (0)\n",
      "[ 3300,  3400):  (0)\n",
      "[ 3400,  3500):  (0)\n",
      "[ 3500,  3600):  (0)\n",
      "[ 3600,  3700):  (0)\n",
      "[ 3700,  3800):  (0)\n",
      "[ 3800,  3900):  (0)\n",
      "[ 3900,  4000):  (0)\n",
      "[ 4000,  4100):  (0)\n",
      "[ 4100,  4200):  (0)\n",
      "[ 4200,  4300):  (1)\n",
      "[ 4300,  4400):  (0)\n",
      "[ 4400,  4500):  (0)\n",
      "[ 4500,  4600):  (0)\n",
      "[ 4600,  4700):  (1)\n",
      "[ 4700,  4800):  (0)\n",
      "[ 4800,  4900):  (0)\n",
      "[ 4900,  5000):  (0)\n",
      "[ 5000,  5100):  (0)\n",
      "[ 5100,  5200):  (0)\n",
      "[ 5200,  5300):  (0)\n",
      "[ 5300,  5400):  (0)\n",
      "[ 5400,  5500):  (0)\n",
      "[ 5500,  5600):  (0)\n",
      "[ 5600,  5700):  (0)\n",
      "[ 5700,  5800):  (0)\n",
      "[ 5800,  5900):  (0)\n",
      "[ 5900,  6000):  (0)\n",
      "[ 6000,  6100):  (0)\n",
      "[ 6100,  6200):  (0)\n",
      "[ 6200,  6300):  (0)\n",
      "[ 6300,  6400):  (0)\n",
      "[ 6400,  6500):  (0)\n",
      "[ 6500,  6600):  (0)\n",
      "[ 6600,  6700):  (0)\n",
      "[ 6700,  6800):  (1)\n",
      "[ 6800,  6900):  (0)\n",
      "[ 6900,  7000):  (0)\n",
      "[ 7000,  7100):  (0)\n",
      "[ 7100,  7200):  (0)\n",
      "[ 7200,  7300):  (0)\n",
      "[ 7300,  7400):  (0)\n",
      "[ 7400,  7500):  (0)\n",
      "[ 7500,  7600):  (1)\n",
      "[ 7600,  7700):  (0)\n",
      "[ 7700,  7800):  (0)\n",
      "[ 7800,  7900):  (0)\n",
      "[ 7900,  8000):  (0)\n",
      "[ 8000,  8100):  (0)\n",
      "[ 8100,  8200):  (0)\n",
      "[ 8200,  8300):  (0)\n",
      "[ 8300,  8400):  (0)\n",
      "[ 8400,  8500):  (0)\n",
      "[ 8500,  8600):  (0)\n",
      "[ 8600,  8700):  (0)\n",
      "[ 8700,  8800):  (1)\n",
      "[ 8800,  8900):  (0)\n",
      "[ 8900,  9000):  (0)\n",
      "[ 9000,  9100):  (0)\n",
      "[ 9100,  9200):  (0)\n",
      "[ 9200,  9300):  (0)\n",
      "[ 9300,  9400):  (0)\n",
      "[ 9400,  9500):  (0)\n",
      "[ 9500,  9600):  (0)\n",
      "[ 9600,  9700):  (0)\n",
      "[ 9700,  9800):  (0)\n",
      "[ 9800,  9900):  (0)\n",
      "[ 9900, 10000):  (0)\n",
      "[10000, 10100):  (0)\n",
      "[10100, 10200):  (0)\n",
      "[10200, 10300):  (0)\n",
      "[10300, 10400):  (0)\n",
      "[10400, 10500):  (0)\n",
      "[10500, 10600):  (0)\n",
      "[10600, 10700):  (0)\n",
      "[10700, 10800):  (0)\n",
      "[10800, 10900):  (0)\n",
      "[10900, 11000):  (0)\n",
      "[11000, 11100):  (0)\n",
      "[11100, 11200):  (0)\n",
      "[11200, 11300):  (0)\n",
      "[11300, 11400):  (0)\n",
      "[11400, 11500):  (0)\n",
      "[11500, 11600):  (0)\n",
      "[11600, 11700):  (0)\n",
      "[11700, 11800):  (0)\n",
      "[11800, 11900):  (0)\n",
      "[11900, 12000):  (0)\n",
      "[12000, 12100):  (0)\n",
      "[12100, 12200):  (0)\n",
      "[12200, 12300):  (0)\n",
      "[12300, 12400):  (0)\n",
      "[12400, 12500):  (0)\n",
      "[12500, 12600):  (0)\n",
      "[12600, 12700):  (0)\n",
      "[12700, 12800):  (0)\n",
      "[12800, 12900):  (0)\n",
      "[12900, 13000):  (0)\n",
      "[13000, 13100):  (0)\n",
      "[13100, 13200):  (0)\n",
      "[13200, 13300):  (0)\n",
      "[13300, 13400):  (0)\n",
      "[13400, 13500):  (0)\n",
      "[13500, 13600):  (0)\n",
      "[13600, 13700):  (0)\n",
      "[13700, 13800):  (0)\n",
      "[13800, 13900):  (0)\n",
      "[13900, 14000):  (0)\n",
      "[14000, 14100):  (0)\n",
      "[14100, 14200):  (0)\n",
      "[14200, 14300):  (0)\n",
      "[14300, 14400):  (0)\n",
      "[14400, 14500):  (0)\n",
      "[14500, 14600):  (0)\n",
      "[14600, 14700):  (0)\n",
      "[14700, 14800):  (0)\n",
      "[14800, 14900):  (0)\n",
      "[14900, 15000):  (0)\n",
      "[15000, 15100):  (0)\n",
      "[15100, 15200):  (1)\n",
      "[15200, 15300):  (0)\n",
      "[15300, 15400):  (0)\n",
      "[15400, 15500):  (0)\n",
      "[15500, 15600):  (0)\n",
      "[15600, 15700):  (0)\n",
      "[15700, 15800):  (0)\n",
      "[15800, 15900):  (0)\n",
      "[15900, 16000):  (0)\n",
      "[16000, 16100):  (0)\n",
      "[16100, 16200):  (0)\n",
      "[16200, 16300):  (0)\n",
      "[16300, 16400):  (0)\n",
      "[16400, 16500):  (0)\n",
      "[16500, 16600):  (0)\n",
      "[16600, 16700):  (0)\n",
      "[16700, 16800):  (0)\n",
      "[16800, 16900):  (0)\n",
      "[16900, 17000):  (1)\n",
      "[17000, 17100):  (0)\n",
      "[17100, 17200):  (0)\n",
      "[17200, 17300):  (0)\n",
      "[17300, 17400):  (0)\n",
      "[17400, 17500):  (0)\n",
      "[17500, 17600):  (0)\n",
      "[17600, 17700):  (0)\n",
      "[17700, 17800):  (0)\n",
      "[17800, 17900):  (0)\n",
      "[17900, 18000):  (0)\n",
      "[18000, 18100):  (0)\n",
      "[18100, 18200):  (0)\n",
      "[18200, 18300):  (0)\n",
      "[18300, 18400):  (0)\n",
      "[18400, 18500):  (0)\n",
      "[18500, 18600):  (0)\n",
      "[18600, 18700):  (0)\n",
      "[18700, 18800):  (0)\n",
      "[18800, 18900):  (0)\n",
      "[18900, 19000):  (0)\n",
      "[19000, 19100):  (0)\n",
      "[19100, 19200):  (0)\n",
      "[19200, 19300):  (0)\n",
      "[19300, 19400):  (0)\n",
      "[19400, 19500):  (0)\n",
      "[19500, 19600):  (0)\n",
      "[19600, 19700):  (0)\n",
      "[19700, 19800):  (0)\n",
      "[19800, 19900):  (0)\n",
      "[19900, 20000):  (0)\n",
      "[20000, 20100):  (0)\n",
      "[20100, 20200):  (0)\n",
      "[20200, 20300):  (0)\n",
      "[20300, 20400):  (0)\n",
      "[20400, 20500):  (0)\n",
      "[20500, 20600):  (1)\n"
     ]
    }
   ],
   "source": [
    "print(h)"
   ]
  },
  {
   "cell_type": "code",
   "execution_count": 16,
   "metadata": {},
   "outputs": [],
   "source": [
    "b = list(h.bins())"
   ]
  },
  {
   "cell_type": "code",
   "execution_count": 38,
   "metadata": {},
   "outputs": [],
   "source": [
    "bins = np.array([i[0] for i in b][0:10])\n",
    "vals = np.array([i[-1] for i in b])"
   ]
  },
  {
   "cell_type": "code",
   "execution_count": 39,
   "metadata": {},
   "outputs": [],
   "source": [
    "vals_freq = (vals / np.sum(vals))[0:10]"
   ]
  },
  {
   "cell_type": "code",
   "execution_count": 40,
   "metadata": {},
   "outputs": [
    {
     "data": {
      "text/plain": [
       "array([9.02237441e-01, 7.80755547e-02, 1.47635692e-02, 3.43213480e-03,\n",
       "       9.00904763e-04, 2.92135671e-04, 1.26163413e-04, 6.12443755e-05,\n",
       "       4.10337316e-05, 2.75599690e-05])"
      ]
     },
     "execution_count": 40,
     "metadata": {},
     "output_type": "execute_result"
    }
   ],
   "source": [
    "vals_freq"
   ]
  },
  {
   "cell_type": "code",
   "execution_count": null,
   "metadata": {},
   "outputs": [],
   "source": [
    "degrees = [G.degree(n) for n in G.vs if G.degree(n) < 1000]"
   ]
  },
  {
   "cell_type": "code",
   "execution_count": 51,
   "metadata": {},
   "outputs": [
    {
     "name": "stderr",
     "output_type": "stream",
     "text": [
      "C:\\Users\\timod\\Anaconda3\\lib\\site-packages\\seaborn\\distributions.py:2619: FutureWarning: `distplot` is a deprecated function and will be removed in a future version. Please adapt your code to use either `displot` (a figure-level function with similar flexibility) or `histplot` (an axes-level function for histograms).\n",
      "  warnings.warn(msg, FutureWarning)\n"
     ]
    },
    {
     "data": {
      "image/png": "[encoded data removed]",
      "text/plain": [
       "<Figure size 640x480 with 1 Axes>"
      ]
     },
     "metadata": {},
     "output_type": "display_data"
    }
   ],
   "source": [
    "sns.distplot(degrees)\n",
    "plt.ylabel('Frequency')\n",
    "plt.xlabel('Degree')\n",
    "plt.show()"
   ]
  },
  {
   "cell_type": "code",
   "execution_count": 24,
   "metadata": {},
   "outputs": [
    {
     "data": {
      "image/png": "[encoded data removed]",
      "text/plain": [
       "<Figure size 640x480 with 1 Axes>"
      ]
     },
     "metadata": {},
     "output_type": "display_data"
    }
   ],
   "source": [
    "plt.bar(bins, vals)\n",
    "plt.xlim(left=0, right=1000)\n",
    "plt.ylim(bottom=0, top=1000)\n",
    "plt.show()"
   ]
  },
  {
   "cell_type": "code",
   "execution_count": null,
   "metadata": {},
   "outputs": [],
   "source": [
    "def plot_degree_dist(G):\n",
    "    degrees = [G.degree(n) for n in G.nodes()]\n",
    "    sns.distplot(degrees)\n",
    "    plt.ylabel('Frequency')\n",
    "    plt.xlabel('Degree')\n",
    "    plt.show()"
   ]
  },
  {
   "cell_type": "code",
   "execution_count": null,
   "metadata": {},
   "outputs": [],
   "source": [
    "plot_degree_dist(nG)"
   ]
  }
 ],
 "metadata": {
  "interpreter": {
   "hash": "1fb8e078cb962540c7e7ee51bf113dc58305575cec4abc5de20bbf9c14466811"
  },
  "kernelspec": {
   "display_name": "Python 3.7.6 ('base')",
   "language": "python",
   "name": "python3"
  },
  "language_info": {
   "codemirror_mode": {
    "name": "ipython",
    "version": 3
   },
   "file_extension": ".py",
   "mimetype": "text/x-python",
   "name": "python",
   "nbconvert_exporter": "python",
   "pygments_lexer": "ipython3",
   "version": "3.7.6"
  },
  "orig_nbformat": 4
 },
 "nbformat": 4,
 "nbformat_minor": 2
}
