{
 "cells": [
  {
   "cell_type": "code",
   "execution_count": 98,
   "metadata": {},
   "outputs": [],
   "source": [
    "import networkx as nx\n",
    "import numpy as np\n",
    "import pandas as pd\n",
    "import igraph as ig\n",
    "import matplotlib.pyplot as plt\n",
    "import seaborn as sns\n",
    "from synthetic_networks.random_network import *\n",
    "from synthetic_networks.bba import *\n",
    "from synthetic_networks.bba_homophily import *\n",
    "from synthetic_networks.dpah import *\n",
    "import itertools\n",
    "from data_loader import *\n",
    "from fast_pagerank import pagerank_power\n",
    "import random\n",
    "from collections import Counter\n",
    "import pickle\n",
    "from numpy import inf\n",
    "\n",
    "import os\n",
    "import powerlaw\n",
    "import numpy as np\n",
    "import pandas as pd\n",
    "import networkx as nx\n",
    "from joblib import delayed\n",
    "from joblib import Parallel\n",
    "from collections import Counter\n",
    "from fast_pagerank import pagerank_power\n",
    "\n",
    "\n",
    "# sns.set()"
   ]
  },
  {
   "cell_type": "code",
   "execution_count": 2,
   "metadata": {},
   "outputs": [],
   "source": [
    "# G = DPAH(N=10000, \n",
    "#              fm=0.2, \n",
    "#              d=0.001,\n",
    "#              plo_M=2.5, \n",
    "#              plo_m=2.5, \n",
    "#              h_MM=0.8, \n",
    "#              h_mm=0.2, \n",
    "#              verbose=False)"
   ]
  },
  {
   "cell_type": "code",
   "execution_count": 12,
   "metadata": {},
   "outputs": [],
   "source": [
    "# num_nodes, min-maj split, homophily maj, homophily min\n",
    "nx.write_gpickle(G, config.ROOT+'nx_DPAH_10000_0208_0802.pkl')"
   ]
  },
  {
   "cell_type": "markdown",
   "metadata": {},
   "source": [
    "### Analysis"
   ]
  },
  {
   "cell_type": "code",
   "execution_count": 100,
   "metadata": {},
   "outputs": [],
   "source": [
    "BIGNET = 11000\n",
    "EXT = '.gpickle'\n",
    "TOPK = 3\n",
    "\n",
    "def _ppr(node_index, A, p, top):\n",
    "    pp = np.zeros(A.shape[0])\n",
    "    pp[node_index] = A.shape[0]\n",
    "    pr = pagerank_power(A, p=p, personalize=pp)\n",
    "    pr = pr.argsort()[-top-1:][::-1]\n",
    "    #time.sleep(0.01)\n",
    "    return pr[pr!=node_index][:top]\n",
    "\n",
    "def get_circle_of_trust_per_node(A, p=0.85, top=10, num_cores=40):\n",
    "    return Parallel(n_jobs=num_cores)(delayed(_ppr)(node_index, A, p, top) for node_index in np.arange(A.shape[0]))\n",
    "\n",
    "def frequency_by_circle_of_trust(A, cot_per_node=None, p=0.85, top=10, num_cores=40):\n",
    "    results = cot_per_node if cot_per_node is not None else get_circle_of_trust_per_node(A, p, top, num_cores)\n",
    "    unique_elements, counts_elements = np.unique(np.concatenate(results), return_counts=True)\n",
    "    del(results)\n",
    "    return [ 0 if node_index not in unique_elements else counts_elements[np.argwhere(unique_elements == node_index)[0, 0]] for node_index in np.arange(A.shape[0])]\n",
    "\n",
    "def _salsa(node_index, cot, A, top=10):\n",
    "    BG = nx.Graph()\n",
    "    BG.add_nodes_from(['h{}'.format(vi) for vi in cot], bipartite=0)  # hubs\n",
    "    edges = [('h{}'.format(vi), int(vj)) for vi in cot for vj in np.argwhere(A[vi,:] != 0 )[:,1]]\n",
    "    BG.add_nodes_from(set([e[1] for e in edges]), bipartite=1)  # authorities\n",
    "    BG.add_edges_from(edges)\n",
    "    centrality = Counter({n: c for n, c in nx.eigenvector_centrality_numpy(BG).items() if type(n) == int\n",
    "                                                                                       and n not in cot\n",
    "                                                                                       and n != node_index\n",
    "                                                                                       and n not in np.argwhere(A[node_index,:] != 0 )[:,1] })\n",
    "    del(BG)\n",
    "    #time.sleep(0.01)\n",
    "    return np.asarray([n for n, pev in centrality.most_common(top)])[:top]\n",
    "\n",
    "def frequency_by_who_to_follow(A, cot_per_node=None, p=0.85, top=10, num_cores=40):\n",
    "    cot_per_node = cot_per_node if cot_per_node is not None else get_circle_of_trust_per_node(A, p, top, num_cores)\n",
    "    results = Parallel(n_jobs=num_cores)(delayed(_salsa)(node_index, cot, A, top) for node_index, cot in enumerate(cot_per_node))\n",
    "    unique_elements, counts_elements = np.unique(np.concatenate(results), return_counts=True)\n",
    "    del(results)\n",
    "    return [0 if node_index not in unique_elements else counts_elements[np.argwhere(unique_elements == node_index)[0, 0]] for node_index in np.arange(A.shape[0])]\n",
    "\n",
    "def frequency_by_who_to_follow2(A, cot_per_node=None, p=0.85, top=10, num_cores=40):\n",
    "    cot_per_node = cot_per_node if cot_per_node is not None else get_circle_of_trust_per_node(A, p, top, num_cores)\n",
    "    results = Parallel(n_jobs=num_cores)(delayed(_salsa)(node_index, cot, A, top) for node_index, cot in enumerate(cot_per_node))\n",
    "    unique_elements, counts_elements = np.unique(np.concatenate(results), return_counts=True)\n",
    "    # del(results)\n",
    "    return results\n",
    "\n",
    "def who_to_follow_rank(A, njobs=1):\n",
    "    if A.shape[0] < BIGNET:\n",
    "        return wtf_small(A, njobs)\n",
    "    else:\n",
    "        # TODO: implement optimal (or faster) solution for big net\n",
    "        return wtf_small(A, njobs)\n",
    "        \n",
    "def wtf_small(A, njobs):\n",
    "    # utils.printf('cot_per_node...')\n",
    "    cot_per_node = get_circle_of_trust_per_node(A, p=0.85, top=TOPK, num_cores=njobs)\n",
    "\n",
    "    # utils.printf('cot...')\n",
    "    cot = frequency_by_circle_of_trust(A, cot_per_node=cot_per_node, p=0.85, top=TOPK, num_cores=njobs)\n",
    "\n",
    "    # utils.printf('wtf...')\n",
    "    wtf = frequency_by_who_to_follow2(A, cot_per_node=cot_per_node, p=0.85, top=TOPK, num_cores=njobs)\n",
    "    return wtf"
   ]
  },
  {
   "cell_type": "code",
   "execution_count": null,
   "metadata": {},
   "outputs": [],
   "source": []
  },
  {
   "cell_type": "code",
   "execution_count": 3,
   "metadata": {},
   "outputs": [],
   "source": [
    "def twitter_wtf(network, sparse_adj, node_id, k_for_circle_of_trust=20, cot_factor= 0.05, tol=1e-8,\n",
    "                damping_factor=.85, k_for_recommendation=-1):\n",
    "    \"\"\"This method aims to realize a link prediction algorithm used by Twitter to perform\n",
    "        the WTF recommendation on the platform.\n",
    "        The algorithm can be seen at 'https://web.stanford.edu/~rezab/papers/wtf_overview.pdf'.\n",
    "        The algorithm consists of two phases:\n",
    "            1) Compute the circle of trust for the user you want to recommend(top-k nodes in PPR)\n",
    "            2) Compute the top-k nodes using score propagation\n",
    "    \"\"\"\n",
    "    k_for_circle_of_trust = min(int(network.number_of_nodes()*cot_factor), k_for_circle_of_trust)\n",
    "    #1st phase: Compute circle of trust of user according to Personalized PageRank\n",
    "    personalize = np.zeros(shape=network.number_of_nodes())\n",
    "    personalize[node_id] = 1\n",
    "    values_of_personalized_pr = pagerank_power(sparse_adj, p=damping_factor, personalize=personalize, tol=1e-6)\n",
    "    circle_of_trust = values_of_personalized_pr.argsort()[-k_for_circle_of_trust:][::-1]\n",
    "\n",
    "    #2nd phase: init bipartite graph\n",
    "    bipartite_graph = nx.DiGraph()\n",
    "    #add nodes belonging to the circle of trust as hubs(H)\n",
    "    for node in circle_of_trust:\n",
    "        #these nodes are \"hubs\"(H) in the bipartite graph\n",
    "        bipartite_graph.add_node(str(node)+\"H\")\n",
    "    #add out neighbors of nodes belonging to the circle of trust as authorities(A)\n",
    "    for node in circle_of_trust:\n",
    "        for out_neighbor in network.neighbors(node):\n",
    "            #direction is inverted for a matter of simplicity in the sequent phases\n",
    "            bipartite_graph.add_edge(str(out_neighbor)+\"A\", str(node)+\"H\")\n",
    "\n",
    "    #retrieve adjacency matrix of bipartite graph\n",
    "    A = nx.to_numpy_array(bipartite_graph)\n",
    "\n",
    "    #retrieve list of all nodes splitted by authority or hub\n",
    "    all_nodes = list(bipartite_graph.nodes())\n",
    "    hub_nodes = [int(x[:-1]) for x in all_nodes if 'H' in x]\n",
    "    authority_nodes = [int(x[:-1]) for x in all_nodes if 'A' in x]\n",
    "\n",
    "    #3rd phase: start building ingredients of our SALSA algorithm\n",
    "    #these are the transition matrices determined by the bipartite graph\n",
    "    S_prime = A[len(hub_nodes):, :][:, :len(hub_nodes)].copy()\n",
    "    R_prime = S_prime.T.copy()\n",
    "    #normalize both matrices\n",
    "    denominator_S_prime = S_prime.sum(axis=0)\n",
    "    denominator_S_prime[denominator_S_prime == 0] = 1\n",
    "    S_prime = S_prime / denominator_S_prime\n",
    "    denominator_R_prime = R_prime.sum(axis=0)\n",
    "    denominator_R_prime[denominator_R_prime == 0] = 1\n",
    "    R_prime = R_prime / denominator_R_prime\n",
    "    #these are the vectors which contain the score of similarity\n",
    "    #and relevance\n",
    "    s = np.zeros(shape=(len(hub_nodes), 1), dtype=np.float)\n",
    "    r = np.zeros(shape=(len(authority_nodes), 1), dtype=np.float)\n",
    "\n",
    "    #at the beginning of the procedure we put the similarity\n",
    "    #of the user we want to give the recommendation equal to 1\n",
    "    index_of_node_to_recommend = np.where(circle_of_trust == node_id)[0][0]\n",
    "    s[index_of_node_to_recommend] = 1.\n",
    "\n",
    "    #init damping vector\n",
    "    alpha = 1 - damping_factor\n",
    "    alpha_vector = np.zeros(shape=(len(hub_nodes), 1), dtype=np.float)\n",
    "    alpha_vector[index_of_node_to_recommend] = alpha\n",
    "\n",
    "    #4th phase: run the algorithm\n",
    "    convergence = False\n",
    "    while not convergence:\n",
    "        s_ = s.copy()\n",
    "        r_ = r.copy()\n",
    "        r_ = S_prime.dot(s)\n",
    "        s_ = alpha_vector + (1 - alpha)*(R_prime.dot(r))\n",
    "        #compute difference and check if convergence has been reached\n",
    "        diff = abs(s_ - s)\n",
    "        if np.linalg.norm(diff) < tol:\n",
    "            convergence=True\n",
    "        #update real vectors\n",
    "        s = s_\n",
    "        r = r_\n",
    "\n",
    "    #5th phase: order by score and delete neighbors of node to be recommended\n",
    "    #of course we don't want to recommend people that the user already follow\n",
    "    neighbors_to_not_recommend = nx.neighbors(network, node_id)\n",
    "    relevance_scores = r.flatten()\n",
    "    if k_for_recommendation == -1:\n",
    "        k_for_recommendation = 0 #Take all the nodes!\n",
    "\n",
    "    neighbors_to_not_recommend = set(neighbors_to_not_recommend)\n",
    "    results = []\n",
    "    for node in relevance_scores.argsort()[::-1]:\n",
    "        if node not in neighbors_to_not_recommend and node != node_id:\n",
    "            results.append(((node_id, node))) # , relevance_scores[node]\n",
    "            if len(results) == k_for_recommendation:\n",
    "                break\n",
    "    return results"
   ]
  },
  {
   "cell_type": "code",
   "execution_count": 111,
   "metadata": {},
   "outputs": [],
   "source": [
    "class Analyzer:\n",
    "\n",
    "    def __init__(self, network, class_name='m', min_label=1, maj_label=0):\n",
    "        self.network = network\n",
    "        self.min_label, self.maj_label = min_label, maj_label\n",
    "        # self.min_nodes, self.maj_nodes = self.get_nodes_per_class()\n",
    "        # self.post_network = None\n",
    "        self.class_name = class_name\n",
    "        self.metrics_dict = {}\n",
    "    \n",
    "    def get_nodes_per_class(self, network):\n",
    "        \n",
    "        # class_\n",
    "        if self.class_name == 'm':\n",
    "            min_nodes_ig = network.vs.select(m=self.min_label)\n",
    "            maj_nodes_ig = network.vs.select(m=self.maj_label)\n",
    "\n",
    "        elif self.class_name == 'class_':\n",
    "            min_nodes_ig = network.vs.select(class_=self.min_label)\n",
    "            maj_nodes_ig = network.vs.select(class_=self.maj_label)\n",
    "        \n",
    "        elif self.class_name == 'age':\n",
    "            min_nodes_ig = network.vs.select(age=self.min_label)\n",
    "            maj_nodes_ig = network.vs.select(age=self.maj_label)\n",
    "\n",
    "        return min_nodes_ig, maj_nodes_ig\n",
    "    \n",
    "    def get_group_betweenness(self, network, is_pre=True, verbose=True):\n",
    "\n",
    "        min_nodes, maj_nodes = self.get_nodes_per_class(network)\n",
    "\n",
    "        bc_full = network.betweenness(directed=True)\n",
    "        network.vs['bc'] = bc_full\n",
    "\n",
    "        min_bc = np.average(np.array(min_nodes.get_attribute_values('bc')))\n",
    "        maj_bc = np.average(np.array(maj_nodes.get_attribute_values('bc')))\n",
    "        \n",
    "        if is_pre:\n",
    "            self.metrics_dict['bc'] = {'pre': {}, 'post': {}}\n",
    "            self.metrics_dict['bc']['pre'] = {'min': min_bc, 'maj': maj_bc}\n",
    "        else:\n",
    "            self.metrics_dict['bc']['post'] = {'min': min_bc, 'maj': maj_bc}\n",
    "\n",
    "        if verbose:\n",
    "            print(f\"Minority BC: {min_bc}\")\n",
    "            print(f\"Majority BC: {maj_bc}\")\n",
    "\n",
    "        return min_bc, maj_bc\n",
    "    \n",
    "    def get_group_closeness(self, network, is_pre=True, verbose=True):\n",
    "\n",
    "        min_nodes, maj_nodes = self.get_nodes_per_class(network)\n",
    "\n",
    "        cc_full = network.closeness()\n",
    "        network.vs['cc'] = cc_full\n",
    "\n",
    "        min_cc = np.average(np.array(min_nodes.get_attribute_values('cc')))\n",
    "        maj_cc = np.average(np.array(maj_nodes.get_attribute_values('cc')))\n",
    "\n",
    "        if is_pre:\n",
    "            self.metrics_dict['cc'] = {'pre': {}, 'post': {}}\n",
    "            self.metrics_dict['cc']['pre'] = {'min': min_cc, 'maj': maj_cc}\n",
    "        else:\n",
    "            self.metrics_dict['cc']['post'] = {'min': min_cc, 'maj': maj_cc}\n",
    "\n",
    "        if verbose:\n",
    "            print(f\"Minority CC: {min_cc}\")\n",
    "            print(f\"Majority CC: {maj_cc}\")\n",
    "\n",
    "        return min_cc, maj_cc\n",
    "    \n",
    "    def get_group_eigenvector_centrality(self, network, is_pre=True, verbose=True):\n",
    "\n",
    "        min_nodes, maj_nodes = self.get_nodes_per_class(network)\n",
    "\n",
    "        evc_full = network.eigenvector_centrality()\n",
    "        network.vs['evc'] = evc_full\n",
    "\n",
    "        min_evc = np.average(np.array(min_nodes.get_attribute_values('evc')))\n",
    "        maj_evc = np.average(np.array(maj_nodes.get_attribute_values('evc')))\n",
    "        \n",
    "        if is_pre:\n",
    "            self.metrics_dict['evc'] = {'pre': {}, 'post': {}}\n",
    "            self.metrics_dict['evc']['pre'] = {'min': min_evc, 'maj': maj_evc}\n",
    "        else:\n",
    "            self.metrics_dict['evc']['post'] = {'min': min_evc, 'maj': maj_evc}\n",
    "\n",
    "        if verbose:\n",
    "            print(f\"Minority EVC: {min_evc} / normalized: {min_evc/(min_evc+maj_evc)}\")\n",
    "            print(f\"Majority EVC: {maj_evc} / normalized: {maj_evc/(min_evc+maj_evc)}\")\n",
    "\n",
    "        return min_evc, maj_evc\n",
    "    \n",
    "    def get_group_degree_centrality(self, network, is_pre=True, verbose=True):\n",
    "\n",
    "        min_nodes, maj_nodes = self.get_nodes_per_class(network)\n",
    "        all_ids = list(min_nodes) + list(maj_nodes)\n",
    "\n",
    "        dc_full = network.degree(vertices=all_ids, mode='in')\n",
    "        network.vs['dc'] = dc_full\n",
    "\n",
    "        min_dc = np.average(np.array(min_nodes.get_attribute_values('dc')))\n",
    "        maj_dc = np.average(np.array(maj_nodes.get_attribute_values('dc')))\n",
    "        \n",
    "        if is_pre:\n",
    "            self.metrics_dict['dc'] = {'pre': {}, 'post': {}}\n",
    "            self.metrics_dict['dc']['pre'] = {'min': min_dc, 'maj': maj_dc}\n",
    "        else:\n",
    "            self.metrics_dict['dc']['post'] = {'min': min_dc, 'maj': maj_dc}\n",
    "\n",
    "        if verbose:\n",
    "            print(f\"Minority DC: {min_dc}\")\n",
    "            print(f\"Majority DC: {maj_dc}\")\n",
    "\n",
    "        return min_dc, maj_dc\n",
    "    \n",
    "    def remove_zero_degree(self, verbose=False):\n",
    "        self.to_remove = [node for node, degree in dict(self.network.degree()).items() if degree < 1]\n",
    "        self.network.remove_nodes_from(self.to_remove)\n",
    "\n",
    "        if verbose:\n",
    "            print(f\"Removed {len(self.to_remove)} nodes with degree zero.\")\n",
    "        return self.to_remove\n",
    "\n",
    "    def add_nodes(self):\n",
    "        self.network.add_nodes_from(self.to_remove)\n",
    "        # print(f\"Added {len(self.to_remove)} nodes.\")\n",
    "\n",
    "    def sample_and_delete_edges(self, num_to_sample=100, remove_edges=True):\n",
    "        edge_list = list(self.network.edges())\n",
    "\n",
    "        self.random_edges_to_delete = random.sample(edge_list, num_to_sample)\n",
    "        nodes_with_del_out_edge = [tup[0] for tup in self.random_edges_to_delete]\n",
    "        self.unique_nodes = list(set(nodes_with_del_out_edge))\n",
    "\n",
    "        self.nodes_with_edge_count = Counter(node for node in nodes_with_del_out_edge)\n",
    "\n",
    "        if remove_edges:\n",
    "            self.network.remove_edges_from(self.random_edges_to_delete)\n",
    "\n",
    "            # print(f'# nodes with deleted out edge {len(nodes_with_del_out_edge)}')\n",
    "            print(f'# unique nodes with deleted out edge: {len(self.unique_nodes)}')\n",
    "        else:\n",
    "            print(f'# unique nodes with sampled out edge: {len(self.unique_nodes)} - No edges where deleted.')\n",
    "\n",
    "        return self.random_edges_to_delete, self.unique_nodes, self.nodes_with_edge_count\n",
    "\n",
    "    def reconstruct_edges(self, strategy='bulk', k_for_circle_of_trust=20, salsa_new=True):\n",
    "    \n",
    "        if strategy == 'consecutively':\n",
    "            self.salsa_edges_per_node = {}\n",
    "            self.salsa_all_edges = []\n",
    "            self.top_10pct_frac_min = []\n",
    "            self.edge_type = {'mm': 0,\n",
    "                            'MM': 0,\n",
    "                            'mM': 0,\n",
    "                            'Mm': 0}\n",
    "            num_edges_added = 0\n",
    "            for node in self.unique_nodes:\n",
    "                self.salsa_edges_per_node[node] = []\n",
    "                for k in range(self.nodes_with_edge_count[node]):\n",
    "\n",
    "                    if salsa_new:\n",
    "                        wtf = who_to_follow_rank(A=nx.adjacency_matrix(self.network))\n",
    "                        wtf_node_i = list(wtf[node])\n",
    "                        pick = random.choice(wtf_node_i)[0]\n",
    "                        self.network.add_edge(node, pick)\n",
    "\n",
    "                        top_10_classes = [self.network.nodes()[node][self.class_name] for node in wtf_node_i]\n",
    "                        frac_min = sum(top_10_classes) / len(top_10_classes)\n",
    "                        frac_maj = 1-frac_min\n",
    "                        self.top_10pct_frac_min.append(frac_min)\n",
    "\n",
    "                        self.salsa_edges_per_node[node].append(pick)\n",
    "                        self.salsa_all_edges.append(pick)\n",
    "                        \n",
    "                        num_edges_added += 1\n",
    "                        print(f'num edges added: {num_edges_added}')\n",
    "\n",
    "\n",
    "                    else:\n",
    "                        top_all = twitter_wtf(network=self.network, sparse_adj=nx.adjacency_matrix(self.network), node_id=node, k_for_recommendation=-1)\n",
    "                        top_1 = top_all[0]\n",
    "                        self.network.add_edge(node, top_1[1])\n",
    "                        \n",
    "                        top_10pct = top_all[:int(len(top_all)*0.1)]\n",
    "                        top_10pct_classes = [self.network.nodes()[edge[1]][self.class_name] for edge in top_10pct]\n",
    "                        frac_min = sum(top_10pct_classes) / len(top_10pct_classes)\n",
    "                        frac_maj = 1-frac_min\n",
    "                        self.top_10pct_frac_min.append(frac_min)\n",
    "\n",
    "                        self.salsa_edges_per_node[node].append(top_1)\n",
    "                        self.salsa_all_edges.append(top_1)\n",
    "                        \n",
    "                        num_edges_added += 1\n",
    "                \n",
    "            for k in self.salsa_edges_per_node.keys():\n",
    "                class_k = self.network.nodes()[k][self.class_name]\n",
    "                for j in self.salsa_edges_per_node[k]:\n",
    "                    class_j = self.network.nodes()[j[-1]][self.class_name]\n",
    "\n",
    "                    if class_k == 1 and class_j == 1:\n",
    "                        self.edge_type['mm'] += 1\n",
    "                    elif class_k == 1 and class_j == 0:\n",
    "                        self.edge_type['mM'] += 1\n",
    "                    elif class_k == 0 and class_j == 1:\n",
    "                        self.edge_type['Mm'] += 1\n",
    "                    elif class_k == 0 and class_j == 0:\n",
    "                        self.edge_type['MM'] += 1\n",
    "\n",
    "\n",
    "            self.avg_frac_min, self.sd_frac_min = np.round(np.average(self.top_10pct_frac_min), 5), np.round(np.std(self.top_10pct_frac_min), 5)\n",
    "\n",
    "\n",
    "\n",
    "        elif strategy == 'bulk':\n",
    "            self.salsa_edges_per_node = {}\n",
    "            self.salsa_all_edges = []\n",
    "            num_edges_added = 0\n",
    "            for node in self.unique_nodes:\n",
    "\n",
    "                recommended_nodes = twitter_wtf(network=self.network, sparse_adj=nx.adjacency_matrix(self.network), node_id=node, k_for_circle_of_trust=k_for_circle_of_trust, k_for_recommendation=self.nodes_with_edge_count[node])\n",
    "                self.network.add_edges_from(recommended_nodes)\n",
    "                self.salsa_edges_per_node[node] = recommended_nodes\n",
    "                self.salsa_all_edges.append(recommended_nodes[0])\n",
    "                num_edges_added += len(recommended_nodes)\n",
    "        \n",
    "        elif strategy == 'random':\n",
    "            self.salsa_edges_per_node = {}\n",
    "            self.salsa_all_edges = []\n",
    "            num_edges_added = 0\n",
    "            self.all_nodes = list(self.network.nodes())\n",
    "            for node in self.unique_nodes:\n",
    "                \n",
    "                for i in range(self.nodes_with_edge_count[node]):\n",
    "                    pick = random.sample(self.all_nodes, 1)[0]\n",
    "\n",
    "                    self.network.add_edge(node, pick)\n",
    "                    self.salsa_edges_per_node[node] = pick\n",
    "                    self.salsa_all_edges.append(pick)\n",
    "                    num_edges_added += 1\n",
    "\n",
    "        self.overlap = len(list(set(self.random_edges_to_delete) & set(self.salsa_all_edges))) / len(self.random_edges_to_delete)\n",
    "        # print(f'Added {num_edges_added} edges.')\n",
    "        # print(f'Overlap SALSA <> deleted edges: {self.overlap}')\n",
    "\n",
    "        return self.salsa_edges_per_node, self.salsa_all_edges, self.overlap, self.edge_type, self.avg_frac_min\n",
    "\n",
    "    def add_edges(self, strategy='bulk', k_for_circle_of_trust=20):\n",
    "\n",
    "        if strategy == 'bulk':\n",
    "            self.salsa_edges_per_node = {}\n",
    "            self.salsa_all_edges = []\n",
    "            num_edges_added = 0\n",
    "            for node in self.unique_nodes:\n",
    "\n",
    "                recommended_nodes = twitter_wtf(network=self.network, sparse_adj=nx.adjacency_matrix(self.network), node_id=node, k_for_circle_of_trust=k_for_circle_of_trust, k_for_recommendation=self.nodes_with_edge_count[node])\n",
    "                self.network.add_edges_from(recommended_nodes)\n",
    "                self.salsa_edges_per_node[node] = recommended_nodes\n",
    "                self.salsa_all_edges.append(recommended_nodes[0])\n",
    "                num_edges_added += len(recommended_nodes)\n",
    "\n",
    "        elif strategy == 'random':\n",
    "            self.salsa_edges_per_node = {}\n",
    "            self.salsa_all_edges = []\n",
    "            num_edges_added = 0\n",
    "            self.all_nodes = list(self.network.nodes())\n",
    "            for node in self.unique_nodes:\n",
    "                \n",
    "                for z in range(self.nodes_with_edge_count[node]):\n",
    "                    pick = random.sample(self.all_nodes, 1)[0]\n",
    "\n",
    "                    self.network.add_edge(node, pick)\n",
    "                    self.salsa_edges_per_node[node] = pick\n",
    "                    self.salsa_all_edges.append(pick)\n",
    "                    num_edges_added += 1\n",
    "        \n",
    "        return self.salsa_edges_per_node, self.salsa_all_edges\n",
    "        \n",
    "\n",
    "    def get_metrics_report(self):\n",
    "        \n",
    "        for metric in self.metrics_dict.keys():\n",
    "            print(\"\")\n",
    "            print(f\"{metric} Evaluation\")\n",
    "            print(\"------------------------\")\n",
    "\n",
    "            for stage in self.metrics_dict[metric].keys():\n",
    "                print(\"\")\n",
    "                print(f\"{stage} intervention\")\n",
    "                print(\"---------------------\")\n",
    "                print(f\"Ratio min/maj values: {self.metrics_dict[metric][stage]['min']/self.metrics_dict[metric][stage]['maj']}\")\n",
    "                print(\"---------------------\")\n",
    "            print(\"------------------------\")\n",
    "\n",
    "    def get_relative_metric_changes(self, metric='all', round=5):\n",
    "\n",
    "        if metric == 'all':\n",
    "           \n",
    "            bc_vals = self.metrics_dict['bc']\n",
    "            print(\"Relative BC changes\")\n",
    "            print(\"---------------------------\")\n",
    "            print(f\"Majority change (pre->post) %: {np.round((bc_vals['post']['maj']/bc_vals['pre']['maj']-1)*100, round)}%\")\n",
    "            print(f\"Minority change (pre->post) %: {np.round((bc_vals['post']['min']/bc_vals['pre']['min']-1)*100, round)}%\")\n",
    "            print(\"\")\n",
    "        \n",
    "            cc_vals = self.metrics_dict['cc']\n",
    "            print(\"Relative CC changes\")\n",
    "            print(\"---------------------------\")\n",
    "            print(f\"Majority change (pre->post) %: {np.round((cc_vals['post']['maj']/cc_vals['pre']['maj']-1)*100, round)}%\")\n",
    "            print(f\"Minority change (pre->post) %: {np.round((cc_vals['post']['min']/cc_vals['pre']['min']-1)*100, round)}%\")\n",
    "            print(\"\")\n",
    "        \n",
    "            evc_vals = self.metrics_dict['evc']\n",
    "            print(\"Relative EVC changes\")\n",
    "            print(\"---------------------------\")\n",
    "            print(f\"Majority change (pre->post) %: {np.round((evc_vals['post']['maj']/evc_vals['pre']['maj']-1)*100, round)}%\")\n",
    "            print(f\"Minority change (pre->post) %: {np.round((evc_vals['post']['min']/evc_vals['pre']['min']-1)*100, round)}%\")\n",
    "            # print(f\"Normalized Majority change (pre->post) %: {np.round(((evc_vals['post']['maj']/(evc_vals['post']['maj']+evc_vals['post']['min']))/(evc_vals['pre']['maj']/(evc_vals['pre']['maj']+evc_vals['pre']['min']))-1)*100)}%\")\n",
    "            # print(f\"Normalized Minority change (pre->post) %: {np.round((evc_vals['post']['min']/(evc_vals['pre']['min']+evc_vals['pre']['maj'])-1)*100, round)}%\")\n",
    "            print(\"\")\n",
    "\n",
    "            dc_vals = self.metrics_dict['dc']\n",
    "            print(\"Relative DC changes\")\n",
    "            print(\"---------------------------\")\n",
    "            print(f\"Majority change (pre->post) %: {np.round((dc_vals['post']['maj']/dc_vals['pre']['maj']-1)*100, round)}%\")\n",
    "            print(f\"Minority change (pre->post) %: {np.round((dc_vals['post']['min']/dc_vals['pre']['min']-1)*100, round)}%\")\n",
    "            print(\"\")\n",
    "\n",
    "        elif metric == 'bc':\n",
    "            bc_vals = self.metrics_dict['bc']\n",
    "\n",
    "            print(\"Relative BC changes\")\n",
    "            print(\"---------------------------\")\n",
    "            print(f\"Majority change (pre->post) %: {np.round((bc_vals['post']['maj']/bc_vals['pre']['maj']-1)*100, round)}%\")\n",
    "            print(f\"Minority change (pre->post) %: {np.round((bc_vals['post']['min']/bc_vals['pre']['min']-1)*100, round)}%\")\n",
    "        \n",
    "        elif metric == 'cc':\n",
    "            cc_vals = self.metrics_dict['cc']\n",
    "            \n",
    "            print(\"Relative CC changes\")\n",
    "            print(\"---------------------------\")\n",
    "            print(f\"Majority change (pre->post) %: {np.round((cc_vals['post']['maj']/cc_vals['pre']['maj']-1)*100, round)}%\")\n",
    "            print(f\"Minority change (pre->post) %: {np.round((cc_vals['post']['min']/cc_vals['pre']['min']-1)*100, round)}%\")\n",
    "        \n",
    "        elif metric == 'evc':\n",
    "            evc_vals = self.metrics_dict['evc']\n",
    "            \n",
    "            print(\"Relative EVC changes\")\n",
    "            print(\"---------------------------\")\n",
    "            print(f\"Majority change (pre->post) %: {np.round((evc_vals['post']['maj']/evc_vals['pre']['maj']-1)*100, round)}%\")\n",
    "            print(f\"Minority change (pre->post) %: {np.round((evc_vals['post']['min']/evc_vals['pre']['min']-1)*100, round)}%\")\n",
    "        \n",
    "        elif metric == 'dc':\n",
    "            dc_vals = self.metrics_dict['dc']\n",
    "            \n",
    "            print(\"Relative DC changes\")\n",
    "            print(\"---------------------------\")\n",
    "            print(f\"Majority change (pre->post) %: {np.round((dc_vals['post']['maj']/dc_vals['pre']['maj']-1)*100, round)}%\")\n",
    "            print(f\"Minority change (pre->post) %: {np.round((dc_vals['post']['min']/dc_vals['pre']['min']-1)*100, round)}%\")"
   ]
  },
  {
   "cell_type": "code",
   "execution_count": 5,
   "metadata": {},
   "outputs": [],
   "source": [
    "def nx_to_ig(G):\n",
    "    return ig.Graph.from_networkx(G)"
   ]
  },
  {
   "cell_type": "code",
   "execution_count": 6,
   "metadata": {},
   "outputs": [],
   "source": [
    "def rename_class_attribute(G, from_='', to_=''):\n",
    "    class_ = G.vs()[from_]\n",
    "    G.vs[to_] = class_"
   ]
  },
  {
   "cell_type": "code",
   "execution_count": 7,
   "metadata": {},
   "outputs": [],
   "source": [
    "def remove_zero_degree(network, verbose=False):\n",
    "    to_remove = [node for node, degree in dict(network.degree()).items() if degree < 1]\n",
    "    network.remove_nodes_from(to_remove)\n",
    "\n",
    "    if verbose:\n",
    "        print(f\"Removed {len(to_remove)} nodes with degree zero.\")\n",
    "    return to_remove"
   ]
  },
  {
   "cell_type": "code",
   "execution_count": 8,
   "metadata": {},
   "outputs": [],
   "source": [
    "def sample_and_delete_edges(network, num_to_sample=100, remove_edges=True):\n",
    "    \n",
    "    edge_list = list(network.edges())\n",
    "\n",
    "    random_edges_to_delete = random.sample(edge_list, num_to_sample)\n",
    "    nodes_with_del_out_edge = [tup[0] for tup in random_edges_to_delete]\n",
    "    nodes_with_del_out_edge.append(883)\n",
    "    unique_nodes = list(set(nodes_with_del_out_edge))\n",
    "\n",
    "    nodes_with_edge_count = Counter(node for node in nodes_with_del_out_edge)\n",
    "\n",
    "    if remove_edges:\n",
    "        network.remove_edges_from(random_edges_to_delete)\n",
    "\n",
    "        print(f'# nodes with deleted out edge {len(nodes_with_del_out_edge)}')\n",
    "        print(f'# unique nodes with deleted out edge: {len(unique_nodes)}')\n",
    "    else:\n",
    "        print(f'# unique nodes with sampled out edge: {len(unique_nodes)} - No edges where deleted.')\n",
    "\n",
    "    return random_edges_to_delete, unique_nodes, nodes_with_edge_count"
   ]
  },
  {
   "cell_type": "code",
   "execution_count": 9,
   "metadata": {},
   "outputs": [],
   "source": [
    "def reconstruct_edges(network, nodes_with_edge_count, k_for_circle_of_trust=20):\n",
    "    salsa_edges_per_node = {}\n",
    "    salsa_all_edges = []\n",
    "    num_edges_added = 0\n",
    "    for node in unique_nodes:\n",
    "\n",
    "        recommended_nodes = twitter_wtf(network=network, sparse_adj=nx.adjacency_matrix(network), node_id=node, k_for_circle_of_trust=k_for_circle_of_trust, k_for_recommendation=nodes_with_edge_count[node])\n",
    "        network.add_edges_from(recommended_nodes)\n",
    "        salsa_edges_per_node[node] = recommended_nodes\n",
    "        salsa_all_edges.append(recommended_nodes[0])\n",
    "        num_edges_added += len(recommended_nodes)\n",
    "\n",
    "    return salsa_edges_per_node, salsa_all_edges"
   ]
  },
  {
   "cell_type": "code",
   "execution_count": 112,
   "metadata": {},
   "outputs": [],
   "source": [
    "def run_n_simulations(network_obj=None, network_file='', n=5, num_to_sample=10000, delete_edges=True, verbose=False, round=5, \n",
    "                      remove_zero_degree_nodes=True, class_name='m', min_label=1, maj_label=0,\n",
    "                      strategy='bulk', save_results=True, save_as='', to_txt=True, salsa_new=True):\n",
    "\n",
    "    \n",
    "\n",
    "    changes_dict_min = {'bc': [],\n",
    "                        'cc': [],\n",
    "                        'evc': [],\n",
    "                        'dc': [],\n",
    "                        'c_coeff': [],\n",
    "                        'aspl': []\n",
    "                        }\n",
    "\n",
    "    changes_dict_maj = {'bc': [],\n",
    "                        'cc': [],\n",
    "                        'evc': [],\n",
    "                        'dc': [],\n",
    "                        'c_coeff': [],\n",
    "                        'aspl': []\n",
    "                        }\n",
    "\n",
    "    recommended_nodes_dict = {}\n",
    "\n",
    "    edge_type_dict = {}\n",
    "\n",
    "    frac_mins_list = []\n",
    "\n",
    "    overlaps = []\n",
    "    \n",
    "\n",
    "    for i in range(n):\n",
    "\n",
    "        if network_file == '':\n",
    "            g = network_obj\n",
    "        else:\n",
    "            g = read_pkl_graph(network_file)\n",
    "       \n",
    "        g = reindex_nodes(g, name_as_str=False)\n",
    "\n",
    "        a = Analyzer(network=g, class_name=class_name, min_label=min_label, maj_label=maj_label)\n",
    "\n",
    "        if remove_zero_degree_nodes:\n",
    "            _ = a.remove_zero_degree()\n",
    "\n",
    "        if i == 0:\n",
    "            min_c_coeff, maj_c_coeff = get_avg_clustering_coefficient(network_obj=a.network, mode='zero', class_name=class_name, group_names=[min_label, maj_label])\n",
    "            min_aspl, maj_aspl = get_avg_sp_lengths(network_obj=a.network, mode='out', class_name=class_name, group_names=[min_label, maj_label])\n",
    "\n",
    "        g_pre = nx_to_ig(a.network)\n",
    "\n",
    "        _ = a.get_group_betweenness(g_pre, is_pre=True, verbose=verbose)\n",
    "        _ = a.get_group_closeness(g_pre, is_pre=True, verbose=verbose)\n",
    "        _ = a.get_group_eigenvector_centrality(g_pre, is_pre=True, verbose=verbose)\n",
    "        _ = a.get_group_degree_centrality(g_pre, is_pre=True, verbose=verbose)\n",
    "\n",
    "        if remove_zero_degree_nodes:\n",
    "            if len(a.to_remove) > 0:\n",
    "                a.add_nodes()\n",
    "        _ = a.sample_and_delete_edges(num_to_sample=num_to_sample, remove_edges=delete_edges)\n",
    "\n",
    "        # if remove_zero_degree_nodes:\n",
    "        #     a.add_nodes_()\n",
    "\n",
    "        if delete_edges:\n",
    "            salsa_edges_per_node, salsa_all_edges, overlap, edge_type, avg_frac_min = a.reconstruct_edges(strategy=strategy, salsa_new=salsa_new)\n",
    "        else:\n",
    "            salsa_edges_per_node, salsa_all_edges = a.add_edges(strategy=strategy)\n",
    "\n",
    "        edge_type_dict[i] = edge_type\n",
    "        frac_mins_list.append(avg_frac_min)\n",
    "        \n",
    "        if remove_zero_degree_nodes:\n",
    "            _ = a.remove_zero_degree()\n",
    "\n",
    "        min_ccoeff_post, maj_ccoeff_post = get_avg_clustering_coefficient(network_obj=a.network, mode='zero', class_name=class_name, group_names=[min_label, maj_label])\n",
    "        min_aspl_post, maj_aspl_post = get_avg_sp_lengths(network_obj=a.network, mode='out', class_name=class_name, group_names=[min_label, maj_label])\n",
    "\n",
    "        changes_dict_maj['c_coeff'].append(np.round((maj_ccoeff_post/maj_c_coeff-1)*100, round))\n",
    "        changes_dict_min['c_coeff'].append(np.round((min_ccoeff_post/min_c_coeff-1)*100, round))\n",
    "\n",
    "        changes_dict_maj['aspl'].append(np.round((maj_aspl_post/maj_aspl-1)*100, round))\n",
    "        changes_dict_min['aspl'].append(np.round((min_aspl_post/min_aspl-1)*100, round))\n",
    "\n",
    "        g_post = nx_to_ig(a.network)\n",
    "\n",
    "        _ = a.get_group_betweenness(g_post, is_pre=False, verbose=verbose)\n",
    "        _ = a.get_group_closeness(g_post, is_pre=False, verbose=verbose)\n",
    "        _ = a.get_group_eigenvector_centrality(g_post, is_pre=False, verbose=verbose)\n",
    "        _ = a.get_group_degree_centrality(g_post, is_pre=False, verbose=verbose)\n",
    "        \n",
    "        bc_vals = a.metrics_dict['bc']\n",
    "        changes_dict_maj['bc'].append(np.round((bc_vals['post']['maj']/bc_vals['pre']['maj']-1)*100, round))\n",
    "        changes_dict_min['bc'].append(np.round((bc_vals['post']['min']/bc_vals['pre']['min']-1)*100, round))\n",
    "\n",
    "        cc_vals = a.metrics_dict['cc']\n",
    "        changes_dict_maj['cc'].append(np.round((cc_vals['post']['maj']/cc_vals['pre']['maj']-1)*100, round))\n",
    "        changes_dict_min['cc'].append(np.round((cc_vals['post']['min']/cc_vals['pre']['min']-1)*100, round))\n",
    "\n",
    "        evc_vals = a.metrics_dict['evc']\n",
    "        norm_evc_min_pre = evc_vals['pre']['min'] / (evc_vals['pre']['min'] + evc_vals['pre']['maj'])\n",
    "        norm_evc_maj_pre = evc_vals['pre']['maj'] / (evc_vals['pre']['min'] + evc_vals['pre']['maj'])\n",
    "\n",
    "        norm_evc_min_post = evc_vals['post']['min'] / (evc_vals['post']['min'] + evc_vals['post']['maj'])\n",
    "        norm_evc_maj_post = evc_vals['post']['maj'] / (evc_vals['post']['min'] + evc_vals['post']['maj'])\n",
    "\n",
    "        changes_dict_maj['evc'].append(np.round((norm_evc_maj_post/norm_evc_maj_pre-1)*100, round))\n",
    "        changes_dict_min['evc'].append(np.round((norm_evc_min_post/norm_evc_min_pre-1)*100, round))\n",
    "\n",
    "        dc_vals = a.metrics_dict['dc']\n",
    "        changes_dict_maj['dc'].append(np.round((dc_vals['post']['maj']/dc_vals['pre']['maj']-1)*100, round))\n",
    "        changes_dict_min['dc'].append(np.round((dc_vals['post']['min']/dc_vals['pre']['min']-1)*100, round))\n",
    "\n",
    "        recommended_nodes_dict[i] = salsa_all_edges\n",
    "        overlaps.append(overlap)\n",
    "\n",
    "        print(f'Finished run {i}')\n",
    "\n",
    "    # return changes_dict_maj, changes_dict_min\n",
    "    avg_bc_change_maj, sd_bc_maj = np.round(np.average(changes_dict_maj['bc']), round), np.round(np.std(changes_dict_maj['bc']), round)\n",
    "    avg_bc_change_min, sd_bc_min = np.round(np.average(changes_dict_min['bc']), round), np.round(np.std(changes_dict_min['bc']), round)\n",
    "\n",
    "    avg_cc_change_maj, sd_cc_maj = np.round(np.average(changes_dict_maj['cc']), round), np.round(np.std(changes_dict_maj['cc']), round)\n",
    "    avg_cc_change_min, sd_cc_min = np.round(np.average(changes_dict_min['cc']), round), np.round(np.std(changes_dict_min['cc']), round)\n",
    "\n",
    "    avg_evc_change_maj, sd_evc_maj = np.round(np.average(changes_dict_maj['evc']), round), np.round(np.std(changes_dict_maj['evc']), round)\n",
    "    avg_evc_change_min, sd_evc_min = np.round(np.average(changes_dict_min['evc']), round), np.round(np.std(changes_dict_min['evc']), round)\n",
    "\n",
    "    avg_dc_change_maj, sd_dc_maj = np.round(np.average(changes_dict_maj['dc']), round), np.round(np.std(changes_dict_maj['dc']), round)\n",
    "    avg_dc_change_min, sd_dc_min = np.round(np.average(changes_dict_min['dc']), round), np.round(np.std(changes_dict_min['dc']), round)\n",
    "\n",
    "    avg_ccoeff_change_maj, sd_ccoeff_maj = np.round(np.average(changes_dict_maj['c_coeff']), round), np.round(np.std(changes_dict_maj['c_coeff']), round)\n",
    "    avg_ccoeff_change_min, sd_ccoeff_min = np.round(np.average(changes_dict_min['c_coeff']), round), np.round(np.std(changes_dict_min['c_coeff']), round)\n",
    "\n",
    "    avg_aspl_change_maj, sd_aspl_maj = np.round(np.average(changes_dict_maj['aspl']), round), np.round(np.std(changes_dict_maj['aspl']), round)\n",
    "    avg_aspl_change_min, sd_aspl_min = np.round(np.average(changes_dict_min['aspl']), round), np.round(np.std(changes_dict_min['aspl']), round)\n",
    "\n",
    "    mm = []\n",
    "    mM = []\n",
    "    MM = []\n",
    "    Mm = []\n",
    "\n",
    "    for run in edge_type_dict.keys():\n",
    "        mm.append(edge_type_dict[run]['mm'])\n",
    "        mM.append(edge_type_dict[run]['mM'])\n",
    "        MM.append(edge_type_dict[run]['MM'])\n",
    "        Mm.append(edge_type_dict[run]['Mm'])\n",
    "\n",
    "    mm = [m/num_to_sample for m in mm]\n",
    "    mM = [m/num_to_sample for m in mM]\n",
    "    MM = [m/num_to_sample for m in MM]\n",
    "    Mm = [m/num_to_sample for m in Mm]\n",
    "\n",
    "    avg_mm, sd_mm = np.round(np.average(mm), round), np.round(np.std(mm), round)\n",
    "    avg_mM, sd_mM = np.round(np.average(mM), round), np.round(np.std(mM), round)\n",
    "    avg_MM, sd_MM = np.round(np.average(MM), round), np.round(np.std(MM), round)\n",
    "    avg_Mm, sd_Mm = np.round(np.average(Mm), round), np.round(np.std(Mm), round)\n",
    "\n",
    "    avg_avg_frac_min, sd_frac_min = np.round(np.average(frac_mins_list), round), np.round(np.std(frac_mins_list), 5)\n",
    "        \n",
    "\n",
    "    if to_txt:\n",
    "        save_as_txt = save_as[:-4] + '.txt'\n",
    "        f = open(save_as_txt, 'w')\n",
    "\n",
    "        f.write(\"\\n\")\n",
    "        f.write(f\"Mean stats and standard deviation for {n} runs\\n\")\n",
    "        f.write(\"---------------------------------------------------\\n\")\n",
    "        f.write(\"\\n\")\n",
    "        f.write('Edge types\\n')\n",
    "        f.write(\"---------------------------\\n\")\n",
    "        f.write(f'mm: {avg_mm}% ({sd_mm})\\n')\n",
    "        f.write(f'mM: {avg_mM}% ({sd_mM})\\n')\n",
    "        f.write(f'MM: {avg_MM}% ({sd_MM})\\n')\n",
    "        f.write(f'Mm: {avg_Mm}% ({sd_Mm})\\n')\n",
    "        f.write(\"\\n\")\n",
    "        f.write('Top-10% Minority Fraction\\n')\n",
    "        f.write(\"---------------------------\\n\")\n",
    "        f.write(f'Avg. minority fraction: {avg_avg_frac_min}% ({sd_frac_min})\\n')\n",
    "        f.write(\"\\n\")\n",
    "        f.write('DC Changes\\n')\n",
    "        f.write(\"---------------------------\\n\")\n",
    "        f.write(f\"Majority: {avg_dc_change_maj} ({sd_dc_maj})\\n\")\n",
    "        f.write(f\"Minority: {avg_dc_change_min} ({sd_dc_min})\\n\")\n",
    "        f.write(\"\\n\")\n",
    "        f.write('BC Changes\\n')\n",
    "        f.write(\"---------------------------\\n\")\n",
    "        f.write(f\"Majority: {avg_bc_change_maj} ({sd_bc_maj})\\n\")\n",
    "        f.write(f\"Minority: {avg_bc_change_min} ({sd_bc_min})\\n\")\n",
    "        f.write(\"\\n\")\n",
    "        f.write('CC Changes\\n')\n",
    "        f.write(\"---------------------------\\n\")\n",
    "        f.write(f\"Majority: {avg_cc_change_maj} ({sd_cc_maj})\\n\")\n",
    "        f.write(f\"Minority: {avg_cc_change_min} ({sd_cc_min})\\n\")\n",
    "        f.write(\"\\n\")\n",
    "        f.write('EVC Changes\\n')\n",
    "        f.write(\"---------------------------\\n\")\n",
    "        f.write(f\"Majority: {avg_evc_change_maj} ({sd_evc_maj})\\n\")\n",
    "        f.write(f\"Minority: {avg_evc_change_min} ({sd_evc_min})\\n\")\n",
    "        f.write(\"\\n\")\n",
    "        f.write('Clustering Coeff Changes\\n')\n",
    "        f.write(\"---------------------------\\n\")\n",
    "        f.write(f\"Majority: {avg_ccoeff_change_maj} ({sd_ccoeff_maj})\\n\")\n",
    "        f.write(f\"Minority: {avg_ccoeff_change_min} ({sd_ccoeff_min})\\n\")\n",
    "        f.write(\"\\n\")\n",
    "        f.write('Avg. Shortest Path Changes\\n')\n",
    "        f.write(\"---------------------------\\n\")\n",
    "        f.write(f\"Majority: {avg_aspl_change_maj} ({sd_aspl_maj})\\n\")\n",
    "        f.write(f\"Minority: {avg_aspl_change_min} ({sd_aspl_min})\\n\")\n",
    "        f.write(\"\\n\")\n",
    "        f.write(f\"Avg. overlap: {np.round(np.average(overlaps), round)}\\n\")\n",
    "\n",
    "        f.close()\n",
    "\n",
    "    print(\"\")\n",
    "    print(f\"Mean stats and standard deviation for {n} runs\")\n",
    "    print(\"---------------------------------------------------\")\n",
    "    print(\"\")\n",
    "    print('Edge types')\n",
    "    print(\"---------------------------\")\n",
    "    print(f'mm: {avg_mm}% ({sd_mm})')\n",
    "    print(f'mM: {avg_mM}% ({sd_mM})')\n",
    "    print(f'MM: {avg_MM}% ({sd_MM})')\n",
    "    print(f'Mm: {avg_Mm}% ({sd_Mm})')\n",
    "    print(\"\")\n",
    "    print('Top-10% Minority Fraction')\n",
    "    print(\"---------------------------\")\n",
    "    print(f'Avg. minority fraction: {avg_avg_frac_min}% ({sd_frac_min})')\n",
    "    print(\"\")\n",
    "    print('DC Changes')\n",
    "    print(\"---------------------------\")\n",
    "    print(f\"Majority: {avg_dc_change_maj} ({sd_dc_maj})\")\n",
    "    print(f\"Minority: {avg_dc_change_min} ({sd_dc_min})\")\n",
    "    print(\"\")\n",
    "    print('BC Changes')\n",
    "    print(\"---------------------------\")\n",
    "    print(f\"Majority: {avg_bc_change_maj} ({sd_bc_maj})\")\n",
    "    print(f\"Minority: {avg_bc_change_min} ({sd_bc_min})\")\n",
    "    print(\"\")\n",
    "    print('CC Changes')\n",
    "    print(\"---------------------------\")\n",
    "    print(f\"Majority: {avg_cc_change_maj} ({sd_cc_maj})\")\n",
    "    print(f\"Minority: {avg_cc_change_min} ({sd_cc_min})\")\n",
    "    print(\"\")\n",
    "    print('EVC Changes')\n",
    "    print(\"---------------------------\")\n",
    "    print(f\"Majority: {avg_evc_change_maj} ({sd_evc_maj})\")\n",
    "    print(f\"Minority: {avg_evc_change_min} ({sd_evc_min})\")\n",
    "    print(\"\")\n",
    "    print('Clustering Coeff Changes')\n",
    "    print(\"---------------------------\")\n",
    "    print(f\"Majority: {avg_ccoeff_change_maj} ({sd_ccoeff_maj})\")\n",
    "    print(f\"Minority: {avg_ccoeff_change_min} ({sd_ccoeff_min})\")\n",
    "    print(\"\")\n",
    "    print('Avg. Shortest Path Changes')\n",
    "    print(\"---------------------------\")\n",
    "    print(f\"Majority: {avg_aspl_change_maj} ({sd_aspl_maj})\")\n",
    "    print(f\"Minority: {avg_aspl_change_min} ({sd_aspl_min})\")\n",
    "    print(\"\")\n",
    "    print(f\"Avg. overlap: {np.round(np.average(overlaps), round)}\")\n",
    "\n",
    "    if save_results:\n",
    "        results = {'pct_changes': {'min': changes_dict_min, 'maj': changes_dict_maj}, 'recommended_nodes': recommended_nodes_dict}\n",
    "        with open(save_as, 'wb') as f:\n",
    "            pickle.dump(results, f)\n",
    "        print('')\n",
    "        print(f'Results saved to disk as {save_as}')\n",
    "\n",
    "    return {'min': changes_dict_min, 'maj': changes_dict_maj}, recommended_nodes_dict\n",
    "\n",
    "            "
   ]
  },
  {
   "cell_type": "code",
   "execution_count": 11,
   "metadata": {},
   "outputs": [],
   "source": [
    "# with open('dpah_salsa_edges/dpah_results_82.pkl', 'rb') as f:\n",
    "#     nodes82 = pickle.load(f)['recommended_nodes']\n",
    "\n",
    "# with open('dpah_salsa_edges/dpah_results_28.pkl', 'rb') as f:\n",
    "#     nodes28 = pickle.load(f)['recommended_nodes']\n",
    "\n",
    "# with open('dpah_salsa_edges/dpah_results_55.pkl', 'rb') as f:\n",
    "#     nodes55 = pickle.load(f)['recommended_nodes']\n",
    "\n",
    "# with open('dpah_salsa_edges/dpah_results_22.pkl', 'rb') as f:\n",
    "#     nodes22 = pickle.load(f)['recommended_nodes']\n",
    "\n",
    "# with open('dpah_salsa_edges/dpah_results_88.pkl', 'rb') as f:\n",
    "#     nodes88 = pickle.load(f)['recommended_nodes']"
   ]
  },
  {
   "cell_type": "code",
   "execution_count": null,
   "metadata": {},
   "outputs": [],
   "source": []
  },
  {
   "cell_type": "code",
   "execution_count": 12,
   "metadata": {},
   "outputs": [],
   "source": [
    "def get_recommendation_group_ratios(network_file='', network_obj=None, recommended_nodes=[], class_name='m', deleted=True):\n",
    "    \n",
    "    if network_file == '':\n",
    "        network = network_obj\n",
    "    else:\n",
    "        network = read_pkl_graph(network_file)\n",
    "\n",
    "    all_nodes = network.nodes()\n",
    "    shares_min = []\n",
    "    shares_maj = []\n",
    "\n",
    "\n",
    "    for i in recommended_nodes.keys():\n",
    "\n",
    "        count_maj = 0\n",
    "        count_min = 0\n",
    "        \n",
    "        if deleted:\n",
    "\n",
    "            for tup in recommended_nodes[i]:\n",
    "                node = tup[-1]\n",
    "                if all_nodes[node][class_name] == 0:\n",
    "                    count_maj += 1\n",
    "                elif all_nodes[node][class_name] == 1:\n",
    "                    count_min += 1\n",
    "        \n",
    "        else:\n",
    "            for node in recommended_nodes[i]:\n",
    "                \n",
    "                if all_nodes[node][class_name] == 0:\n",
    "                    count_maj += 1\n",
    "                elif all_nodes[node][class_name] == 1:\n",
    "                    count_min += 1\n",
    "\n",
    "        shares_min.append(count_min/len(recommended_nodes[i]))\n",
    "        shares_maj.append(count_maj/len(recommended_nodes[i]))\n",
    "\n",
    "    avg_share_min = np.round(np.average(shares_min), 5)\n",
    "    avg_share_maj = np.round(np.average(shares_maj), 5)\n",
    "\n",
    "    print(f'avg. share of min: {avg_share_min} ({np.std(shares_min)})')\n",
    "    print(f'avg. share of maj: {avg_share_maj} ({np.std(shares_maj)})')\n",
    "\n",
    "    return {'min_prop': avg_share_min, 'maj_prop': avg_share_maj}"
   ]
  },
  {
   "cell_type": "code",
   "execution_count": 13,
   "metadata": {},
   "outputs": [],
   "source": [
    "def get_avg_clustering_coefficient(network_file='', network_obj=None, mode='zero', class_name='m', group_names=[1, 0], verbose=True):\n",
    "\n",
    "    def get_nodes_per_class(network, class_name='m', group_names=['young', 'old']):\n",
    "        \n",
    "        # class_\n",
    "        if class_name == 'm':\n",
    "            min_nodes_ig = network.vs.select(m=group_names[0])\n",
    "            maj_nodes_ig = network.vs.select(m=group_names[-1])\n",
    "\n",
    "        elif class_name == 'class_':\n",
    "            min_nodes_ig = network.vs.select(class_=group_names[0])\n",
    "            maj_nodes_ig = network.vs.select(class_=group_names[-1])\n",
    "\n",
    "        elif class_name == 'age':\n",
    "            min_nodes_ig = network.vs.select(age=group_names[0])\n",
    "            maj_nodes_ig = network.vs.select(age=group_names[-1])\n",
    "\n",
    "        return min_nodes_ig, maj_nodes_ig\n",
    "    \n",
    "    if network_file == '':\n",
    "        network = network_obj\n",
    "    else:\n",
    "        network = read_pkl_graph(network_file)\n",
    "\n",
    "    network_ig = nx_to_ig(network)\n",
    "\n",
    "    min_nodes, maj_nodes = get_nodes_per_class(network_ig, class_name=class_name, group_names=group_names)\n",
    "\n",
    "    # mode: how to treat nodes with degree < 2\n",
    "    transitivity = network_ig.transitivity_local_undirected(mode=mode)\n",
    "    network_ig.vs['clustering_coeff'] = transitivity\n",
    "\n",
    "    min_clustering_coeff = np.average(np.array(min_nodes.get_attribute_values('clustering_coeff')))\n",
    "    maj_clustering_coeff = np.average(np.array(maj_nodes.get_attribute_values('clustering_coeff')))\n",
    "\n",
    "    if verbose:\n",
    "        print(f'Min clustering coeff: {min_clustering_coeff}')\n",
    "        print(f'Maj clustering coeff: {maj_clustering_coeff}')\n",
    "\n",
    "    return min_clustering_coeff, maj_clustering_coeff\n",
    "    "
   ]
  },
  {
   "cell_type": "code",
   "execution_count": 14,
   "metadata": {},
   "outputs": [],
   "source": [
    "def get_avg_sp_lengths(network_file='', network_obj=None, mode='out', class_name='m', group_names=[1, 0], verbose=True):\n",
    "\n",
    "    def get_nodes_per_class(network, class_name='m', group_names=['young', 'old']):\n",
    "        \n",
    "        # class_\n",
    "        if class_name == 'm':\n",
    "            min_nodes_ig = network.vs.select(m=group_names[0])\n",
    "            maj_nodes_ig = network.vs.select(m=group_names[-1])\n",
    "\n",
    "        elif class_name == 'class_':\n",
    "            min_nodes_ig = network.vs.select(class_=group_names[0])\n",
    "            maj_nodes_ig = network.vs.select(class_=group_names[-1])\n",
    "\n",
    "        elif class_name == 'age':\n",
    "            min_nodes_ig = network.vs.select(age=group_names[0])\n",
    "            maj_nodes_ig = network.vs.select(age=group_names[-1])\n",
    "\n",
    "        return min_nodes_ig, maj_nodes_ig\n",
    "    \n",
    "    if network_file == '':\n",
    "        network = network_obj\n",
    "    else:\n",
    "        network = read_pkl_graph(network_file)\n",
    "    network_ig = nx_to_ig(network)\n",
    "\n",
    "    shortest_path_lengths = network_ig.shortest_paths(mode=mode)\n",
    "    arr = np.array(shortest_path_lengths)\n",
    "    arr[arr==inf] = 0\n",
    "    avg_sp_lens = [np.average(lens) for lens in arr]\n",
    "\n",
    "    min_nodes, maj_nodes = get_nodes_per_class(network_ig, class_name=class_name, group_names=group_names)\n",
    "\n",
    "    network_ig.vs['avg_sp_len'] = avg_sp_lens\n",
    "\n",
    "    min_avg_sp = np.average(np.array(min_nodes.get_attribute_values('avg_sp_len')))\n",
    "    maj_avg_sp = np.average(np.array(maj_nodes.get_attribute_values('avg_sp_len')))\n",
    "\n",
    "    if verbose:\n",
    "        print(f'Min avg sp length: {min_avg_sp}')\n",
    "        print(f'Maj avg sp length: {maj_avg_sp}')\n",
    "\n",
    "    return min_avg_sp, maj_avg_sp\n"
   ]
  },
  {
   "cell_type": "code",
   "execution_count": 15,
   "metadata": {},
   "outputs": [],
   "source": [
    "# changes82, recommended_nodes82 = run_n_simulations(network_file='nx_DPAH_10000_0208_0802.pkl', n=4, num_to_sample=10000, delete_edges=False, verbose=False, round=5, remove_zero_degree_nodes=True, class_name='m', strategy='bulk', save_results=True, save_as='dpah_results_82.pkl')"
   ]
  },
  {
   "cell_type": "code",
   "execution_count": 16,
   "metadata": {},
   "outputs": [],
   "source": [
    "def plot_degree_dist_per_group(G, attribute='', group_names=['', ''], group_labels=[1, 0]):\n",
    "    minority = [G.degree(n[0]) for n in G.nodes(data=True) if n[-1][attribute] == group_labels[0]]\n",
    "    majority = [G.degree(n[0]) for n in G.nodes(data=True) if n[-1][attribute] == group_labels[1]]\n",
    "    \n",
    "    fig, ax = plt.subplots(1, 2, sharey=True)\n",
    "    fig.suptitle('Degree distribution by group')\n",
    "    \n",
    "    sns.histplot(ax=ax[0], data=minority)\n",
    "    # ax[0].set_ylabel('test')\n",
    "    ax[0].set_xlabel('Degree')\n",
    "    ax[0].set_title(f'{group_names[0]} (minority)')\n",
    "\n",
    "    sns.histplot(ax=ax[1], data=majority)\n",
    "    ax[1].set_xlabel('Degree')\n",
    "    ax[1].set_title(f'{group_names[1]} (majority)')\n",
    "\n",
    "    plt.show()"
   ]
  },
  {
   "cell_type": "code",
   "execution_count": 17,
   "metadata": {},
   "outputs": [],
   "source": [
    "def get_group_ratios(network_obj, attribute='', group_names=['', ''], group_labels=[1, 0]):\n",
    "\n",
    "    minority = [n for n in network_obj.nodes(data=True) if n[-1][attribute] == group_labels[0]]\n",
    "    majority = [n for n in network_obj.nodes(data=True) if n[-1][attribute] == group_labels[1]]\n",
    "\n",
    "    print(f'# {group_names[0]} nodes (minority): {len(minority)} ({np.round(len(minority)/(len(minority)+len(majority))*100, 2)}%)')\n",
    "    print(f'# {group_names[1]} nodes (majority): {len(majority)} ({np.round(len(majority)/(len(minority)+len(majority))*100, 2)}%)')"
   ]
  },
  {
   "cell_type": "code",
   "execution_count": 18,
   "metadata": {},
   "outputs": [],
   "source": [
    "def plot_degree_dist(G):\n",
    "    degrees = [G.degree(n) for n in G.nodes()]\n",
    "    sns.histplot(degrees)\n",
    "    plt.xlabel('Degree')\n",
    "    plt.show()"
   ]
  },
  {
   "cell_type": "code",
   "execution_count": 19,
   "metadata": {},
   "outputs": [],
   "source": [
    "def enum_vnum(network):\n",
    "    print(f'Number of edges: {network.number_of_edges()}')\n",
    "    print(f'Number of nodes: {network.number_of_nodes()}')"
   ]
  },
  {
   "cell_type": "code",
   "execution_count": 20,
   "metadata": {},
   "outputs": [],
   "source": [
    "def reindex_nodes(network, name_as_str=True):\n",
    "\n",
    "    old = list(network.nodes())\n",
    "    new = list(range(0, len(old)))\n",
    "\n",
    "    if name_as_str:\n",
    "        old_str = [str(i) for i in old]\n",
    "        mapping1 = dict(zip(old, old_str))\n",
    "    else:\n",
    "        mapping1 = dict(zip(old, old))\n",
    "    nx.set_node_attributes(network, values=mapping1, name='name')\n",
    "\n",
    "    mapping2 = dict(zip(old, new))\n",
    "\n",
    "    return nx.relabel_nodes(network, mapping2, copy=True)"
   ]
  },
  {
   "cell_type": "code",
   "execution_count": 102,
   "metadata": {},
   "outputs": [],
   "source": [
    "network = nx.read_gpickle(config.ROOT + 'nx_DPAH_10000_0208_0802.pkl')"
   ]
  },
  {
   "cell_type": "code",
   "execution_count": 104,
   "metadata": {},
   "outputs": [
    {
     "name": "stdout",
     "output_type": "stream",
     "text": [
      "Number of edges: 99990\n",
      "Number of nodes: 10000\n"
     ]
    }
   ],
   "source": [
    "enum_vnum(network)"
   ]
  },
  {
   "cell_type": "code",
   "execution_count": 105,
   "metadata": {},
   "outputs": [
    {
     "name": "stdout",
     "output_type": "stream",
     "text": [
      "# 1 nodes (minority): 2000 (20.0%)\n",
      "# 0 nodes (majority): 8000 (80.0%)\n"
     ]
    }
   ],
   "source": [
    "get_group_ratios(network, attribute='m', group_names=[1, 0], group_labels=[1, 0])"
   ]
  },
  {
   "cell_type": "code",
   "execution_count": 106,
   "metadata": {},
   "outputs": [
    {
     "data": {
      "image/png": "[encoded data removed]",
      "text/plain": [
       "<Figure size 640x480 with 2 Axes>"
      ]
     },
     "metadata": {},
     "output_type": "display_data"
    }
   ],
   "source": [
    "plot_degree_dist_per_group(network, attribute='m', group_names=[1, 0], group_labels=[1, 0])"
   ]
  },
  {
   "cell_type": "code",
   "execution_count": 113,
   "metadata": {},
   "outputs": [
    {
     "name": "stdout",
     "output_type": "stream",
     "text": [
      "Min clustering coeff: 0.026287739520099357\n",
      "Maj clustering coeff: 0.024368034087210763\n",
      "Min avg sp length: 2.916731649489981\n",
      "Maj avg sp length: 2.9252581868748875\n",
      "# unique nodes with deleted out edge: 1652\n"
     ]
    },
    {
     "ename": "KeyboardInterrupt",
     "evalue": "",
     "output_type": "error",
     "traceback": [
      "\u001b[1;31m---------------------------------------------------------------------------\u001b[0m",
      "\u001b[1;31mKeyboardInterrupt\u001b[0m                         Traceback (most recent call last)",
      "\u001b[1;32m<ipython-input-113-2527c8c725d3>\u001b[0m in \u001b[0;36m<module>\u001b[1;34m\u001b[0m\n\u001b[0;32m      3\u001b[0m                                             \u001b[0mremove_zero_degree_nodes\u001b[0m\u001b[1;33m=\u001b[0m\u001b[1;32mTrue\u001b[0m\u001b[1;33m,\u001b[0m \u001b[0mclass_name\u001b[0m\u001b[1;33m=\u001b[0m\u001b[1;34m'm'\u001b[0m\u001b[1;33m,\u001b[0m \u001b[0mmin_label\u001b[0m\u001b[1;33m=\u001b[0m\u001b[1;36m1\u001b[0m\u001b[1;33m,\u001b[0m \u001b[0mmaj_label\u001b[0m\u001b[1;33m=\u001b[0m\u001b[1;36m0\u001b[0m\u001b[1;33m,\u001b[0m\u001b[1;33m\u001b[0m\u001b[1;33m\u001b[0m\u001b[0m\n\u001b[0;32m      4\u001b[0m                                             \u001b[0mstrategy\u001b[0m\u001b[1;33m=\u001b[0m\u001b[1;34m'consecutively'\u001b[0m\u001b[1;33m,\u001b[0m \u001b[0msave_results\u001b[0m\u001b[1;33m=\u001b[0m\u001b[1;32mFalse\u001b[0m\u001b[1;33m,\u001b[0m \u001b[0msave_as\u001b[0m\u001b[1;33m=\u001b[0m\u001b[1;34m'sls_new_results_test.pkl'\u001b[0m\u001b[1;33m,\u001b[0m\u001b[1;33m\u001b[0m\u001b[1;33m\u001b[0m\u001b[0m\n\u001b[1;32m----> 5\u001b[1;33m                                             to_txt=True, salsa_new=True)\n\u001b[0m",
      "\u001b[1;32m<ipython-input-112-5e6bf8e3ab7d>\u001b[0m in \u001b[0;36mrun_n_simulations\u001b[1;34m(network_obj, network_file, n, num_to_sample, delete_edges, verbose, round, remove_zero_degree_nodes, class_name, min_label, maj_label, strategy, save_results, save_as, to_txt, salsa_new)\u001b[0m\n\u001b[0;32m     64\u001b[0m \u001b[1;33m\u001b[0m\u001b[0m\n\u001b[0;32m     65\u001b[0m         \u001b[1;32mif\u001b[0m \u001b[0mdelete_edges\u001b[0m\u001b[1;33m:\u001b[0m\u001b[1;33m\u001b[0m\u001b[1;33m\u001b[0m\u001b[0m\n\u001b[1;32m---> 66\u001b[1;33m             \u001b[0msalsa_edges_per_node\u001b[0m\u001b[1;33m,\u001b[0m \u001b[0msalsa_all_edges\u001b[0m\u001b[1;33m,\u001b[0m \u001b[0moverlap\u001b[0m\u001b[1;33m,\u001b[0m \u001b[0medge_type\u001b[0m\u001b[1;33m,\u001b[0m \u001b[0mavg_frac_min\u001b[0m \u001b[1;33m=\u001b[0m \u001b[0ma\u001b[0m\u001b[1;33m.\u001b[0m\u001b[0mreconstruct_edges\u001b[0m\u001b[1;33m(\u001b[0m\u001b[0mstrategy\u001b[0m\u001b[1;33m=\u001b[0m\u001b[0mstrategy\u001b[0m\u001b[1;33m,\u001b[0m \u001b[0msalsa_new\u001b[0m\u001b[1;33m=\u001b[0m\u001b[0msalsa_new\u001b[0m\u001b[1;33m)\u001b[0m\u001b[1;33m\u001b[0m\u001b[1;33m\u001b[0m\u001b[0m\n\u001b[0m\u001b[0;32m     67\u001b[0m         \u001b[1;32melse\u001b[0m\u001b[1;33m:\u001b[0m\u001b[1;33m\u001b[0m\u001b[1;33m\u001b[0m\u001b[0m\n\u001b[0;32m     68\u001b[0m             \u001b[0msalsa_edges_per_node\u001b[0m\u001b[1;33m,\u001b[0m \u001b[0msalsa_all_edges\u001b[0m \u001b[1;33m=\u001b[0m \u001b[0ma\u001b[0m\u001b[1;33m.\u001b[0m\u001b[0madd_edges\u001b[0m\u001b[1;33m(\u001b[0m\u001b[0mstrategy\u001b[0m\u001b[1;33m=\u001b[0m\u001b[0mstrategy\u001b[0m\u001b[1;33m)\u001b[0m\u001b[1;33m\u001b[0m\u001b[1;33m\u001b[0m\u001b[0m\n",
      "\u001b[1;32m<ipython-input-111-6ed12de51dd0>\u001b[0m in \u001b[0;36mreconstruct_edges\u001b[1;34m(self, strategy, k_for_circle_of_trust, salsa_new)\u001b[0m\n\u001b[0;32m    162\u001b[0m \u001b[1;33m\u001b[0m\u001b[0m\n\u001b[0;32m    163\u001b[0m                     \u001b[1;32mif\u001b[0m \u001b[0msalsa_new\u001b[0m\u001b[1;33m:\u001b[0m\u001b[1;33m\u001b[0m\u001b[1;33m\u001b[0m\u001b[0m\n\u001b[1;32m--> 164\u001b[1;33m                         \u001b[0mwtf\u001b[0m \u001b[1;33m=\u001b[0m \u001b[0mwho_to_follow_rank\u001b[0m\u001b[1;33m(\u001b[0m\u001b[0mA\u001b[0m\u001b[1;33m=\u001b[0m\u001b[0mnx\u001b[0m\u001b[1;33m.\u001b[0m\u001b[0madjacency_matrix\u001b[0m\u001b[1;33m(\u001b[0m\u001b[0mself\u001b[0m\u001b[1;33m.\u001b[0m\u001b[0mnetwork\u001b[0m\u001b[1;33m)\u001b[0m\u001b[1;33m)\u001b[0m\u001b[1;33m\u001b[0m\u001b[1;33m\u001b[0m\u001b[0m\n\u001b[0m\u001b[0;32m    165\u001b[0m                         \u001b[0mwtf_node_i\u001b[0m \u001b[1;33m=\u001b[0m \u001b[0mlist\u001b[0m\u001b[1;33m(\u001b[0m\u001b[0mwtf\u001b[0m\u001b[1;33m[\u001b[0m\u001b[0mnode\u001b[0m\u001b[1;33m]\u001b[0m\u001b[1;33m)\u001b[0m\u001b[1;33m\u001b[0m\u001b[1;33m\u001b[0m\u001b[0m\n\u001b[0;32m    166\u001b[0m                         \u001b[0mpick\u001b[0m \u001b[1;33m=\u001b[0m \u001b[0mrandom\u001b[0m\u001b[1;33m.\u001b[0m\u001b[0mchoice\u001b[0m\u001b[1;33m(\u001b[0m\u001b[0mwtf_node_i\u001b[0m\u001b[1;33m)\u001b[0m\u001b[1;33m[\u001b[0m\u001b[1;36m0\u001b[0m\u001b[1;33m]\u001b[0m\u001b[1;33m\u001b[0m\u001b[1;33m\u001b[0m\u001b[0m\n",
      "\u001b[1;32m<ipython-input-100-0ded51e61c8e>\u001b[0m in \u001b[0;36mwho_to_follow_rank\u001b[1;34m(A, njobs)\u001b[0m\n\u001b[0;32m     50\u001b[0m \u001b[1;32mdef\u001b[0m \u001b[0mwho_to_follow_rank\u001b[0m\u001b[1;33m(\u001b[0m\u001b[0mA\u001b[0m\u001b[1;33m,\u001b[0m \u001b[0mnjobs\u001b[0m\u001b[1;33m=\u001b[0m\u001b[1;36m1\u001b[0m\u001b[1;33m)\u001b[0m\u001b[1;33m:\u001b[0m\u001b[1;33m\u001b[0m\u001b[1;33m\u001b[0m\u001b[0m\n\u001b[0;32m     51\u001b[0m     \u001b[1;32mif\u001b[0m \u001b[0mA\u001b[0m\u001b[1;33m.\u001b[0m\u001b[0mshape\u001b[0m\u001b[1;33m[\u001b[0m\u001b[1;36m0\u001b[0m\u001b[1;33m]\u001b[0m \u001b[1;33m<\u001b[0m \u001b[0mBIGNET\u001b[0m\u001b[1;33m:\u001b[0m\u001b[1;33m\u001b[0m\u001b[1;33m\u001b[0m\u001b[0m\n\u001b[1;32m---> 52\u001b[1;33m         \u001b[1;32mreturn\u001b[0m \u001b[0mwtf_small\u001b[0m\u001b[1;33m(\u001b[0m\u001b[0mA\u001b[0m\u001b[1;33m,\u001b[0m \u001b[0mnjobs\u001b[0m\u001b[1;33m)\u001b[0m\u001b[1;33m\u001b[0m\u001b[1;33m\u001b[0m\u001b[0m\n\u001b[0m\u001b[0;32m     53\u001b[0m     \u001b[1;32melse\u001b[0m\u001b[1;33m:\u001b[0m\u001b[1;33m\u001b[0m\u001b[1;33m\u001b[0m\u001b[0m\n\u001b[0;32m     54\u001b[0m         \u001b[1;31m# TODO: implement optimal (or faster) solution for big net\u001b[0m\u001b[1;33m\u001b[0m\u001b[1;33m\u001b[0m\u001b[1;33m\u001b[0m\u001b[0m\n",
      "\u001b[1;32m<ipython-input-100-0ded51e61c8e>\u001b[0m in \u001b[0;36mwtf_small\u001b[1;34m(A, njobs)\u001b[0m\n\u001b[0;32m     57\u001b[0m \u001b[1;32mdef\u001b[0m \u001b[0mwtf_small\u001b[0m\u001b[1;33m(\u001b[0m\u001b[0mA\u001b[0m\u001b[1;33m,\u001b[0m \u001b[0mnjobs\u001b[0m\u001b[1;33m)\u001b[0m\u001b[1;33m:\u001b[0m\u001b[1;33m\u001b[0m\u001b[1;33m\u001b[0m\u001b[0m\n\u001b[0;32m     58\u001b[0m     \u001b[1;31m# utils.printf('cot_per_node...')\u001b[0m\u001b[1;33m\u001b[0m\u001b[1;33m\u001b[0m\u001b[1;33m\u001b[0m\u001b[0m\n\u001b[1;32m---> 59\u001b[1;33m     \u001b[0mcot_per_node\u001b[0m \u001b[1;33m=\u001b[0m \u001b[0mget_circle_of_trust_per_node\u001b[0m\u001b[1;33m(\u001b[0m\u001b[0mA\u001b[0m\u001b[1;33m,\u001b[0m \u001b[0mp\u001b[0m\u001b[1;33m=\u001b[0m\u001b[1;36m0.85\u001b[0m\u001b[1;33m,\u001b[0m \u001b[0mtop\u001b[0m\u001b[1;33m=\u001b[0m\u001b[0mTOPK\u001b[0m\u001b[1;33m,\u001b[0m \u001b[0mnum_cores\u001b[0m\u001b[1;33m=\u001b[0m\u001b[0mnjobs\u001b[0m\u001b[1;33m)\u001b[0m\u001b[1;33m\u001b[0m\u001b[1;33m\u001b[0m\u001b[0m\n\u001b[0m\u001b[0;32m     60\u001b[0m \u001b[1;33m\u001b[0m\u001b[0m\n\u001b[0;32m     61\u001b[0m     \u001b[1;31m# utils.printf('cot...')\u001b[0m\u001b[1;33m\u001b[0m\u001b[1;33m\u001b[0m\u001b[1;33m\u001b[0m\u001b[0m\n",
      "\u001b[1;32m<ipython-input-100-0ded51e61c8e>\u001b[0m in \u001b[0;36mget_circle_of_trust_per_node\u001b[1;34m(A, p, top, num_cores)\u001b[0m\n\u001b[0;32m     12\u001b[0m \u001b[1;33m\u001b[0m\u001b[0m\n\u001b[0;32m     13\u001b[0m \u001b[1;32mdef\u001b[0m \u001b[0mget_circle_of_trust_per_node\u001b[0m\u001b[1;33m(\u001b[0m\u001b[0mA\u001b[0m\u001b[1;33m,\u001b[0m \u001b[0mp\u001b[0m\u001b[1;33m=\u001b[0m\u001b[1;36m0.85\u001b[0m\u001b[1;33m,\u001b[0m \u001b[0mtop\u001b[0m\u001b[1;33m=\u001b[0m\u001b[1;36m10\u001b[0m\u001b[1;33m,\u001b[0m \u001b[0mnum_cores\u001b[0m\u001b[1;33m=\u001b[0m\u001b[1;36m40\u001b[0m\u001b[1;33m)\u001b[0m\u001b[1;33m:\u001b[0m\u001b[1;33m\u001b[0m\u001b[1;33m\u001b[0m\u001b[0m\n\u001b[1;32m---> 14\u001b[1;33m     \u001b[1;32mreturn\u001b[0m \u001b[0mParallel\u001b[0m\u001b[1;33m(\u001b[0m\u001b[0mn_jobs\u001b[0m\u001b[1;33m=\u001b[0m\u001b[0mnum_cores\u001b[0m\u001b[1;33m)\u001b[0m\u001b[1;33m(\u001b[0m\u001b[0mdelayed\u001b[0m\u001b[1;33m(\u001b[0m\u001b[0m_ppr\u001b[0m\u001b[1;33m)\u001b[0m\u001b[1;33m(\u001b[0m\u001b[0mnode_index\u001b[0m\u001b[1;33m,\u001b[0m \u001b[0mA\u001b[0m\u001b[1;33m,\u001b[0m \u001b[0mp\u001b[0m\u001b[1;33m,\u001b[0m \u001b[0mtop\u001b[0m\u001b[1;33m)\u001b[0m \u001b[1;32mfor\u001b[0m \u001b[0mnode_index\u001b[0m \u001b[1;32min\u001b[0m \u001b[0mnp\u001b[0m\u001b[1;33m.\u001b[0m\u001b[0marange\u001b[0m\u001b[1;33m(\u001b[0m\u001b[0mA\u001b[0m\u001b[1;33m.\u001b[0m\u001b[0mshape\u001b[0m\u001b[1;33m[\u001b[0m\u001b[1;36m0\u001b[0m\u001b[1;33m]\u001b[0m\u001b[1;33m)\u001b[0m\u001b[1;33m)\u001b[0m\u001b[1;33m\u001b[0m\u001b[1;33m\u001b[0m\u001b[0m\n\u001b[0m\u001b[0;32m     15\u001b[0m \u001b[1;33m\u001b[0m\u001b[0m\n\u001b[0;32m     16\u001b[0m \u001b[1;32mdef\u001b[0m \u001b[0mfrequency_by_circle_of_trust\u001b[0m\u001b[1;33m(\u001b[0m\u001b[0mA\u001b[0m\u001b[1;33m,\u001b[0m \u001b[0mcot_per_node\u001b[0m\u001b[1;33m=\u001b[0m\u001b[1;32mNone\u001b[0m\u001b[1;33m,\u001b[0m \u001b[0mp\u001b[0m\u001b[1;33m=\u001b[0m\u001b[1;36m0.85\u001b[0m\u001b[1;33m,\u001b[0m \u001b[0mtop\u001b[0m\u001b[1;33m=\u001b[0m\u001b[1;36m10\u001b[0m\u001b[1;33m,\u001b[0m \u001b[0mnum_cores\u001b[0m\u001b[1;33m=\u001b[0m\u001b[1;36m40\u001b[0m\u001b[1;33m)\u001b[0m\u001b[1;33m:\u001b[0m\u001b[1;33m\u001b[0m\u001b[1;33m\u001b[0m\u001b[0m\n",
      "\u001b[1;32mc:\\Users\\timod\\Anaconda3\\lib\\site-packages\\joblib\\parallel.py\u001b[0m in \u001b[0;36m__call__\u001b[1;34m(self, iterable)\u001b[0m\n\u001b[0;32m   1005\u001b[0m                 \u001b[0mself\u001b[0m\u001b[1;33m.\u001b[0m\u001b[0m_iterating\u001b[0m \u001b[1;33m=\u001b[0m \u001b[0mself\u001b[0m\u001b[1;33m.\u001b[0m\u001b[0m_original_iterator\u001b[0m \u001b[1;32mis\u001b[0m \u001b[1;32mnot\u001b[0m \u001b[1;32mNone\u001b[0m\u001b[1;33m\u001b[0m\u001b[1;33m\u001b[0m\u001b[0m\n\u001b[0;32m   1006\u001b[0m \u001b[1;33m\u001b[0m\u001b[0m\n\u001b[1;32m-> 1007\u001b[1;33m             \u001b[1;32mwhile\u001b[0m \u001b[0mself\u001b[0m\u001b[1;33m.\u001b[0m\u001b[0mdispatch_one_batch\u001b[0m\u001b[1;33m(\u001b[0m\u001b[0miterator\u001b[0m\u001b[1;33m)\u001b[0m\u001b[1;33m:\u001b[0m\u001b[1;33m\u001b[0m\u001b[1;33m\u001b[0m\u001b[0m\n\u001b[0m\u001b[0;32m   1008\u001b[0m                 \u001b[1;32mpass\u001b[0m\u001b[1;33m\u001b[0m\u001b[1;33m\u001b[0m\u001b[0m\n\u001b[0;32m   1009\u001b[0m \u001b[1;33m\u001b[0m\u001b[0m\n",
      "\u001b[1;32mc:\\Users\\timod\\Anaconda3\\lib\\site-packages\\joblib\\parallel.py\u001b[0m in \u001b[0;36mdispatch_one_batch\u001b[1;34m(self, iterator)\u001b[0m\n\u001b[0;32m    833\u001b[0m                 \u001b[1;32mreturn\u001b[0m \u001b[1;32mFalse\u001b[0m\u001b[1;33m\u001b[0m\u001b[1;33m\u001b[0m\u001b[0m\n\u001b[0;32m    834\u001b[0m             \u001b[1;32melse\u001b[0m\u001b[1;33m:\u001b[0m\u001b[1;33m\u001b[0m\u001b[1;33m\u001b[0m\u001b[0m\n\u001b[1;32m--> 835\u001b[1;33m                 \u001b[0mself\u001b[0m\u001b[1;33m.\u001b[0m\u001b[0m_dispatch\u001b[0m\u001b[1;33m(\u001b[0m\u001b[0mtasks\u001b[0m\u001b[1;33m)\u001b[0m\u001b[1;33m\u001b[0m\u001b[1;33m\u001b[0m\u001b[0m\n\u001b[0m\u001b[0;32m    836\u001b[0m                 \u001b[1;32mreturn\u001b[0m \u001b[1;32mTrue\u001b[0m\u001b[1;33m\u001b[0m\u001b[1;33m\u001b[0m\u001b[0m\n\u001b[0;32m    837\u001b[0m \u001b[1;33m\u001b[0m\u001b[0m\n",
      "\u001b[1;32mc:\\Users\\timod\\Anaconda3\\lib\\site-packages\\joblib\\parallel.py\u001b[0m in \u001b[0;36m_dispatch\u001b[1;34m(self, batch)\u001b[0m\n\u001b[0;32m    752\u001b[0m         \u001b[1;32mwith\u001b[0m \u001b[0mself\u001b[0m\u001b[1;33m.\u001b[0m\u001b[0m_lock\u001b[0m\u001b[1;33m:\u001b[0m\u001b[1;33m\u001b[0m\u001b[1;33m\u001b[0m\u001b[0m\n\u001b[0;32m    753\u001b[0m             \u001b[0mjob_idx\u001b[0m \u001b[1;33m=\u001b[0m \u001b[0mlen\u001b[0m\u001b[1;33m(\u001b[0m\u001b[0mself\u001b[0m\u001b[1;33m.\u001b[0m\u001b[0m_jobs\u001b[0m\u001b[1;33m)\u001b[0m\u001b[1;33m\u001b[0m\u001b[1;33m\u001b[0m\u001b[0m\n\u001b[1;32m--> 754\u001b[1;33m             \u001b[0mjob\u001b[0m \u001b[1;33m=\u001b[0m \u001b[0mself\u001b[0m\u001b[1;33m.\u001b[0m\u001b[0m_backend\u001b[0m\u001b[1;33m.\u001b[0m\u001b[0mapply_async\u001b[0m\u001b[1;33m(\u001b[0m\u001b[0mbatch\u001b[0m\u001b[1;33m,\u001b[0m \u001b[0mcallback\u001b[0m\u001b[1;33m=\u001b[0m\u001b[0mcb\u001b[0m\u001b[1;33m)\u001b[0m\u001b[1;33m\u001b[0m\u001b[1;33m\u001b[0m\u001b[0m\n\u001b[0m\u001b[0;32m    755\u001b[0m             \u001b[1;31m# A job can complete so quickly than its callback is\u001b[0m\u001b[1;33m\u001b[0m\u001b[1;33m\u001b[0m\u001b[1;33m\u001b[0m\u001b[0m\n\u001b[0;32m    756\u001b[0m             \u001b[1;31m# called before we get here, causing self._jobs to\u001b[0m\u001b[1;33m\u001b[0m\u001b[1;33m\u001b[0m\u001b[1;33m\u001b[0m\u001b[0m\n",
      "\u001b[1;32mc:\\Users\\timod\\Anaconda3\\lib\\site-packages\\joblib\\_parallel_backends.py\u001b[0m in \u001b[0;36mapply_async\u001b[1;34m(self, func, callback)\u001b[0m\n\u001b[0;32m    207\u001b[0m     \u001b[1;32mdef\u001b[0m \u001b[0mapply_async\u001b[0m\u001b[1;33m(\u001b[0m\u001b[0mself\u001b[0m\u001b[1;33m,\u001b[0m \u001b[0mfunc\u001b[0m\u001b[1;33m,\u001b[0m \u001b[0mcallback\u001b[0m\u001b[1;33m=\u001b[0m\u001b[1;32mNone\u001b[0m\u001b[1;33m)\u001b[0m\u001b[1;33m:\u001b[0m\u001b[1;33m\u001b[0m\u001b[1;33m\u001b[0m\u001b[0m\n\u001b[0;32m    208\u001b[0m         \u001b[1;34m\"\"\"Schedule a func to be run\"\"\"\u001b[0m\u001b[1;33m\u001b[0m\u001b[1;33m\u001b[0m\u001b[0m\n\u001b[1;32m--> 209\u001b[1;33m         \u001b[0mresult\u001b[0m \u001b[1;33m=\u001b[0m \u001b[0mImmediateResult\u001b[0m\u001b[1;33m(\u001b[0m\u001b[0mfunc\u001b[0m\u001b[1;33m)\u001b[0m\u001b[1;33m\u001b[0m\u001b[1;33m\u001b[0m\u001b[0m\n\u001b[0m\u001b[0;32m    210\u001b[0m         \u001b[1;32mif\u001b[0m \u001b[0mcallback\u001b[0m\u001b[1;33m:\u001b[0m\u001b[1;33m\u001b[0m\u001b[1;33m\u001b[0m\u001b[0m\n\u001b[0;32m    211\u001b[0m             \u001b[0mcallback\u001b[0m\u001b[1;33m(\u001b[0m\u001b[0mresult\u001b[0m\u001b[1;33m)\u001b[0m\u001b[1;33m\u001b[0m\u001b[1;33m\u001b[0m\u001b[0m\n",
      "\u001b[1;32mc:\\Users\\timod\\Anaconda3\\lib\\site-packages\\joblib\\_parallel_backends.py\u001b[0m in \u001b[0;36m__init__\u001b[1;34m(self, batch)\u001b[0m\n\u001b[0;32m    588\u001b[0m         \u001b[1;31m# Don't delay the application, to avoid keeping the input\u001b[0m\u001b[1;33m\u001b[0m\u001b[1;33m\u001b[0m\u001b[1;33m\u001b[0m\u001b[0m\n\u001b[0;32m    589\u001b[0m         \u001b[1;31m# arguments in memory\u001b[0m\u001b[1;33m\u001b[0m\u001b[1;33m\u001b[0m\u001b[1;33m\u001b[0m\u001b[0m\n\u001b[1;32m--> 590\u001b[1;33m         \u001b[0mself\u001b[0m\u001b[1;33m.\u001b[0m\u001b[0mresults\u001b[0m \u001b[1;33m=\u001b[0m \u001b[0mbatch\u001b[0m\u001b[1;33m(\u001b[0m\u001b[1;33m)\u001b[0m\u001b[1;33m\u001b[0m\u001b[1;33m\u001b[0m\u001b[0m\n\u001b[0m\u001b[0;32m    591\u001b[0m \u001b[1;33m\u001b[0m\u001b[0m\n\u001b[0;32m    592\u001b[0m     \u001b[1;32mdef\u001b[0m \u001b[0mget\u001b[0m\u001b[1;33m(\u001b[0m\u001b[0mself\u001b[0m\u001b[1;33m)\u001b[0m\u001b[1;33m:\u001b[0m\u001b[1;33m\u001b[0m\u001b[1;33m\u001b[0m\u001b[0m\n",
      "\u001b[1;32mc:\\Users\\timod\\Anaconda3\\lib\\site-packages\\joblib\\parallel.py\u001b[0m in \u001b[0;36m__call__\u001b[1;34m(self)\u001b[0m\n\u001b[0;32m    254\u001b[0m         \u001b[1;32mwith\u001b[0m \u001b[0mparallel_backend\u001b[0m\u001b[1;33m(\u001b[0m\u001b[0mself\u001b[0m\u001b[1;33m.\u001b[0m\u001b[0m_backend\u001b[0m\u001b[1;33m,\u001b[0m \u001b[0mn_jobs\u001b[0m\u001b[1;33m=\u001b[0m\u001b[0mself\u001b[0m\u001b[1;33m.\u001b[0m\u001b[0m_n_jobs\u001b[0m\u001b[1;33m)\u001b[0m\u001b[1;33m:\u001b[0m\u001b[1;33m\u001b[0m\u001b[1;33m\u001b[0m\u001b[0m\n\u001b[0;32m    255\u001b[0m             return [func(*args, **kwargs)\n\u001b[1;32m--> 256\u001b[1;33m                     for func, args, kwargs in self.items]\n\u001b[0m\u001b[0;32m    257\u001b[0m \u001b[1;33m\u001b[0m\u001b[0m\n\u001b[0;32m    258\u001b[0m     \u001b[1;32mdef\u001b[0m \u001b[0m__len__\u001b[0m\u001b[1;33m(\u001b[0m\u001b[0mself\u001b[0m\u001b[1;33m)\u001b[0m\u001b[1;33m:\u001b[0m\u001b[1;33m\u001b[0m\u001b[1;33m\u001b[0m\u001b[0m\n",
      "\u001b[1;32mc:\\Users\\timod\\Anaconda3\\lib\\site-packages\\joblib\\parallel.py\u001b[0m in \u001b[0;36m<listcomp>\u001b[1;34m(.0)\u001b[0m\n\u001b[0;32m    254\u001b[0m         \u001b[1;32mwith\u001b[0m \u001b[0mparallel_backend\u001b[0m\u001b[1;33m(\u001b[0m\u001b[0mself\u001b[0m\u001b[1;33m.\u001b[0m\u001b[0m_backend\u001b[0m\u001b[1;33m,\u001b[0m \u001b[0mn_jobs\u001b[0m\u001b[1;33m=\u001b[0m\u001b[0mself\u001b[0m\u001b[1;33m.\u001b[0m\u001b[0m_n_jobs\u001b[0m\u001b[1;33m)\u001b[0m\u001b[1;33m:\u001b[0m\u001b[1;33m\u001b[0m\u001b[1;33m\u001b[0m\u001b[0m\n\u001b[0;32m    255\u001b[0m             return [func(*args, **kwargs)\n\u001b[1;32m--> 256\u001b[1;33m                     for func, args, kwargs in self.items]\n\u001b[0m\u001b[0;32m    257\u001b[0m \u001b[1;33m\u001b[0m\u001b[0m\n\u001b[0;32m    258\u001b[0m     \u001b[1;32mdef\u001b[0m \u001b[0m__len__\u001b[0m\u001b[1;33m(\u001b[0m\u001b[0mself\u001b[0m\u001b[1;33m)\u001b[0m\u001b[1;33m:\u001b[0m\u001b[1;33m\u001b[0m\u001b[1;33m\u001b[0m\u001b[0m\n",
      "\u001b[1;32m<ipython-input-100-0ded51e61c8e>\u001b[0m in \u001b[0;36m_ppr\u001b[1;34m(node_index, A, p, top)\u001b[0m\n\u001b[0;32m      6\u001b[0m     \u001b[0mpp\u001b[0m \u001b[1;33m=\u001b[0m \u001b[0mnp\u001b[0m\u001b[1;33m.\u001b[0m\u001b[0mzeros\u001b[0m\u001b[1;33m(\u001b[0m\u001b[0mA\u001b[0m\u001b[1;33m.\u001b[0m\u001b[0mshape\u001b[0m\u001b[1;33m[\u001b[0m\u001b[1;36m0\u001b[0m\u001b[1;33m]\u001b[0m\u001b[1;33m)\u001b[0m\u001b[1;33m\u001b[0m\u001b[1;33m\u001b[0m\u001b[0m\n\u001b[0;32m      7\u001b[0m     \u001b[0mpp\u001b[0m\u001b[1;33m[\u001b[0m\u001b[0mnode_index\u001b[0m\u001b[1;33m]\u001b[0m \u001b[1;33m=\u001b[0m \u001b[0mA\u001b[0m\u001b[1;33m.\u001b[0m\u001b[0mshape\u001b[0m\u001b[1;33m[\u001b[0m\u001b[1;36m0\u001b[0m\u001b[1;33m]\u001b[0m\u001b[1;33m\u001b[0m\u001b[1;33m\u001b[0m\u001b[0m\n\u001b[1;32m----> 8\u001b[1;33m     \u001b[0mpr\u001b[0m \u001b[1;33m=\u001b[0m \u001b[0mpagerank_power\u001b[0m\u001b[1;33m(\u001b[0m\u001b[0mA\u001b[0m\u001b[1;33m,\u001b[0m \u001b[0mp\u001b[0m\u001b[1;33m=\u001b[0m\u001b[0mp\u001b[0m\u001b[1;33m,\u001b[0m \u001b[0mpersonalize\u001b[0m\u001b[1;33m=\u001b[0m\u001b[0mpp\u001b[0m\u001b[1;33m)\u001b[0m\u001b[1;33m\u001b[0m\u001b[1;33m\u001b[0m\u001b[0m\n\u001b[0m\u001b[0;32m      9\u001b[0m     \u001b[0mpr\u001b[0m \u001b[1;33m=\u001b[0m \u001b[0mpr\u001b[0m\u001b[1;33m.\u001b[0m\u001b[0margsort\u001b[0m\u001b[1;33m(\u001b[0m\u001b[1;33m)\u001b[0m\u001b[1;33m[\u001b[0m\u001b[1;33m-\u001b[0m\u001b[0mtop\u001b[0m\u001b[1;33m-\u001b[0m\u001b[1;36m1\u001b[0m\u001b[1;33m:\u001b[0m\u001b[1;33m]\u001b[0m\u001b[1;33m[\u001b[0m\u001b[1;33m:\u001b[0m\u001b[1;33m:\u001b[0m\u001b[1;33m-\u001b[0m\u001b[1;36m1\u001b[0m\u001b[1;33m]\u001b[0m\u001b[1;33m\u001b[0m\u001b[1;33m\u001b[0m\u001b[0m\n\u001b[0;32m     10\u001b[0m     \u001b[1;31m#time.sleep(0.01)\u001b[0m\u001b[1;33m\u001b[0m\u001b[1;33m\u001b[0m\u001b[1;33m\u001b[0m\u001b[0m\n",
      "\u001b[1;32mc:\\Users\\timod\\Anaconda3\\lib\\site-packages\\fast_pagerank\\fast_pagerank.py\u001b[0m in \u001b[0;36mpagerank_power\u001b[1;34m(A, p, max_iter, tol, personalize, reverse)\u001b[0m\n\u001b[0;32m    115\u001b[0m         \u001b[1;32mif\u001b[0m \u001b[0miteration\u001b[0m \u001b[1;33m>=\u001b[0m \u001b[0mmax_iter\u001b[0m\u001b[1;33m:\u001b[0m\u001b[1;33m\u001b[0m\u001b[1;33m\u001b[0m\u001b[0m\n\u001b[0;32m    116\u001b[0m             \u001b[1;32mbreak\u001b[0m\u001b[1;33m\u001b[0m\u001b[1;33m\u001b[0m\u001b[0m\n\u001b[1;32m--> 117\u001b[1;33m     \u001b[0mx\u001b[0m \u001b[1;33m=\u001b[0m \u001b[0mx\u001b[0m \u001b[1;33m/\u001b[0m \u001b[0msum\u001b[0m\u001b[1;33m(\u001b[0m\u001b[0mx\u001b[0m\u001b[1;33m)\u001b[0m\u001b[1;33m\u001b[0m\u001b[1;33m\u001b[0m\u001b[0m\n\u001b[0m\u001b[0;32m    118\u001b[0m \u001b[1;33m\u001b[0m\u001b[0m\n\u001b[0;32m    119\u001b[0m     \u001b[1;32mreturn\u001b[0m \u001b[0mx\u001b[0m\u001b[1;33m.\u001b[0m\u001b[0mreshape\u001b[0m\u001b[1;33m(\u001b[0m\u001b[1;33m-\u001b[0m\u001b[1;36m1\u001b[0m\u001b[1;33m)\u001b[0m\u001b[1;33m\u001b[0m\u001b[1;33m\u001b[0m\u001b[0m\n",
      "\u001b[1;31mKeyboardInterrupt\u001b[0m: "
     ]
    }
   ],
   "source": [
    "sls_new_changes, sls_new_nodes = run_n_simulations(network_obj=network, n=2, \n",
    "                                            num_to_sample=2000, delete_edges=True, verbose=False, round=5, \n",
    "                                            remove_zero_degree_nodes=True, class_name='m', min_label=1, maj_label=0,\n",
    "                                            strategy='consecutively', save_results=False, save_as='sls_new_results_test.pkl', \n",
    "                                            to_txt=True, salsa_new=True)"
   ]
  },
  {
   "cell_type": "code",
   "execution_count": null,
   "metadata": {},
   "outputs": [],
   "source": []
  },
  {
   "cell_type": "code",
   "execution_count": null,
   "metadata": {},
   "outputs": [],
   "source": []
  },
  {
   "cell_type": "markdown",
   "metadata": {},
   "source": [
    "#### Pokec network analysis"
   ]
  },
  {
   "cell_type": "code",
   "execution_count": 22,
   "metadata": {},
   "outputs": [],
   "source": [
    "pokec_sample = nx.read_gpickle(config.ROOT+'POKEC-A21/nx_pokec_sample_fabbri_netfile_relabeled_attributes.pkl')"
   ]
  },
  {
   "cell_type": "markdown",
   "metadata": {},
   "source": [
    "##### Attach age data to nodes"
   ]
  },
  {
   "cell_type": "code",
   "execution_count": 23,
   "metadata": {},
   "outputs": [],
   "source": [
    "pokec_nodes_age = pd.read_csv(config.ROOT+'POKEC-A21/graph_nodes_by_age.tsv', sep='\\t')"
   ]
  },
  {
   "cell_type": "code",
   "execution_count": 24,
   "metadata": {},
   "outputs": [],
   "source": [
    "node_ids_all = np.array(list(pokec_nodes_age['node']))\n",
    "node_age_all = np.array(list(pokec_nodes_age['age']))\n",
    "\n",
    "mapping_all = dict(zip(node_ids_all, node_age_all))"
   ]
  },
  {
   "cell_type": "code",
   "execution_count": 25,
   "metadata": {},
   "outputs": [],
   "source": [
    "pokec_sample_nodes = np.array(list(pokec_sample.nodes()))"
   ]
  },
  {
   "cell_type": "code",
   "execution_count": null,
   "metadata": {},
   "outputs": [],
   "source": [
    "id_list = []\n",
    "\n",
    "for node in node_ids_all:\n",
    "\n",
    "    if node in pokec_sample_nodes:\n",
    "        id_list.append(node)\n",
    "        if len(id_list) % 20000 == 0:\n",
    "            print(len(id_list))"
   ]
  },
  {
   "cell_type": "code",
   "execution_count": null,
   "metadata": {},
   "outputs": [],
   "source": [
    "age_list = []\n",
    "\n",
    "for node in node_ids_all:\n",
    "\n",
    "    if node in pokec_sample_nodes:\n",
    "        age_list.append(mapping_all[node])\n",
    "        if len(age_list) % 20000 == 0:\n",
    "            print(len(age_list))"
   ]
  },
  {
   "cell_type": "code",
   "execution_count": 28,
   "metadata": {},
   "outputs": [],
   "source": [
    "id_age_mapping = dict(zip(id_list, age_list))"
   ]
  },
  {
   "cell_type": "code",
   "execution_count": 29,
   "metadata": {},
   "outputs": [],
   "source": [
    "nx.set_node_attributes(pokec_sample, values=id_age_mapping, name='age')"
   ]
  },
  {
   "cell_type": "code",
   "execution_count": 30,
   "metadata": {},
   "outputs": [],
   "source": [
    "nx.write_gpickle(pokec_sample, config.ROOT+'POKEC-A21/nx_pokec_sample_fabbri_netfile_relabeled_attributes.pkl')"
   ]
  },
  {
   "cell_type": "markdown",
   "metadata": {},
   "source": [
    "##### Network analysis"
   ]
  },
  {
   "cell_type": "code",
   "execution_count": 23,
   "metadata": {},
   "outputs": [
    {
     "name": "stdout",
     "output_type": "stream",
     "text": [
      "Number of edges: 8635657\n",
      "Number of nodes: 499051\n"
     ]
    }
   ],
   "source": [
    "enum_vnum(pokec_sample)"
   ]
  },
  {
   "cell_type": "code",
   "execution_count": null,
   "metadata": {},
   "outputs": [],
   "source": [
    "# out = [print(x) for x,y in pokec_sample.nodes(data=True) if 'age' not in y.keys()]"
   ]
  },
  {
   "cell_type": "code",
   "execution_count": 24,
   "metadata": {},
   "outputs": [
    {
     "name": "stdout",
     "output_type": "stream",
     "text": [
      "# Young nodes (minority): 231408 (46.37%)\n",
      "# Old nodes (majority): 267643 (53.63%)\n"
     ]
    }
   ],
   "source": [
    "get_group_ratios(pokec_sample, attribute='age', group_names=['Young', 'Old'], group_labels=['young', 'old'])"
   ]
  },
  {
   "cell_type": "code",
   "execution_count": 24,
   "metadata": {},
   "outputs": [],
   "source": [
    "prl = reindex_nodes(pokec_sample, name_as_str=True)"
   ]
  },
  {
   "cell_type": "code",
   "execution_count": 36,
   "metadata": {},
   "outputs": [
    {
     "name": "stdout",
     "output_type": "stream",
     "text": [
      "Min clustering coeff: 0.10987223735893467\n",
      "Maj clustering coeff: 0.10317896607116984\n"
     ]
    },
    {
     "data": {
      "text/plain": [
       "(0.10987223735893467, 0.10317896607116984)"
      ]
     },
     "execution_count": 36,
     "metadata": {},
     "output_type": "execute_result"
    }
   ],
   "source": [
    "get_avg_clustering_coefficient(network_obj=prl, mode='zero', class_name='age', group_names=['young', 'old'])"
   ]
  },
  {
   "cell_type": "code",
   "execution_count": null,
   "metadata": {},
   "outputs": [],
   "source": [
    "get_avg_sp_lengths(network_obj=prl, mode='out', class_name='age', group_names=['young', 'old'])"
   ]
  },
  {
   "cell_type": "code",
   "execution_count": 25,
   "metadata": {},
   "outputs": [],
   "source": [
    "pokec_changes, pokec_nodes = run_n_simulations(network_obj=prl, n=3, \n",
    "                                            num_to_sample=20000, delete_edges=True, verbose=False, round=5, \n",
    "                                            remove_zero_degree_nodes=True, class_name='age', min_label='young', maj_label='old',\n",
    "                                            strategy='bulk', save_results=True, save_as='pokec_results.pkl')"
   ]
  },
  {
   "cell_type": "code",
   "execution_count": null,
   "metadata": {},
   "outputs": [],
   "source": [
    "get_recommendation_group_ratios(network_obj=prl,\n",
    "                                recommended_nodes=pokec_nodes,\n",
    "                                class_name='age',\n",
    "                                deleted=True)"
   ]
  },
  {
   "cell_type": "code",
   "execution_count": null,
   "metadata": {},
   "outputs": [],
   "source": []
  },
  {
   "cell_type": "code",
   "execution_count": null,
   "metadata": {},
   "outputs": [],
   "source": []
  },
  {
   "cell_type": "code",
   "execution_count": null,
   "metadata": {},
   "outputs": [],
   "source": []
  },
  {
   "cell_type": "markdown",
   "metadata": {},
   "source": [
    "#### Blogs network analysis"
   ]
  },
  {
   "cell_type": "code",
   "execution_count": 29,
   "metadata": {},
   "outputs": [],
   "source": [
    "blogs = nx.read_gpickle(config.ROOT + \"blogs_attributed_network_anon.gpickle\")"
   ]
  },
  {
   "cell_type": "code",
   "execution_count": 30,
   "metadata": {},
   "outputs": [
    {
     "name": "stdout",
     "output_type": "stream",
     "text": [
      "Number of edges: 19025\n",
      "Number of nodes: 1224\n"
     ]
    }
   ],
   "source": [
    "enum_vnum(blogs)"
   ]
  },
  {
   "cell_type": "code",
   "execution_count": 31,
   "metadata": {},
   "outputs": [
    {
     "name": "stdout",
     "output_type": "stream",
     "text": [
      "# Left-leaning nodes (minority): 588 (48.04%)\n",
      "# Right-leaning nodes (majority): 636 (51.96%)\n"
     ]
    }
   ],
   "source": [
    "get_group_ratios(blogs, attribute='m', group_names=['Left-leaning', 'Right-leaning'], group_labels=[1, 0])"
   ]
  },
  {
   "cell_type": "code",
   "execution_count": null,
   "metadata": {},
   "outputs": [],
   "source": [
    "plot_degree_dist_per_group(blogs, attribute='m', group_names=['Left-leaning', 'Right-leaning'], group_labels=[1, 0])"
   ]
  },
  {
   "cell_type": "code",
   "execution_count": 33,
   "metadata": {},
   "outputs": [],
   "source": [
    "brl = reindex_nodes(blogs, name_as_str=True)"
   ]
  },
  {
   "cell_type": "code",
   "execution_count": 85,
   "metadata": {},
   "outputs": [
    {
     "name": "stdout",
     "output_type": "stream",
     "text": [
      "Min clustering coeff: 0.33135913459607913\n",
      "Maj clustering coeff: 0.308981090896077\n"
     ]
    },
    {
     "data": {
      "text/plain": [
       "(0.33135913459607913, 0.308981090896077)"
      ]
     },
     "execution_count": 85,
     "metadata": {},
     "output_type": "execute_result"
    }
   ],
   "source": [
    "get_avg_clustering_coefficient(network_obj=brl, mode='zero')"
   ]
  },
  {
   "cell_type": "code",
   "execution_count": 86,
   "metadata": {},
   "outputs": [
    {
     "name": "stdout",
     "output_type": "stream",
     "text": [
      "Min avg sp length: 2.2563136365657375\n",
      "Maj avg sp length: 2.1872751983392935\n"
     ]
    }
   ],
   "source": [
    "get_avg_sp_lengths(network_obj=brl, mode='out')"
   ]
  },
  {
   "cell_type": "code",
   "execution_count": 34,
   "metadata": {},
   "outputs": [],
   "source": [
    "def missing_elements(L):\n",
    "    start, end = L[0], L[-1]\n",
    "    return sorted(set(range(start, end + 1)).difference(L))"
   ]
  },
  {
   "cell_type": "code",
   "execution_count": 52,
   "metadata": {},
   "outputs": [
    {
     "name": "stdout",
     "output_type": "stream",
     "text": [
      "Min clustering coeff: 0.33135913459607913\n",
      "Maj clustering coeff: 0.308981090896077\n",
      "Min avg sp length: 2.2563136365657375\n",
      "Maj avg sp length: 2.1872751983392935\n",
      "# unique nodes with deleted out edge: 647\n",
      "Min clustering coeff: 0.3275932043060467\n",
      "Maj clustering coeff: 0.27609372900320067\n",
      "Min avg sp length: 2.253908270913467\n",
      "Maj avg sp length: 2.0868155377020816\n",
      "Finished run 0\n",
      "# unique nodes with deleted out edge: 656\n",
      "Min clustering coeff: 0.3308862889760806\n",
      "Maj clustering coeff: 0.2592904867115784\n",
      "Min avg sp length: 2.2184090806847063\n",
      "Maj avg sp length: 2.0529647298928277\n",
      "Finished run 1\n",
      "\n",
      "Mean stats and standard deviation for 2 runs\n",
      "---------------------------------------------------\n",
      "\n",
      "Edge types\n",
      "---------------------------\n",
      "mm: 0.4435% (0.006)\n",
      "mM: 0.0295% (0.0045)\n",
      "MM: 0.01725% (0.00125)\n",
      "Mm: 0.50975% (0.00275)\n",
      "\n",
      "Top-10% Minority Fraction\n",
      "---------------------------\n",
      "Avg. minority fraction: 0.92186% (0.00017)\n",
      "\n",
      "DC Changes\n",
      "---------------------------\n",
      "Majority: -4.62284 (2.69786)\n",
      "Minority: 2.63564 (1.06571)\n",
      "\n",
      "BC Changes\n",
      "---------------------------\n",
      "Majority: -3.87661 (2.01735)\n",
      "Minority: -5.75564 (0.30642)\n",
      "\n",
      "CC Changes\n",
      "---------------------------\n",
      "Majority: 3.52831 (0.04923)\n",
      "Minority: 5.17489 (0.01329)\n",
      "\n",
      "EVC Changes\n",
      "---------------------------\n",
      "Majority: -15.74708 (2.06907)\n",
      "Minority: 3.82482 (0.50256)\n",
      "\n",
      "Clustering Coeff Changes\n",
      "---------------------------\n",
      "Majority: -13.36295 (2.71914)\n",
      "Minority: -0.6396 (0.4969)\n",
      "\n",
      "Avg. Shortest Path Changes\n",
      "---------------------------\n",
      "Majority: -5.36672 (0.77381)\n",
      "Minority: -0.89327 (0.78666)\n",
      "\n",
      "Avg. overlap: 0.03325\n"
     ]
    }
   ],
   "source": [
    "blogs_changes, blogs_nodes = run_n_simulations(network_obj=brl, n=2, \n",
    "                                            num_to_sample=2000, delete_edges=True, verbose=False, round=5, \n",
    "                                            remove_zero_degree_nodes=True, class_name='m', min_label=1, maj_label=0,\n",
    "                                            strategy='consecutively', save_results=False, save_as='blogs_results_test.pkl', to_txt=True)"
   ]
  },
  {
   "cell_type": "code",
   "execution_count": 97,
   "metadata": {},
   "outputs": [
    {
     "name": "stdout",
     "output_type": "stream",
     "text": [
      "avg. share of min: 0.47895 (0.011604848124814035)\n",
      "avg. share of maj: 0.52105 (0.011604848124814058)\n"
     ]
    },
    {
     "data": {
      "text/plain": [
       "{'min_prop': 0.47895, 'maj_prop': 0.52105}"
      ]
     },
     "execution_count": 97,
     "metadata": {},
     "output_type": "execute_result"
    }
   ],
   "source": [
    "get_recommendation_group_ratios(network_obj=brl,\n",
    "                                recommended_nodes=blogs_nodes,\n",
    "                                class_name='m',\n",
    "                                deleted=False)"
   ]
  },
  {
   "cell_type": "code",
   "execution_count": null,
   "metadata": {},
   "outputs": [],
   "source": []
  },
  {
   "cell_type": "markdown",
   "metadata": {},
   "source": [
    "#### Hate network analysis"
   ]
  },
  {
   "cell_type": "code",
   "execution_count": null,
   "metadata": {},
   "outputs": [],
   "source": [
    "hate = nx.read_gpickle(config.ROOT + \"hate_attributed_network_anon.gpickle\")"
   ]
  },
  {
   "cell_type": "code",
   "execution_count": 90,
   "metadata": {},
   "outputs": [
    {
     "name": "stdout",
     "output_type": "stream",
     "text": [
      "Number of edges: 15141\n",
      "Number of nodes: 4971\n"
     ]
    }
   ],
   "source": [
    "enum_vnum(hate)"
   ]
  },
  {
   "cell_type": "code",
   "execution_count": 91,
   "metadata": {},
   "outputs": [
    {
     "name": "stdout",
     "output_type": "stream",
     "text": [
      "# Hateful nodes (minority): 544 (10.94%)\n",
      "# Normal nodes (majority): 4427 (89.06%)\n"
     ]
    }
   ],
   "source": [
    "get_group_ratios(hate, attribute='m', group_names=['Hateful', 'Normal'], group_labels=[1, 0])"
   ]
  },
  {
   "cell_type": "code",
   "execution_count": 92,
   "metadata": {},
   "outputs": [
    {
     "data": {
      "image/png": "[encoded data removed]",
      "text/plain": [
       "<Figure size 640x480 with 2 Axes>"
      ]
     },
     "metadata": {},
     "output_type": "display_data"
    }
   ],
   "source": [
    "plot_degree_dist_per_group(hate, attribute='m', group_names=['Hateful', 'Normal'], group_labels=[1, 0])"
   ]
  },
  {
   "cell_type": "code",
   "execution_count": 71,
   "metadata": {},
   "outputs": [],
   "source": [
    "# majority = [hate.degree(n[0]) for n in hate.nodes(data=True) if n[-1]['m'] == 0]"
   ]
  },
  {
   "cell_type": "code",
   "execution_count": 93,
   "metadata": {},
   "outputs": [],
   "source": [
    "hrl = reindex_nodes(hate, name_as_str=True)"
   ]
  },
  {
   "cell_type": "code",
   "execution_count": 94,
   "metadata": {},
   "outputs": [
    {
     "name": "stdout",
     "output_type": "stream",
     "text": [
      "Min clustering coeff: 0.1469718722716244\n",
      "Maj clustering coeff: 0.03689886088024183\n"
     ]
    },
    {
     "data": {
      "text/plain": [
       "(0.1469718722716244, 0.03689886088024183)"
      ]
     },
     "execution_count": 94,
     "metadata": {},
     "output_type": "execute_result"
    }
   ],
   "source": [
    "get_avg_clustering_coefficient(network_obj=hrl, mode='zero')"
   ]
  },
  {
   "cell_type": "code",
   "execution_count": 95,
   "metadata": {},
   "outputs": [
    {
     "name": "stdout",
     "output_type": "stream",
     "text": [
      "Min avg sp length: 0.8473443767971884\n",
      "Maj avg sp length: 0.19148040791549195\n"
     ]
    }
   ],
   "source": [
    "get_avg_sp_lengths(network_obj=hrl, mode='out')"
   ]
  },
  {
   "cell_type": "code",
   "execution_count": 96,
   "metadata": {},
   "outputs": [
    {
     "name": "stdout",
     "output_type": "stream",
     "text": [
      "# unique nodes with deleted out edge: 1243\n",
      "Finished run 0\n",
      "# unique nodes with deleted out edge: 1227\n",
      "Finished run 1\n",
      "# unique nodes with deleted out edge: 1234\n",
      "Finished run 2\n",
      "# unique nodes with deleted out edge: 1232\n",
      "Finished run 3\n",
      "# unique nodes with deleted out edge: 1249\n",
      "Finished run 4\n",
      "# unique nodes with deleted out edge: 1230\n",
      "Finished run 5\n",
      "# unique nodes with deleted out edge: 1219\n",
      "Finished run 6\n",
      "# unique nodes with deleted out edge: 1247\n",
      "Finished run 7\n",
      "# unique nodes with deleted out edge: 1262\n",
      "Finished run 8\n",
      "# unique nodes with deleted out edge: 1228\n",
      "Finished run 9\n",
      "\n",
      "Mean % changes and standard deviation for 10 runs\n",
      "---------------------------------------------------\n",
      "\n",
      "BC Changes\n",
      "---------------------------\n",
      "Majority: 174.93867 (16.28949)\n",
      "Minority: 234.75303 (13.75884)\n",
      "\n",
      "CC Changes\n",
      "---------------------------\n",
      "Majority: nan (nan)\n",
      "Minority: nan (nan)\n",
      "\n",
      "EVC Changes\n",
      "---------------------------\n",
      "Majority: 72.43276 (4.93394)\n",
      "Minority: -2.18838 (0.14907)\n",
      "\n",
      "DC Changes\n",
      "---------------------------\n",
      "Majority: -0.09292 (0.07589)\n",
      "Minority: 0.33513 (0.64904)\n",
      "\n",
      "Avg. overlap: 0.0\n",
      "\n",
      "Results saved to disk as hate_results_random.pkl\n"
     ]
    }
   ],
   "source": [
    "hate_changes, hate_nodes = run_n_simulations(network_obj=hrl, n=10, \n",
    "                                            num_to_sample=2000, delete_edges=True, verbose=False, round=5, \n",
    "                                            remove_zero_degree_nodes=True, class_name='m', min_label=1, maj_label=0,\n",
    "                                            strategy='random', save_results=True, save_as='hate_results_random.pkl')"
   ]
  },
  {
   "cell_type": "code",
   "execution_count": 99,
   "metadata": {},
   "outputs": [
    {
     "name": "stdout",
     "output_type": "stream",
     "text": [
      "avg. share of min: 0.10965 (0.005500227268031747)\n",
      "avg. share of maj: 0.89035 (0.005500227268031755)\n"
     ]
    },
    {
     "data": {
      "text/plain": [
       "{'min_prop': 0.10965, 'maj_prop': 0.89035}"
      ]
     },
     "execution_count": 99,
     "metadata": {},
     "output_type": "execute_result"
    }
   ],
   "source": [
    "get_recommendation_group_ratios(network_obj=hrl,\n",
    "                                recommended_nodes=hate_nodes,\n",
    "                                class_name='m',\n",
    "                                deleted=False)"
   ]
  },
  {
   "cell_type": "code",
   "execution_count": null,
   "metadata": {},
   "outputs": [],
   "source": []
  },
  {
   "cell_type": "code",
   "execution_count": null,
   "metadata": {},
   "outputs": [],
   "source": []
  },
  {
   "cell_type": "code",
   "execution_count": null,
   "metadata": {},
   "outputs": [],
   "source": []
  },
  {
   "cell_type": "markdown",
   "metadata": {},
   "source": [
    "### Random Walk Sampling"
   ]
  },
  {
   "cell_type": "code",
   "execution_count": 205,
   "metadata": {},
   "outputs": [],
   "source": [
    "t_e = pd.read_csv(config.ROOT+'POKEC-A21/graph_edges_by_age.tsv', sep='\\t', names=['v0', 'v1'])"
   ]
  },
  {
   "cell_type": "code",
   "execution_count": 207,
   "metadata": {},
   "outputs": [],
   "source": [
    "tt_e = pd.read_csv(config.ROOT+'POKEC-A21/edge_test.txt', sep='\\t', names=['v0', 'v1'])"
   ]
  },
  {
   "cell_type": "code",
   "execution_count": 209,
   "metadata": {},
   "outputs": [],
   "source": [
    "t_ev0 = list(t_e['v0'])\n",
    "t_ev1 = list(t_e['v1'])"
   ]
  },
  {
   "cell_type": "code",
   "execution_count": 211,
   "metadata": {},
   "outputs": [],
   "source": [
    "tt_ev0 = list(tt_e['v0'])\n",
    "tt_ev1 = list(tt_e['v1'])"
   ]
  },
  {
   "cell_type": "code",
   "execution_count": 219,
   "metadata": {},
   "outputs": [
    {
     "data": {
      "text/plain": [
       "8635662"
      ]
     },
     "execution_count": 219,
     "metadata": {},
     "output_type": "execute_result"
    }
   ],
   "source": [
    "len(t_ev0)"
   ]
  },
  {
   "cell_type": "code",
   "execution_count": 220,
   "metadata": {},
   "outputs": [
    {
     "data": {
      "text/plain": [
       "8635662"
      ]
     },
     "execution_count": 220,
     "metadata": {},
     "output_type": "execute_result"
    }
   ],
   "source": [
    "len(tt_ev0)"
   ]
  },
  {
   "cell_type": "code",
   "execution_count": 222,
   "metadata": {},
   "outputs": [
    {
     "data": {
      "text/plain": [
       "4266825"
      ]
     },
     "execution_count": 222,
     "metadata": {},
     "output_type": "execute_result"
    }
   ],
   "source": [
    "from collections import Counter\n",
    "a = Counter(t_ev0)\n",
    "b = Counter(tt_ev0)\n",
    "a &= b\n",
    "len(list(a.elements()))"
   ]
  },
  {
   "cell_type": "code",
   "execution_count": 175,
   "metadata": {},
   "outputs": [],
   "source": [
    "t = pd.read_csv(config.ROOT+'POKEC-A21/graph_nodes_by_age.tsv', sep='\\t')"
   ]
  },
  {
   "cell_type": "code",
   "execution_count": 191,
   "metadata": {},
   "outputs": [],
   "source": [
    "tt = pd.read_csv(config.ROOT+'POKEC-A21/node_test.txt', names=['node'])"
   ]
  },
  {
   "cell_type": "code",
   "execution_count": 192,
   "metadata": {},
   "outputs": [
    {
     "data": {
      "text/html": [
       "<div>\n",
       "<style scoped>\n",
       "    .dataframe tbody tr th:only-of-type {\n",
       "        vertical-align: middle;\n",
       "    }\n",
       "\n",
       "    .dataframe tbody tr th {\n",
       "        vertical-align: top;\n",
       "    }\n",
       "\n",
       "    .dataframe thead th {\n",
       "        text-align: right;\n",
       "    }\n",
       "</style>\n",
       "<table border=\"1\" class=\"dataframe\">\n",
       "  <thead>\n",
       "    <tr style=\"text-align: right;\">\n",
       "      <th></th>\n",
       "      <th>node</th>\n",
       "    </tr>\n",
       "  </thead>\n",
       "  <tbody>\n",
       "    <tr>\n",
       "      <th>0</th>\n",
       "      <td>2</td>\n",
       "    </tr>\n",
       "    <tr>\n",
       "      <th>1</th>\n",
       "      <td>5</td>\n",
       "    </tr>\n",
       "    <tr>\n",
       "      <th>2</th>\n",
       "      <td>10</td>\n",
       "    </tr>\n",
       "    <tr>\n",
       "      <th>3</th>\n",
       "      <td>21</td>\n",
       "    </tr>\n",
       "    <tr>\n",
       "      <th>4</th>\n",
       "      <td>11</td>\n",
       "    </tr>\n",
       "    <tr>\n",
       "      <th>...</th>\n",
       "      <td>...</td>\n",
       "    </tr>\n",
       "    <tr>\n",
       "      <th>499995</th>\n",
       "      <td>354990</td>\n",
       "    </tr>\n",
       "    <tr>\n",
       "      <th>499996</th>\n",
       "      <td>354993</td>\n",
       "    </tr>\n",
       "    <tr>\n",
       "      <th>499997</th>\n",
       "      <td>354999</td>\n",
       "    </tr>\n",
       "    <tr>\n",
       "      <th>499998</th>\n",
       "      <td>355009</td>\n",
       "    </tr>\n",
       "    <tr>\n",
       "      <th>499999</th>\n",
       "      <td>355012</td>\n",
       "    </tr>\n",
       "  </tbody>\n",
       "</table>\n",
       "<p>500000 rows × 1 columns</p>\n",
       "</div>"
      ],
      "text/plain": [
       "          node\n",
       "0            2\n",
       "1            5\n",
       "2           10\n",
       "3           21\n",
       "4           11\n",
       "...        ...\n",
       "499995  354990\n",
       "499996  354993\n",
       "499997  354999\n",
       "499998  355009\n",
       "499999  355012\n",
       "\n",
       "[500000 rows x 1 columns]"
      ]
     },
     "execution_count": 192,
     "metadata": {},
     "output_type": "execute_result"
    }
   ],
   "source": [
    "tt"
   ]
  },
  {
   "cell_type": "code",
   "execution_count": 187,
   "metadata": {},
   "outputs": [],
   "source": [
    "t_ = list(t['node'])"
   ]
  },
  {
   "cell_type": "code",
   "execution_count": 193,
   "metadata": {},
   "outputs": [],
   "source": [
    "tt_ = list(tt['node'])"
   ]
  },
  {
   "cell_type": "code",
   "execution_count": 199,
   "metadata": {},
   "outputs": [
    {
     "data": {
      "text/plain": [
       "499999"
      ]
     },
     "execution_count": 199,
     "metadata": {},
     "output_type": "execute_result"
    }
   ],
   "source": [
    "len(list(set(t_) & set(tt_)))"
   ]
  },
  {
   "cell_type": "code",
   "execution_count": 138,
   "metadata": {},
   "outputs": [
    {
     "data": {
      "text/plain": [
       "igraph.Vertex(<igraph.Graph object at 0x0000021331F1F048>, 0, {'name': '1'})"
      ]
     },
     "execution_count": 138,
     "metadata": {},
     "output_type": "execute_result"
    }
   ],
   "source": [
    "G.vs['name'=='1']"
   ]
  },
  {
   "cell_type": "code",
   "execution_count": 155,
   "metadata": {},
   "outputs": [],
   "source": [
    "a = G.vs()['name']"
   ]
  },
  {
   "cell_type": "code",
   "execution_count": 162,
   "metadata": {},
   "outputs": [
    {
     "data": {
      "text/plain": [
       "True"
      ]
     },
     "execution_count": 162,
     "metadata": {},
     "output_type": "execute_result"
    }
   ],
   "source": [
    "len(a) == len(set(a))"
   ]
  },
  {
   "cell_type": "code",
   "execution_count": 165,
   "metadata": {},
   "outputs": [],
   "source": [
    "z = Counter(a)"
   ]
  },
  {
   "cell_type": "code",
   "execution_count": null,
   "metadata": {},
   "outputs": [],
   "source": []
  },
  {
   "cell_type": "code",
   "execution_count": 173,
   "metadata": {},
   "outputs": [
    {
     "data": {
      "text/plain": [
       "(5, 141)"
      ]
     },
     "execution_count": 173,
     "metadata": {},
     "output_type": "execute_result"
    }
   ],
   "source": [
    "v0 = a.index('4')\n",
    "v1 = a.index('143')\n",
    "\n",
    "v0, v1"
   ]
  },
  {
   "cell_type": "code",
   "execution_count": 131,
   "metadata": {},
   "outputs": [
    {
     "data": {
      "text/plain": [
       "igraph.Vertex(<igraph.Graph object at 0x0000021331F1F048>, 5, {'name': '4'})"
      ]
     },
     "execution_count": 131,
     "metadata": {},
     "output_type": "execute_result"
    }
   ],
   "source": [
    "G.vs[5]"
   ]
  },
  {
   "cell_type": "code",
   "execution_count": 174,
   "metadata": {},
   "outputs": [
    {
     "data": {
      "text/plain": [
       "False"
      ]
     },
     "execution_count": 174,
     "metadata": {},
     "output_type": "execute_result"
    }
   ],
   "source": [
    "G.are_connected(v0, v1)"
   ]
  },
  {
   "cell_type": "markdown",
   "metadata": {},
   "source": [
    "Taken from Wagner et al. (2017):\n",
    "\n",
    "This strategy samples nodes by walking through the network. The walker starts at a random node in the network and chooses in each step one out-going link randomly and traverses it. All visited nodes are then added to the sample until K nodes have been added. A teleport probability can be set for teleporting to another random node in the network instead of traversing a link in this iteration; we use 0.15 throughout this work. The sampled network then contains these K nodes and all links between them. This technique of sampling is usually used in online social networks such as Facebook or Twitter, in\n",
    "which retrieving information about the whole population is overwhelming and computationally costly, but we can access and navigate the original network."
   ]
  },
  {
   "cell_type": "code",
   "execution_count": 33,
   "metadata": {},
   "outputs": [],
   "source": [
    "# quick test network\n",
    "g = nx.scale_free_graph(n=10000)"
   ]
  },
  {
   "cell_type": "code",
   "execution_count": 20,
   "metadata": {},
   "outputs": [],
   "source": [
    "import networkx as nx\n",
    "import itertools\n",
    "import numpy as np\n",
    "import matplotlib.pyplot as plt\n",
    "\n",
    "class RandomWalker:\n",
    "    def __init__(self, full_network, sample_size, with_attribute=False, attribute=''):\n",
    "        self.full_network = full_network\n",
    "        self.sample_size = sample_size\n",
    "        self.sampled_network = None\n",
    "        self.undirected_G = nx.to_undirected(self.full_network)\n",
    "        self.with_attribute = with_attribute\n",
    "        self.attribute = attribute\n",
    "    \n",
    "    def add_distinct_node(self, node):\n",
    "        if node not in list(self.sampled_network.nodes()):\n",
    "            if self.with_attribute:\n",
    "                self.sampled_network.add_node(node, _class = self.full_network.nodes()[node][self.attribute])\n",
    "            else:\n",
    "                self.sampled_network.add_node(node)\n",
    "\n",
    "    def get_all_valid_edges_between_sampled_nodes(self):\n",
    "        \n",
    "        sampled_network_nodes = self.sampled_network.nodes()\n",
    "\n",
    "        for node_i in sampled_network_nodes:\n",
    "            for out_edge in self.full_network.out_edges(node_i):\n",
    "                if out_edge[-1] in sampled_network_nodes:\n",
    "                    self.sampled_network.add_edge(node_i, out_edge[-1])  \n",
    "\n",
    "        return self.sampled_network\n",
    "\n",
    "    def show_sample(self):\n",
    "        assert self.sampled_network != None\n",
    "        nx.draw(self.sampled_network)\n",
    "        plt.show()\n",
    "\n",
    "    def assert_connectedness(self):\n",
    "        temp_undir_G = self.sampled_network.copy().to_undirected()\n",
    "        z = (temp_undir_G.subgraph(c) for c in nx.connected_components(temp_undir_G))\n",
    "\n",
    "        b = 0\n",
    "        for i in z:\n",
    "            print(i)\n",
    "            b += 1\n",
    "        \n",
    "        return True if b == 1 else False\n",
    "        \n",
    "    def get_random_walk_sampled_network(self, teleportation_proba=0.15, verbose=False, print_every=100):\n",
    "    \n",
    "        # get list of all nodes in the network\n",
    "        all_nodes  = list(self.full_network.nodes())\n",
    "\n",
    "        # randomly choose 1 node as starting point\n",
    "        k_0 = np.random.choice(all_nodes, 1)[0]\n",
    "\n",
    "        # initialize empty, directed networkx graph\n",
    "        self.sampled_network = nx.DiGraph()\n",
    "        self.add_distinct_node(k_0)\n",
    "\n",
    "        i = self.sampled_network.number_of_nodes()\n",
    "\n",
    "        while i < self.sample_size:\n",
    "            \n",
    "            # get a list of all nodes with an in-edge from k_0\n",
    "            out_nodes_k0 = [tup[1] for tup in self.full_network.out_edges(k_0)]\n",
    "            \n",
    "            # draw random number to determine whether the walker traverses an edge or teleports\n",
    "            # or random.uniform\n",
    "            traversion_threshold = (np.random.randint(1, 100)) / 100\n",
    "\n",
    "            # traverse an edge with probability equal to 1-teleportation_proba\n",
    "            if traversion_threshold <= (1-teleportation_proba):\n",
    "\n",
    "                # if node k_0 has at least one outgoing edge, draw a random destination node\n",
    "                # and add node k_1 to the network\n",
    "                if len(out_nodes_k0) > 0:\n",
    "                    k_1 = np.random.choice(out_nodes_k0, 1)[0]\n",
    "                    self.add_distinct_node(k_1)\n",
    "                    self.add_distinct_node(k_0)\n",
    "                \n",
    "                # if node k_0 does not have any outgoing edges and is not yet in nodes, add node k_0 to graph\n",
    "                # in this case, pick new random k_1 node from all possible nodes (where k_1 !=  k_0)\n",
    "                else:\n",
    "                    k_1 = np.random.choice([node for node in all_nodes if node != k_0], 1)[0]\n",
    "                    self.add_distinct_node(k_1)\n",
    "                    self.add_distinct_node(k_0)\n",
    "            \n",
    "            # teleport to a random node\n",
    "            else:\n",
    "                # remove connected nodes from possible teleportation destinations\n",
    "                \n",
    "                # checking for descendants of one random out node of k_0 works because undirected graph is used\n",
    "                # in an undirected graph, using descendants on a node t returns all reachable nodes from t\n",
    "                # this is akin to just returning all nodes in a network, with the exception of disjointed nodes\n",
    "               \n",
    "                # if len(out_nodes_k0) > 0:\n",
    "                #     random_out_node = np.random.choice(out_nodes_k0, 1)[0]\n",
    "                #     all_descendants = nx.algorithms.descendants(self.undirected_G, random_out_node)\n",
    "                    \n",
    "                #     all_possible_nodes = list(all_descendants - set(out_nodes_k0))\n",
    "                #     all_possible_nodes.remove(k_0)\n",
    "                    \n",
    "                all_possible_nodes = [node for node in all_nodes if node not in list(self.sampled_network.nodes())]\n",
    "                # randomly pick a teleportation destination node\n",
    "                k_1 = np.random.choice(all_possible_nodes, 1)[0]\n",
    "                self.add_distinct_node(k_1)\n",
    "                self.add_distinct_node(k_0)\n",
    "\n",
    "            # update the new starting node to be the previous destination node\n",
    "            k_0 = k_1\n",
    "                \n",
    "\n",
    "            i = self.sampled_network.number_of_nodes()\n",
    "\n",
    "            if verbose:\n",
    "                if i % print_every == 0:\n",
    "                    print(f\"Added {i} nodes.\")\n",
    "        \n",
    "    \n",
    "        self.sampled_network = self.get_all_valid_edges_between_sampled_nodes()\n",
    "\n",
    "        \n",
    "        return self.sampled_network\n"
   ]
  },
  {
   "cell_type": "code",
   "execution_count": 24,
   "metadata": {},
   "outputs": [],
   "source": [
    "import networkx as nx\n",
    "import itertools\n",
    "import numpy as np\n",
    "import matplotlib.pyplot as plt\n",
    "\n",
    "class RandomWalker_iG:\n",
    "    def __init__(self, full_network, sample_size):\n",
    "        self.full_network = full_network\n",
    "        self.sample_size = sample_size\n",
    "        self.sampled_network = None\n",
    "    \n",
    "    def add_distinct_node(self, node, test=False):\n",
    "        if node not in self.sampled_network.vs()['name']:\n",
    "            if not test:\n",
    "                self.sampled_network.add_vertex(node, _class = self.full_network.vs['name'==node]['class'])\n",
    "            else:\n",
    "                self.sampled_network.add_vertex(node)\n",
    "\n",
    "\n",
    "    def get_all_valid_edges_between_sampled_nodes(self):\n",
    "        \n",
    "        sampled_network_nodes = self.sampled_network.vs()['name']\n",
    "\n",
    "        # for node_i in sampled_network_nodes:\n",
    "        #     for out_v in [self.full_network.vs[i]['name'] for i in self.full_network.neighbors(node_i, mode='out')]:\n",
    "        #         if out_v in sampled_network_nodes:\n",
    "        #             self.sampled_network.add_edge(node_i, out_v)  \n",
    "        \n",
    "        for node_i in sampled_network_nodes:\n",
    "    \n",
    "            out_vs = [self.full_network.vs[i]['name'] for i in self.full_network.neighbors(node_i, mode='out')]\n",
    "            intersection = list(set(sampled_network_nodes) & set(out_vs))\n",
    "            \n",
    "            for _ in intersection:\n",
    "                self.sampled_network.add_edge(node_i, _)\n",
    "\n",
    "        return self.sampled_network\n",
    "\n",
    "       \n",
    "    def get_random_walk_sampled_network(self, teleportation_proba=0.15, verbose=False, print_every=100, test=False):\n",
    "    \n",
    "        # get list of all nodes in the network\n",
    "        # all_nodes = [int(i) for i in self.full_network.vs()['name']]\n",
    "        all_nodes = self.full_network.vs()['name']\n",
    "        print(\"got all node names\")\n",
    "\n",
    "        # randomly choose 1 node as starting point\n",
    "        k_0 = np.random.choice(all_nodes, 1)[0]\n",
    "\n",
    "        # initialize empty, directed graph\n",
    "        self.sampled_network = ig.Graph(directed=True)\n",
    "        # self.sampled_network.add_vertex(k_0, _class = self.full_network.vs['name'==k_0]['class'])\n",
    "        self.sampled_network.add_vertex(k_0)\n",
    "        print(\"initiated digraph and added first k0\")\n",
    "\n",
    "        i = self.sampled_network.vcount()\n",
    "\n",
    "        while i < self.sample_size:\n",
    "            \n",
    "            # draw random number to determine whether the walker traverses an edge or teleports\n",
    "            traversion_threshold = (np.random.randint(1, 100)) / 100\n",
    "\n",
    "            # traverse an edge with probability equal to 1-teleportation_proba\n",
    "            if traversion_threshold <= (1-teleportation_proba):\n",
    "                \n",
    "                print(\"Step 1: traversed\")\n",
    "\n",
    "                # get a list of all nodes with an in-edge from k_0\n",
    "                out_nodes_k0_ids = self.full_network.neighbors(k_0, mode='out')\n",
    "                out_nodes_k0 = [self.full_network.vs[i]['name'] for i in out_nodes_k0_ids]\n",
    "\n",
    "                print(f\"Step 2: got out-nodes of k0; number of out-nodes: {len(out_nodes_k0)}\")\n",
    "\n",
    "                # if node k_0 has at least one outgoing edge, draw a random destination node\n",
    "                # and add node k_1 to the network\n",
    "                if len(out_nodes_k0) > 0:\n",
    "                    print(\"Step 3a: out-nodes k0 > 0; choosing k1\")\n",
    "                    k_1 = np.random.choice(out_nodes_k0, 1)[0]\n",
    "                    # self.sampled_network.add_vertex(k_1, _class = self.full_network.vs['name'==k_1]['class'])\n",
    "                    self.add_distinct_node(k_1, test=test)\n",
    "                    # self.sampled_network.add_vertex(k_1)\n",
    "                    print(\"Step 3b: add vertex k1\")\n",
    "                    # add k_0 if not already in nodes\n",
    "                    self.add_distinct_node(k_0, test=test)\n",
    "                \n",
    "                # if node k_0 does not have any outgoing edges and is not yet in nodes, add node k_0 to graph\n",
    "                # in this case, pick new random k_1 node from all possible nodes (where k_1 !=  k_0)\n",
    "                # TODO: determine if this is actually useful / needed\n",
    "                else:\n",
    "                    \n",
    "                    k_1 = np.random.choice([node for node in all_nodes if node != k_0], 1)[0]\n",
    "                    # self.sampled_network.add_vertex(k_1, _class = self.full_network.vs['name'==k_1]['class'])\n",
    "                    # self.sampled_network.add_vertex(k_1)\n",
    "                    self.add_distinct_node(k_1, test=test)\n",
    "                    print(\"Step 3c: out-nodes k0 < 0; randomly choosing new k1 and adding vertex\")\n",
    "                    # add k_0 if not already in nodes\n",
    "                    self.add_distinct_node(k_0, test=test)\n",
    "            \n",
    "            # teleport to a random node\n",
    "            else:\n",
    "                print(\"Step 1: teleportation\")\n",
    "                # setting order to a very high number and mode='all' ensures that all reachable node ids will be returned\n",
    "                all_possible_nodes_ids = self.full_network.neighborhood(vertices=k_0, order=1000, mode='all', mindist=2)\n",
    "                all_possible_nodes = [self.full_network.vs[i]['name'] for i in all_possible_nodes_ids]\n",
    "                print(\"Step 2: got all possible destination nodes\")\n",
    "\n",
    "                if len(all_possible_nodes) > 0:                \n",
    "                # randomly pick a teleportation destination node\n",
    "                    k_1 = np.random.choice(all_possible_nodes, 1)[0]\n",
    "                else:\n",
    "                    k_1 = np.random.choice([node for node in all_nodes if node != k_0], 1)[0]\n",
    "                \n",
    "                self.add_distinct_node(k_1, test=test)\n",
    "                # add k_0 if not already in nodes\n",
    "                self.add_distinct_node(k_0, test=test)\n",
    "                print(\"Step 3: teleported to k1 and added k1\")\n",
    "\n",
    "            # update the new starting node to be the previous destination node\n",
    "            k_0 = k_1\n",
    "            print(\"k1 now new k0, repeat\")\n",
    "\n",
    "            # i = self.sampled_network.number_of_nodes()\n",
    "            i = self.sampled_network.vcount()\n",
    "\n",
    "            if verbose:\n",
    "                if i % print_every == 0:\n",
    "                    print(f\"Added {i} nodes.\")\n",
    "        \n",
    "        print(\"Getting all valid edges between sampled nodes\")\n",
    "        self.sampled_network = self.get_all_valid_edges_between_sampled_nodes()\n",
    "        \n",
    "        return self.sampled_network\n"
   ]
  },
  {
   "cell_type": "code",
   "execution_count": 133,
   "metadata": {},
   "outputs": [],
   "source": [
    "def add_distinct_node(node, test=False):\n",
    "    if node not in sampled_network.vs():\n",
    "        if not test:\n",
    "            sampled_network.add_vertex(node, _class = full_network.vs['name'==node]['class'])\n",
    "        else:\n",
    "            sampled_network.add_vertex(node)"
   ]
  },
  {
   "cell_type": "code",
   "execution_count": 138,
   "metadata": {},
   "outputs": [
    {
     "data": {
      "text/plain": [
       "158"
      ]
     },
     "execution_count": 138,
     "metadata": {},
     "output_type": "execute_result"
    }
   ],
   "source": [
    "sampled_network.ecount()"
   ]
  },
  {
   "cell_type": "code",
   "execution_count": 137,
   "metadata": {},
   "outputs": [],
   "source": [
    "sampled_network_nodes = sampled_network.vs()['name']\n",
    "\n",
    "# for node_i in sampled_network_nodes:\n",
    "#     for out_v in [self.full_network.vs[i]['name'] for i in self.full_network.neighbors(node_i, mode='out')]:\n",
    "#         if out_v in sampled_network_nodes:\n",
    "#             self.sampled_network.add_edge(node_i, out_v)  \n",
    "\n",
    "for node_i in sampled_network_nodes:\n",
    "\n",
    "    out_vs = [full_network.vs[i]['name'] for i in full_network.neighbors(node_i, mode='out')]\n",
    "    intersection = list(set(sampled_network_nodes) & set(out_vs))\n",
    "    \n",
    "    for _ in intersection:\n",
    "        sampled_network.add_edge(node_i, _)"
   ]
  },
  {
   "cell_type": "markdown",
   "metadata": {},
   "source": [
    "#### Cleaning"
   ]
  },
  {
   "cell_type": "code",
   "execution_count": 106,
   "metadata": {},
   "outputs": [],
   "source": [
    "G = read_pkl_graph(\"graph_no_attributes.pkl\")"
   ]
  },
  {
   "cell_type": "code",
   "execution_count": 5,
   "metadata": {},
   "outputs": [],
   "source": [
    "G_clean = G.copy()"
   ]
  },
  {
   "cell_type": "code",
   "execution_count": 6,
   "metadata": {},
   "outputs": [],
   "source": [
    "_p = load_profile_data(config.PROFILES_PATH)\n",
    "P = profile_data_to_df(_p)"
   ]
  },
  {
   "cell_type": "code",
   "execution_count": 7,
   "metadata": {},
   "outputs": [],
   "source": [
    "P_clean = P.copy()"
   ]
  },
  {
   "cell_type": "code",
   "execution_count": 8,
   "metadata": {},
   "outputs": [],
   "source": [
    "P_na = P_clean[P_clean['age'].isna()]\n",
    "P_ng = P_clean[P_clean['gender'].isna()]\n",
    "\n",
    "zz = P_na['user_id'].tolist()\n",
    "yy = P_ng['user_id'].tolist()\n",
    "\n",
    "P_clean.dropna(inplace=True)\n",
    "P_clean = P_clean.astype({'user_id':str, 'gender':'int64', 'age':'int64'})"
   ]
  },
  {
   "cell_type": "code",
   "execution_count": 9,
   "metadata": {},
   "outputs": [],
   "source": [
    "xx = P_clean[P_clean['age'] == 0]['user_id'].tolist()\n",
    "P_clean = P_clean[P_clean['age'] != 0]\n",
    "\n",
    "all_dropped_nodes = yy + xx"
   ]
  },
  {
   "cell_type": "code",
   "execution_count": 10,
   "metadata": {},
   "outputs": [],
   "source": [
    "G_clean.delete_vertices(all_dropped_nodes)"
   ]
  },
  {
   "cell_type": "code",
   "execution_count": 38,
   "metadata": {},
   "outputs": [],
   "source": [
    "mu = G_clean.get_edgelist()"
   ]
  },
  {
   "cell_type": "code",
   "execution_count": 39,
   "metadata": {},
   "outputs": [],
   "source": [
    "Gnx = nx.from_edgelist([(names[x[0]], names[x[1]])\n",
    "                      for names in [G_clean.vs['name']]\n",
    "                      for x in mu], nx.DiGraph())"
   ]
  },
  {
   "cell_type": "code",
   "execution_count": 41,
   "metadata": {},
   "outputs": [],
   "source": [
    "nx.write_gpickle(Gnx, config.ROOT+'nx_graph_no_attributes.pkl')"
   ]
  },
  {
   "cell_type": "markdown",
   "metadata": {},
   "source": [
    "#### Sampling"
   ]
  },
  {
   "cell_type": "code",
   "execution_count": 11,
   "metadata": {},
   "outputs": [],
   "source": [
    "G_clean_nx = nx.read_gpickle(config.ROOT + 'nx_graph_no_attributes.pkl')"
   ]
  },
  {
   "cell_type": "code",
   "execution_count": 12,
   "metadata": {},
   "outputs": [
    {
     "name": "stdout",
     "output_type": "stream",
     "text": [
      "1099121\n",
      "14975771\n"
     ]
    }
   ],
   "source": [
    "print(G_clean_nx.number_of_nodes())\n",
    "print(G_clean_nx.number_of_edges())"
   ]
  },
  {
   "cell_type": "code",
   "execution_count": 74,
   "metadata": {},
   "outputs": [
    {
     "name": "stdout",
     "output_type": "stream",
     "text": [
      "# nodes to remove: 0\n"
     ]
    }
   ],
   "source": [
    "remove = [node for node, degree in dict(G_clean_nx.degree()).items() if degree < 1]\n",
    "print(f'# nodes to remove: {len(remove)}')"
   ]
  },
  {
   "cell_type": "code",
   "execution_count": 18,
   "metadata": {},
   "outputs": [],
   "source": [
    "G_clean_nx.remove_nodes_from(remove)"
   ]
  },
  {
   "cell_type": "code",
   "execution_count": null,
   "metadata": {},
   "outputs": [],
   "source": [
    "rw = RandomWalker(full_network=G_clean_nx, sample_size=2000, with_attribute=False, attribute='')\n",
    "sample = rw.get_random_walk_sampled_network(teleportation_proba=0.15, verbose=True, print_every=100)"
   ]
  },
  {
   "cell_type": "code",
   "execution_count": 39,
   "metadata": {},
   "outputs": [],
   "source": [
    "# import networkx as nx\n",
    "# import itertools\n",
    "# import numpy as np\n",
    "# import matplotlib.pyplot as plt\n",
    "\n",
    "# class RandomWalker3:\n",
    "#     def __init__(self, full_network, sample_size, with_attribute=False, attribute=''):\n",
    "#         self.full_network = full_network\n",
    "#         self.sample_size = sample_size\n",
    "#         self.sampled_network = None\n",
    "#         self.undirected_G = nx.to_undirected(self.full_network)\n",
    "#         self.with_attribute = with_attribute\n",
    "#         self.attribute = attribute\n",
    "    \n",
    "#     def add_distinct_node(self, node):\n",
    "#         if node not in list(self.sampled_network.nodes()):\n",
    "#             if self.with_attribute:\n",
    "#                 self.sampled_network.add_node(node, _class = self.full_network.nodes()[node][self.attribute])\n",
    "#             else:\n",
    "#                 self.sampled_network.add_node(node)\n",
    "\n",
    "#     def get_all_valid_edges_between_sampled_nodes(self):\n",
    "        \n",
    "#         sampled_network_nodes = self.sampled_network.nodes()\n",
    "\n",
    "#         for node_i in sampled_network_nodes:\n",
    "#             for out_edge in self.full_network.out_edges(node_i):\n",
    "#                 if out_edge[-1] in sampled_network_nodes:\n",
    "#                     self.sampled_network.add_edge(node_i, out_edge[-1])  \n",
    "\n",
    "#         return self.sampled_network\n",
    "\n",
    "#     def show_sample(self):\n",
    "#         assert self.sampled_network != None\n",
    "#         nx.draw(self.sampled_network)\n",
    "#         plt.show()\n",
    "\n",
    "#     def assert_connectedness(self):\n",
    "#         temp_undir_G = self.sampled_network.copy().to_undirected()\n",
    "#         z = (temp_undir_G.subgraph(c) for c in nx.connected_components(temp_undir_G))\n",
    "\n",
    "#         b = 0\n",
    "#         for i in z:\n",
    "#             b += 1\n",
    "        \n",
    "#         return True if b == 1 else False\n",
    "        \n",
    "#     def get_random_walk_sampled_network(self, teleportation_proba=0.15, verbose=False, print_every=100):\n",
    "    \n",
    "#         # get list of all nodes in the network\n",
    "#         all_nodes  = list(self.full_network.nodes())\n",
    "\n",
    "#         # randomly choose 1 node as starting point\n",
    "#         k_0 = np.random.choice(all_nodes, 1)[0]\n",
    "\n",
    "#         # initialize empty, directed networkx graph\n",
    "#         self.sampled_network = nx.DiGraph()\n",
    "#         self.add_distinct_node(k_0)\n",
    "\n",
    "#         i = self.sampled_network.number_of_nodes()\n",
    "\n",
    "#         while i < self.sample_size:\n",
    "            \n",
    "#             # get a list of all nodes with an in-edge from k_0\n",
    "#             # out_nodes_k0 = [tup[1] for tup in self.full_network.out_edges(k_0)]\n",
    "#             out_nodes_k0 = list(nx.neighbors(self.undirected_G, k_0))\n",
    "\n",
    "#             if len(out_nodes_k0) > 0:\n",
    "#                 k_1 = np.random.choice(out_nodes_k0, 1)[0]\n",
    "#                 self.add_distinct_node(k_1)\n",
    "#                 self.add_distinct_node(k_0)\n",
    "            \n",
    "#             else:\n",
    "#                 k_1 = np.random.choice(list(self.sampled_network.nodes()), 1)[0]\n",
    "            \n",
    "#             k_0 = k_1\n",
    "\n",
    "#             i = self.sampled_network.number_of_nodes()\n",
    "\n",
    "#             if verbose:\n",
    "#                 if i % print_every == 0:\n",
    "#                     print(f\"Added {i} nodes.\")\n",
    "        \n",
    "#         self.sampled_network = self.get_all_valid_edges_between_sampled_nodes()\n",
    "\n",
    "        \n",
    "#         return self.sampled_network\n"
   ]
  },
  {
   "cell_type": "code",
   "execution_count": 32,
   "metadata": {},
   "outputs": [
    {
     "name": "stdout",
     "output_type": "stream",
     "text": [
      "got all node names\n",
      "initiated digraph and added first k0\n",
      "Step 1: traversed\n",
      "Step 2: got out-nodes of k0; number of out-nodes: 28\n",
      "Step 3a: out-nodes k0 > 0; choosing k1\n",
      "Step 3b: add vertex k1\n",
      "k1 now new k0, repeat\n",
      "Step 1: traversed\n",
      "Step 2: got out-nodes of k0; number of out-nodes: 44\n",
      "Step 3a: out-nodes k0 > 0; choosing k1\n",
      "Step 3b: add vertex k1\n",
      "k1 now new k0, repeat\n",
      "Step 1: traversed\n",
      "Step 2: got out-nodes of k0; number of out-nodes: 6\n",
      "Step 3a: out-nodes k0 > 0; choosing k1\n",
      "Step 3b: add vertex k1\n",
      "k1 now new k0, repeat\n",
      "Step 1: traversed\n",
      "Step 2: got out-nodes of k0; number of out-nodes: 26\n",
      "Step 3a: out-nodes k0 > 0; choosing k1\n",
      "Step 3b: add vertex k1\n",
      "k1 now new k0, repeat\n",
      "Added 5 nodes.\n",
      "Step 1: traversed\n",
      "Step 2: got out-nodes of k0; number of out-nodes: 13\n",
      "Step 3a: out-nodes k0 > 0; choosing k1\n",
      "Step 3b: add vertex k1\n",
      "k1 now new k0, repeat\n",
      "Added 5 nodes.\n",
      "Step 1: traversed\n",
      "Step 2: got out-nodes of k0; number of out-nodes: 26\n",
      "Step 3a: out-nodes k0 > 0; choosing k1\n",
      "Step 3b: add vertex k1\n",
      "k1 now new k0, repeat\n",
      "Step 1: traversed\n",
      "Step 2: got out-nodes of k0; number of out-nodes: 15\n",
      "Step 3a: out-nodes k0 > 0; choosing k1\n",
      "Step 3b: add vertex k1\n",
      "k1 now new k0, repeat\n",
      "Step 1: traversed\n",
      "Step 2: got out-nodes of k0; number of out-nodes: 15\n",
      "Step 3a: out-nodes k0 > 0; choosing k1\n",
      "Step 3b: add vertex k1\n",
      "k1 now new k0, repeat\n",
      "Step 1: traversed\n",
      "Step 2: got out-nodes of k0; number of out-nodes: 54\n",
      "Step 3a: out-nodes k0 > 0; choosing k1\n",
      "Step 3b: add vertex k1\n",
      "k1 now new k0, repeat\n",
      "Step 1: traversed\n",
      "Step 2: got out-nodes of k0; number of out-nodes: 16\n",
      "Step 3a: out-nodes k0 > 0; choosing k1\n",
      "Step 3b: add vertex k1\n",
      "k1 now new k0, repeat\n",
      "Added 10 nodes.\n",
      "Step 1: traversed\n",
      "Step 2: got out-nodes of k0; number of out-nodes: 24\n",
      "Step 3a: out-nodes k0 > 0; choosing k1\n",
      "Step 3b: add vertex k1\n",
      "k1 now new k0, repeat\n",
      "Step 1: traversed\n",
      "Step 2: got out-nodes of k0; number of out-nodes: 55\n",
      "Step 3a: out-nodes k0 > 0; choosing k1\n",
      "Step 3b: add vertex k1\n",
      "k1 now new k0, repeat\n",
      "Step 1: traversed\n",
      "Step 2: got out-nodes of k0; number of out-nodes: 61\n",
      "Step 3a: out-nodes k0 > 0; choosing k1\n",
      "Step 3b: add vertex k1\n",
      "k1 now new k0, repeat\n",
      "Step 1: traversed\n",
      "Step 2: got out-nodes of k0; number of out-nodes: 15\n",
      "Step 3a: out-nodes k0 > 0; choosing k1\n",
      "Step 3b: add vertex k1\n",
      "k1 now new k0, repeat\n",
      "Step 1: traversed\n",
      "Step 2: got out-nodes of k0; number of out-nodes: 17\n",
      "Step 3a: out-nodes k0 > 0; choosing k1\n",
      "Step 3b: add vertex k1\n",
      "k1 now new k0, repeat\n",
      "Added 15 nodes.\n",
      "Step 1: traversed\n",
      "Step 2: got out-nodes of k0; number of out-nodes: 34\n",
      "Step 3a: out-nodes k0 > 0; choosing k1\n",
      "Step 3b: add vertex k1\n",
      "k1 now new k0, repeat\n",
      "Step 1: traversed\n",
      "Step 2: got out-nodes of k0; number of out-nodes: 130\n",
      "Step 3a: out-nodes k0 > 0; choosing k1\n",
      "Step 3b: add vertex k1\n",
      "k1 now new k0, repeat\n",
      "Step 1: traversed\n",
      "Step 2: got out-nodes of k0; number of out-nodes: 66\n",
      "Step 3a: out-nodes k0 > 0; choosing k1\n",
      "Step 3b: add vertex k1\n",
      "k1 now new k0, repeat\n",
      "Step 1: traversed\n",
      "Step 2: got out-nodes of k0; number of out-nodes: 66\n",
      "Step 3a: out-nodes k0 > 0; choosing k1\n",
      "Step 3b: add vertex k1\n",
      "k1 now new k0, repeat\n",
      "Step 1: traversed\n",
      "Step 2: got out-nodes of k0; number of out-nodes: 101\n",
      "Step 3a: out-nodes k0 > 0; choosing k1\n",
      "Step 3b: add vertex k1\n",
      "k1 now new k0, repeat\n",
      "Added 20 nodes.\n",
      "Step 1: traversed\n",
      "Step 2: got out-nodes of k0; number of out-nodes: 12\n",
      "Step 3a: out-nodes k0 > 0; choosing k1\n",
      "Step 3b: add vertex k1\n",
      "k1 now new k0, repeat\n",
      "Step 1: traversed\n",
      "Step 2: got out-nodes of k0; number of out-nodes: 0\n",
      "Step 3c: out-nodes k0 < 0; randomly choosing new k1 and adding vertex\n",
      "k1 now new k0, repeat\n",
      "Step 1: traversed\n",
      "Step 2: got out-nodes of k0; number of out-nodes: 22\n",
      "Step 3a: out-nodes k0 > 0; choosing k1\n",
      "Step 3b: add vertex k1\n",
      "k1 now new k0, repeat\n",
      "Step 1: traversed\n",
      "Step 2: got out-nodes of k0; number of out-nodes: 6\n",
      "Step 3a: out-nodes k0 > 0; choosing k1\n",
      "Step 3b: add vertex k1\n",
      "k1 now new k0, repeat\n",
      "Step 1: traversed\n",
      "Step 2: got out-nodes of k0; number of out-nodes: 9\n",
      "Step 3a: out-nodes k0 > 0; choosing k1\n",
      "Step 3b: add vertex k1\n",
      "k1 now new k0, repeat\n",
      "Added 25 nodes.\n",
      "Step 1: traversed\n",
      "Step 2: got out-nodes of k0; number of out-nodes: 36\n",
      "Step 3a: out-nodes k0 > 0; choosing k1\n",
      "Step 3b: add vertex k1\n",
      "k1 now new k0, repeat\n",
      "Step 1: traversed\n",
      "Step 2: got out-nodes of k0; number of out-nodes: 36\n",
      "Step 3a: out-nodes k0 > 0; choosing k1\n",
      "Step 3b: add vertex k1\n",
      "k1 now new k0, repeat\n",
      "Step 1: traversed\n",
      "Step 2: got out-nodes of k0; number of out-nodes: 39\n",
      "Step 3a: out-nodes k0 > 0; choosing k1\n",
      "Step 3b: add vertex k1\n",
      "k1 now new k0, repeat\n",
      "Step 1: traversed\n",
      "Step 2: got out-nodes of k0; number of out-nodes: 42\n",
      "Step 3a: out-nodes k0 > 0; choosing k1\n",
      "Step 3b: add vertex k1\n",
      "k1 now new k0, repeat\n",
      "Step 1: traversed\n",
      "Step 2: got out-nodes of k0; number of out-nodes: 48\n",
      "Step 3a: out-nodes k0 > 0; choosing k1\n",
      "Step 3b: add vertex k1\n",
      "k1 now new k0, repeat\n",
      "Added 30 nodes.\n",
      "Step 1: traversed\n",
      "Step 2: got out-nodes of k0; number of out-nodes: 49\n",
      "Step 3a: out-nodes k0 > 0; choosing k1\n",
      "Step 3b: add vertex k1\n",
      "k1 now new k0, repeat\n",
      "Step 1: traversed\n",
      "Step 2: got out-nodes of k0; number of out-nodes: 28\n",
      "Step 3a: out-nodes k0 > 0; choosing k1\n",
      "Step 3b: add vertex k1\n",
      "k1 now new k0, repeat\n",
      "Step 1: traversed\n",
      "Step 2: got out-nodes of k0; number of out-nodes: 109\n",
      "Step 3a: out-nodes k0 > 0; choosing k1\n",
      "Step 3b: add vertex k1\n",
      "k1 now new k0, repeat\n",
      "Step 1: traversed\n",
      "Step 2: got out-nodes of k0; number of out-nodes: 123\n",
      "Step 3a: out-nodes k0 > 0; choosing k1\n",
      "Step 3b: add vertex k1\n",
      "k1 now new k0, repeat\n",
      "Step 1: traversed\n",
      "Step 2: got out-nodes of k0; number of out-nodes: 57\n",
      "Step 3a: out-nodes k0 > 0; choosing k1\n",
      "Step 3b: add vertex k1\n",
      "k1 now new k0, repeat\n",
      "Added 35 nodes.\n",
      "Step 1: traversed\n",
      "Step 2: got out-nodes of k0; number of out-nodes: 33\n",
      "Step 3a: out-nodes k0 > 0; choosing k1\n",
      "Step 3b: add vertex k1\n",
      "k1 now new k0, repeat\n",
      "Step 1: traversed\n",
      "Step 2: got out-nodes of k0; number of out-nodes: 87\n",
      "Step 3a: out-nodes k0 > 0; choosing k1\n",
      "Step 3b: add vertex k1\n",
      "k1 now new k0, repeat\n",
      "Step 1: traversed\n",
      "Step 2: got out-nodes of k0; number of out-nodes: 7\n",
      "Step 3a: out-nodes k0 > 0; choosing k1\n",
      "Step 3b: add vertex k1\n",
      "k1 now new k0, repeat\n",
      "Step 1: traversed\n",
      "Step 2: got out-nodes of k0; number of out-nodes: 33\n",
      "Step 3a: out-nodes k0 > 0; choosing k1\n",
      "Step 3b: add vertex k1\n",
      "k1 now new k0, repeat\n",
      "Step 1: traversed\n",
      "Step 2: got out-nodes of k0; number of out-nodes: 41\n",
      "Step 3a: out-nodes k0 > 0; choosing k1\n",
      "Step 3b: add vertex k1\n",
      "k1 now new k0, repeat\n",
      "Added 40 nodes.\n",
      "Step 1: traversed\n",
      "Step 2: got out-nodes of k0; number of out-nodes: 32\n",
      "Step 3a: out-nodes k0 > 0; choosing k1\n",
      "Step 3b: add vertex k1\n",
      "k1 now new k0, repeat\n",
      "Step 1: traversed\n",
      "Step 2: got out-nodes of k0; number of out-nodes: 26\n",
      "Step 3a: out-nodes k0 > 0; choosing k1\n",
      "Step 3b: add vertex k1\n",
      "k1 now new k0, repeat\n",
      "Step 1: traversed\n",
      "Step 2: got out-nodes of k0; number of out-nodes: 83\n",
      "Step 3a: out-nodes k0 > 0; choosing k1\n",
      "Step 3b: add vertex k1\n",
      "k1 now new k0, repeat\n",
      "Step 1: traversed\n",
      "Step 2: got out-nodes of k0; number of out-nodes: 20\n",
      "Step 3a: out-nodes k0 > 0; choosing k1\n",
      "Step 3b: add vertex k1\n",
      "k1 now new k0, repeat\n",
      "Step 1: traversed\n",
      "Step 2: got out-nodes of k0; number of out-nodes: 124\n",
      "Step 3a: out-nodes k0 > 0; choosing k1\n",
      "Step 3b: add vertex k1\n",
      "k1 now new k0, repeat\n",
      "Added 45 nodes.\n",
      "Step 1: traversed\n",
      "Step 2: got out-nodes of k0; number of out-nodes: 44\n",
      "Step 3a: out-nodes k0 > 0; choosing k1\n",
      "Step 3b: add vertex k1\n",
      "k1 now new k0, repeat\n",
      "Step 1: traversed\n",
      "Step 2: got out-nodes of k0; number of out-nodes: 18\n",
      "Step 3a: out-nodes k0 > 0; choosing k1\n",
      "Step 3b: add vertex k1\n",
      "k1 now new k0, repeat\n",
      "Step 1: traversed\n",
      "Step 2: got out-nodes of k0; number of out-nodes: 72\n",
      "Step 3a: out-nodes k0 > 0; choosing k1\n",
      "Step 3b: add vertex k1\n",
      "k1 now new k0, repeat\n",
      "Step 1: traversed\n",
      "Step 2: got out-nodes of k0; number of out-nodes: 19\n",
      "Step 3a: out-nodes k0 > 0; choosing k1\n",
      "Step 3b: add vertex k1\n",
      "k1 now new k0, repeat\n",
      "Step 1: traversed\n",
      "Step 2: got out-nodes of k0; number of out-nodes: 27\n",
      "Step 3a: out-nodes k0 > 0; choosing k1\n",
      "Step 3b: add vertex k1\n",
      "k1 now new k0, repeat\n",
      "Added 50 nodes.\n",
      "Step 1: traversed\n",
      "Step 2: got out-nodes of k0; number of out-nodes: 15\n",
      "Step 3a: out-nodes k0 > 0; choosing k1\n",
      "Step 3b: add vertex k1\n",
      "k1 now new k0, repeat\n",
      "Step 1: traversed\n",
      "Step 2: got out-nodes of k0; number of out-nodes: 22\n",
      "Step 3a: out-nodes k0 > 0; choosing k1\n",
      "Step 3b: add vertex k1\n",
      "k1 now new k0, repeat\n",
      "Step 1: traversed\n",
      "Step 2: got out-nodes of k0; number of out-nodes: 45\n",
      "Step 3a: out-nodes k0 > 0; choosing k1\n",
      "Step 3b: add vertex k1\n",
      "k1 now new k0, repeat\n",
      "Step 1: traversed\n",
      "Step 2: got out-nodes of k0; number of out-nodes: 57\n",
      "Step 3a: out-nodes k0 > 0; choosing k1\n",
      "Step 3b: add vertex k1\n",
      "k1 now new k0, repeat\n",
      "Step 1: traversed\n",
      "Step 2: got out-nodes of k0; number of out-nodes: 55\n",
      "Step 3a: out-nodes k0 > 0; choosing k1\n",
      "Step 3b: add vertex k1\n",
      "k1 now new k0, repeat\n",
      "Added 55 nodes.\n",
      "Step 1: traversed\n",
      "Step 2: got out-nodes of k0; number of out-nodes: 39\n",
      "Step 3a: out-nodes k0 > 0; choosing k1\n",
      "Step 3b: add vertex k1\n",
      "k1 now new k0, repeat\n",
      "Step 1: traversed\n",
      "Step 2: got out-nodes of k0; number of out-nodes: 47\n",
      "Step 3a: out-nodes k0 > 0; choosing k1\n",
      "Step 3b: add vertex k1\n",
      "k1 now new k0, repeat\n",
      "Step 1: traversed\n",
      "Step 2: got out-nodes of k0; number of out-nodes: 38\n",
      "Step 3a: out-nodes k0 > 0; choosing k1\n",
      "Step 3b: add vertex k1\n",
      "k1 now new k0, repeat\n",
      "Step 1: traversed\n",
      "Step 2: got out-nodes of k0; number of out-nodes: 109\n",
      "Step 3a: out-nodes k0 > 0; choosing k1\n",
      "Step 3b: add vertex k1\n",
      "k1 now new k0, repeat\n",
      "Step 1: traversed\n",
      "Step 2: got out-nodes of k0; number of out-nodes: 121\n",
      "Step 3a: out-nodes k0 > 0; choosing k1\n",
      "Step 3b: add vertex k1\n",
      "k1 now new k0, repeat\n",
      "Added 60 nodes.\n",
      "Step 1: traversed\n",
      "Step 2: got out-nodes of k0; number of out-nodes: 25\n",
      "Step 3a: out-nodes k0 > 0; choosing k1\n",
      "Step 3b: add vertex k1\n",
      "k1 now new k0, repeat\n",
      "Step 1: traversed\n",
      "Step 2: got out-nodes of k0; number of out-nodes: 23\n",
      "Step 3a: out-nodes k0 > 0; choosing k1\n",
      "Step 3b: add vertex k1\n",
      "k1 now new k0, repeat\n",
      "Step 1: traversed\n",
      "Step 2: got out-nodes of k0; number of out-nodes: 42\n",
      "Step 3a: out-nodes k0 > 0; choosing k1\n",
      "Step 3b: add vertex k1\n",
      "k1 now new k0, repeat\n",
      "Step 1: traversed\n",
      "Step 2: got out-nodes of k0; number of out-nodes: 21\n",
      "Step 3a: out-nodes k0 > 0; choosing k1\n",
      "Step 3b: add vertex k1\n",
      "k1 now new k0, repeat\n",
      "Step 1: traversed\n",
      "Step 2: got out-nodes of k0; number of out-nodes: 20\n",
      "Step 3a: out-nodes k0 > 0; choosing k1\n",
      "Step 3b: add vertex k1\n",
      "k1 now new k0, repeat\n",
      "Added 65 nodes.\n",
      "Step 1: traversed\n",
      "Step 2: got out-nodes of k0; number of out-nodes: 92\n",
      "Step 3a: out-nodes k0 > 0; choosing k1\n",
      "Step 3b: add vertex k1\n",
      "k1 now new k0, repeat\n",
      "Step 1: traversed\n",
      "Step 2: got out-nodes of k0; number of out-nodes: 51\n",
      "Step 3a: out-nodes k0 > 0; choosing k1\n",
      "Step 3b: add vertex k1\n",
      "k1 now new k0, repeat\n",
      "Step 1: traversed\n",
      "Step 2: got out-nodes of k0; number of out-nodes: 61\n",
      "Step 3a: out-nodes k0 > 0; choosing k1\n",
      "Step 3b: add vertex k1\n",
      "k1 now new k0, repeat\n",
      "Step 1: traversed\n",
      "Step 2: got out-nodes of k0; number of out-nodes: 80\n",
      "Step 3a: out-nodes k0 > 0; choosing k1\n",
      "Step 3b: add vertex k1\n",
      "k1 now new k0, repeat\n",
      "Step 1: traversed\n",
      "Step 2: got out-nodes of k0; number of out-nodes: 15\n",
      "Step 3a: out-nodes k0 > 0; choosing k1\n",
      "Step 3b: add vertex k1\n",
      "k1 now new k0, repeat\n",
      "Added 70 nodes.\n",
      "Step 1: traversed\n",
      "Step 2: got out-nodes of k0; number of out-nodes: 62\n",
      "Step 3a: out-nodes k0 > 0; choosing k1\n",
      "Step 3b: add vertex k1\n",
      "k1 now new k0, repeat\n",
      "Step 1: traversed\n",
      "Step 2: got out-nodes of k0; number of out-nodes: 58\n",
      "Step 3a: out-nodes k0 > 0; choosing k1\n",
      "Step 3b: add vertex k1\n",
      "k1 now new k0, repeat\n",
      "Step 1: traversed\n",
      "Step 2: got out-nodes of k0; number of out-nodes: 17\n",
      "Step 3a: out-nodes k0 > 0; choosing k1\n",
      "Step 3b: add vertex k1\n",
      "k1 now new k0, repeat\n",
      "Step 1: traversed\n",
      "Step 2: got out-nodes of k0; number of out-nodes: 12\n",
      "Step 3a: out-nodes k0 > 0; choosing k1\n",
      "Step 3b: add vertex k1\n",
      "k1 now new k0, repeat\n",
      "Step 1: traversed\n",
      "Step 2: got out-nodes of k0; number of out-nodes: 41\n",
      "Step 3a: out-nodes k0 > 0; choosing k1\n",
      "Step 3b: add vertex k1\n",
      "k1 now new k0, repeat\n",
      "Added 75 nodes.\n",
      "Step 1: traversed\n",
      "Step 2: got out-nodes of k0; number of out-nodes: 4\n",
      "Step 3a: out-nodes k0 > 0; choosing k1\n",
      "Step 3b: add vertex k1\n",
      "k1 now new k0, repeat\n",
      "Step 1: traversed\n",
      "Step 2: got out-nodes of k0; number of out-nodes: 38\n",
      "Step 3a: out-nodes k0 > 0; choosing k1\n",
      "Step 3b: add vertex k1\n",
      "k1 now new k0, repeat\n",
      "Step 1: traversed\n",
      "Step 2: got out-nodes of k0; number of out-nodes: 14\n",
      "Step 3a: out-nodes k0 > 0; choosing k1\n",
      "Step 3b: add vertex k1\n",
      "k1 now new k0, repeat\n",
      "Step 1: traversed\n",
      "Step 2: got out-nodes of k0; number of out-nodes: 6\n",
      "Step 3a: out-nodes k0 > 0; choosing k1\n",
      "Step 3b: add vertex k1\n",
      "k1 now new k0, repeat\n",
      "Step 1: traversed\n",
      "Step 2: got out-nodes of k0; number of out-nodes: 21\n",
      "Step 3a: out-nodes k0 > 0; choosing k1\n",
      "Step 3b: add vertex k1\n",
      "k1 now new k0, repeat\n",
      "Added 80 nodes.\n",
      "Step 1: traversed\n",
      "Step 2: got out-nodes of k0; number of out-nodes: 49\n",
      "Step 3a: out-nodes k0 > 0; choosing k1\n",
      "Step 3b: add vertex k1\n",
      "k1 now new k0, repeat\n",
      "Step 1: traversed\n",
      "Step 2: got out-nodes of k0; number of out-nodes: 1\n",
      "Step 3a: out-nodes k0 > 0; choosing k1\n",
      "Step 3b: add vertex k1\n",
      "k1 now new k0, repeat\n",
      "Step 1: traversed\n",
      "Step 2: got out-nodes of k0; number of out-nodes: 20\n",
      "Step 3a: out-nodes k0 > 0; choosing k1\n",
      "Step 3b: add vertex k1\n",
      "k1 now new k0, repeat\n",
      "Step 1: traversed\n",
      "Step 2: got out-nodes of k0; number of out-nodes: 33\n",
      "Step 3a: out-nodes k0 > 0; choosing k1\n",
      "Step 3b: add vertex k1\n",
      "k1 now new k0, repeat\n",
      "Step 1: traversed\n",
      "Step 2: got out-nodes of k0; number of out-nodes: 16\n",
      "Step 3a: out-nodes k0 > 0; choosing k1\n",
      "Step 3b: add vertex k1\n",
      "k1 now new k0, repeat\n",
      "Added 85 nodes.\n",
      "Step 1: traversed\n",
      "Step 2: got out-nodes of k0; number of out-nodes: 45\n",
      "Step 3a: out-nodes k0 > 0; choosing k1\n",
      "Step 3b: add vertex k1\n",
      "k1 now new k0, repeat\n",
      "Step 1: traversed\n",
      "Step 2: got out-nodes of k0; number of out-nodes: 3\n",
      "Step 3a: out-nodes k0 > 0; choosing k1\n",
      "Step 3b: add vertex k1\n",
      "k1 now new k0, repeat\n",
      "Step 1: traversed\n",
      "Step 2: got out-nodes of k0; number of out-nodes: 20\n",
      "Step 3a: out-nodes k0 > 0; choosing k1\n",
      "Step 3b: add vertex k1\n",
      "k1 now new k0, repeat\n",
      "Step 1: traversed\n",
      "Step 2: got out-nodes of k0; number of out-nodes: 10\n",
      "Step 3a: out-nodes k0 > 0; choosing k1\n",
      "Step 3b: add vertex k1\n",
      "k1 now new k0, repeat\n",
      "Step 1: traversed\n",
      "Step 2: got out-nodes of k0; number of out-nodes: 70\n",
      "Step 3a: out-nodes k0 > 0; choosing k1\n",
      "Step 3b: add vertex k1\n",
      "k1 now new k0, repeat\n",
      "Added 90 nodes.\n",
      "Step 1: traversed\n",
      "Step 2: got out-nodes of k0; number of out-nodes: 107\n",
      "Step 3a: out-nodes k0 > 0; choosing k1\n",
      "Step 3b: add vertex k1\n",
      "k1 now new k0, repeat\n",
      "Step 1: traversed\n",
      "Step 2: got out-nodes of k0; number of out-nodes: 1\n",
      "Step 3a: out-nodes k0 > 0; choosing k1\n",
      "Step 3b: add vertex k1\n",
      "k1 now new k0, repeat\n",
      "Step 1: traversed\n",
      "Step 2: got out-nodes of k0; number of out-nodes: 41\n",
      "Step 3a: out-nodes k0 > 0; choosing k1\n",
      "Step 3b: add vertex k1\n",
      "k1 now new k0, repeat\n",
      "Step 1: traversed\n",
      "Step 2: got out-nodes of k0; number of out-nodes: 0\n",
      "Step 3c: out-nodes k0 < 0; randomly choosing new k1 and adding vertex\n",
      "k1 now new k0, repeat\n",
      "Step 1: traversed\n",
      "Step 2: got out-nodes of k0; number of out-nodes: 16\n",
      "Step 3a: out-nodes k0 > 0; choosing k1\n",
      "Step 3b: add vertex k1\n",
      "k1 now new k0, repeat\n",
      "Added 95 nodes.\n",
      "Step 1: traversed\n",
      "Step 2: got out-nodes of k0; number of out-nodes: 40\n",
      "Step 3a: out-nodes k0 > 0; choosing k1\n",
      "Step 3b: add vertex k1\n",
      "k1 now new k0, repeat\n",
      "Step 1: traversed\n",
      "Step 2: got out-nodes of k0; number of out-nodes: 15\n",
      "Step 3a: out-nodes k0 > 0; choosing k1\n",
      "Step 3b: add vertex k1\n",
      "k1 now new k0, repeat\n",
      "Step 1: traversed\n",
      "Step 2: got out-nodes of k0; number of out-nodes: 20\n",
      "Step 3a: out-nodes k0 > 0; choosing k1\n",
      "Step 3b: add vertex k1\n",
      "k1 now new k0, repeat\n",
      "Step 1: traversed\n",
      "Step 2: got out-nodes of k0; number of out-nodes: 66\n",
      "Step 3a: out-nodes k0 > 0; choosing k1\n",
      "Step 3b: add vertex k1\n",
      "k1 now new k0, repeat\n",
      "Step 1: traversed\n",
      "Step 2: got out-nodes of k0; number of out-nodes: 6\n",
      "Step 3a: out-nodes k0 > 0; choosing k1\n",
      "Step 3b: add vertex k1\n",
      "k1 now new k0, repeat\n",
      "Added 100 nodes.\n",
      "Getting all valid edges between sampled nodes\n"
     ]
    }
   ],
   "source": [
    "rwx = RandomWalker_iG(full_network=G_clean, sample_size=100)\n",
    "pokec_sample = rwx.get_random_walk_sampled_network(teleportation_proba=0, verbose=True, print_every=5, test=True)"
   ]
  },
  {
   "cell_type": "code",
   "execution_count": 40,
   "metadata": {},
   "outputs": [],
   "source": [
    "u = pokec_sample.decompose(mode='weak')"
   ]
  },
  {
   "cell_type": "code",
   "execution_count": null,
   "metadata": {},
   "outputs": [],
   "source": [
    "for i in u:\n",
    "    print(i.vcount())"
   ]
  },
  {
   "cell_type": "code",
   "execution_count": null,
   "metadata": {},
   "outputs": [],
   "source": []
  },
  {
   "cell_type": "code",
   "execution_count": null,
   "metadata": {},
   "outputs": [],
   "source": []
  },
  {
   "cell_type": "code",
   "execution_count": 121,
   "metadata": {},
   "outputs": [],
   "source": [
    "g = ig.Graph.Barabasi(10, directed=True)\n",
    "# vseq = g.vs"
   ]
  },
  {
   "cell_type": "code",
   "execution_count": 146,
   "metadata": {},
   "outputs": [],
   "source": [
    "sampled_network = ig.Graph(directed=True)"
   ]
  },
  {
   "cell_type": "code",
   "execution_count": 147,
   "metadata": {},
   "outputs": [
    {
     "data": {
      "text/plain": [
       "igraph.Vertex(<igraph.Graph object at 0x0000021331F1F4F8>, 5, {'name': '5'})"
      ]
     },
     "execution_count": 147,
     "metadata": {},
     "output_type": "execute_result"
    }
   ],
   "source": [
    "sampled_network.add_vertex('0')\n",
    "sampled_network.add_vertex('1')\n",
    "sampled_network.add_vertex('2')\n",
    "sampled_network.add_vertex('3')\n",
    "sampled_network.add_vertex('4')\n",
    "sampled_network.add_vertex('5')"
   ]
  },
  {
   "cell_type": "code",
   "execution_count": 148,
   "metadata": {},
   "outputs": [
    {
     "data": {
      "text/plain": [
       "['0', '1', '2', '3', '4', '5']"
      ]
     },
     "execution_count": 148,
     "metadata": {},
     "output_type": "execute_result"
    }
   ],
   "source": [
    "sampled_network.vs()['name']"
   ]
  },
  {
   "cell_type": "code",
   "execution_count": 208,
   "metadata": {},
   "outputs": [],
   "source": [
    "# sampled_network.vs[0]['name'] = '999'"
   ]
  },
  {
   "cell_type": "code",
   "execution_count": 209,
   "metadata": {},
   "outputs": [],
   "source": [
    "# sampled_network.vs[1]['name'] = '001'"
   ]
  },
  {
   "cell_type": "code",
   "execution_count": 149,
   "metadata": {},
   "outputs": [
    {
     "data": {
      "text/plain": [
       "igraph.Edge(<igraph.Graph object at 0x0000021331F1F4F8>, 4, {})"
      ]
     },
     "execution_count": 149,
     "metadata": {},
     "output_type": "execute_result"
    }
   ],
   "source": [
    "sampled_network.add_edge('0', '1')\n",
    "sampled_network.add_edge('0', '2')\n",
    "sampled_network.add_edge('3', '5')\n",
    "sampled_network.add_edge('2', '4')\n",
    "sampled_network.add_edge('5', '1')"
   ]
  },
  {
   "cell_type": "code",
   "execution_count": 92,
   "metadata": {},
   "outputs": [
    {
     "data": {
      "text/plain": [
       "igraph.Edge(<igraph.Graph object at 0x0000013D31D87408>, 6, {})"
      ]
     },
     "execution_count": 92,
     "metadata": {},
     "output_type": "execute_result"
    }
   ],
   "source": [
    "sampled_network.add_edge('2', '1')"
   ]
  },
  {
   "cell_type": "code",
   "execution_count": 93,
   "metadata": {},
   "outputs": [
    {
     "data": {
      "text/plain": [
       "[(0, 1), (0, 2), (3, 5), (2, 4), (5, 1), (3, 1), (2, 1)]"
      ]
     },
     "execution_count": 93,
     "metadata": {},
     "output_type": "execute_result"
    }
   ],
   "source": [
    "sampled_network.get_edgelist()"
   ]
  },
  {
   "cell_type": "code",
   "execution_count": 117,
   "metadata": {},
   "outputs": [
    {
     "data": {
      "text/plain": [
       "igraph.Vertex(<igraph.Graph object at 0x0000013D6256D9A8>, 144, {'name': '48017'})"
      ]
     },
     "execution_count": 117,
     "metadata": {},
     "output_type": "execute_result"
    }
   ],
   "source": [
    "full_network.vs[144]"
   ]
  },
  {
   "cell_type": "code",
   "execution_count": 119,
   "metadata": {},
   "outputs": [
    {
     "data": {
      "text/plain": [
       "[1, 2, 3, 4, 5, 6, 7, 8, 9, 10, 11]"
      ]
     },
     "execution_count": 119,
     "metadata": {},
     "output_type": "execute_result"
    }
   ],
   "source": [
    "full_network.neighbors(0, mode='out')"
   ]
  },
  {
   "cell_type": "code",
   "execution_count": 212,
   "metadata": {},
   "outputs": [],
   "source": [
    "sampled_network.delete_vertices('4')"
   ]
  },
  {
   "cell_type": "code",
   "execution_count": 168,
   "metadata": {},
   "outputs": [
    {
     "data": {
      "text/plain": [
       "igraph.Edge(<igraph.Graph object at 0x000001EAB101FE58>, 6, {})"
      ]
     },
     "execution_count": 168,
     "metadata": {},
     "output_type": "execute_result"
    }
   ],
   "source": [
    "sampled_network.add_edge('999', '5')"
   ]
  },
  {
   "cell_type": "code",
   "execution_count": 157,
   "metadata": {},
   "outputs": [
    {
     "data": {
      "text/plain": [
       "[1, 2]"
      ]
     },
     "execution_count": 157,
     "metadata": {},
     "output_type": "execute_result"
    }
   ],
   "source": [
    "sampled_network.neighbors(0, mode='out')"
   ]
  },
  {
   "cell_type": "code",
   "execution_count": 163,
   "metadata": {},
   "outputs": [
    {
     "data": {
      "text/plain": [
       "[0, 1, 2, 4]"
      ]
     },
     "execution_count": 163,
     "metadata": {},
     "output_type": "execute_result"
    }
   ],
   "source": [
    "yyy = sampled_network.neighborhood(vertices=0, order=1000, mode='out', mindist=0)\n",
    "yyy"
   ]
  },
  {
   "cell_type": "code",
   "execution_count": 162,
   "metadata": {},
   "outputs": [
    {
     "data": {
      "text/plain": [
       "['999', '001', '2', '4']"
      ]
     },
     "execution_count": 162,
     "metadata": {},
     "output_type": "execute_result"
    }
   ],
   "source": [
    "all_possible_nodes = [sampled_network.vs[i]['name'] for i in yyy]\n",
    "all_possible_nodes"
   ]
  },
  {
   "cell_type": "code",
   "execution_count": 150,
   "metadata": {},
   "outputs": [
    {
     "data": {
      "text/plain": [
       "igraph.Vertex(<igraph.Graph object at 0x0000021331F1F4F8>, 6, {'name': '-1'})"
      ]
     },
     "execution_count": 150,
     "metadata": {},
     "output_type": "execute_result"
    }
   ],
   "source": [
    "sampled_network.add_vertex('-1')"
   ]
  },
  {
   "cell_type": "code",
   "execution_count": 154,
   "metadata": {},
   "outputs": [
    {
     "data": {
      "text/plain": [
       "['0', '1', '2', '3', '4', '5', '-1']"
      ]
     },
     "execution_count": 154,
     "metadata": {},
     "output_type": "execute_result"
    }
   ],
   "source": [
    "sampled_network.vs()['name']"
   ]
  },
  {
   "cell_type": "code",
   "execution_count": 169,
   "metadata": {},
   "outputs": [
    {
     "data": {
      "text/plain": [
       "[(0, 1), (0, 2), (3, 5), (2, 4), (5, 1), (0, 5), (0, 5)]"
      ]
     },
     "execution_count": 169,
     "metadata": {},
     "output_type": "execute_result"
    }
   ],
   "source": [
    "sampled_network.get_edgelist()"
   ]
  },
  {
   "cell_type": "code",
   "execution_count": 124,
   "metadata": {},
   "outputs": [
    {
     "data": {
      "text/plain": [
       "igraph.Vertex(<igraph.Graph object at 0x000001EAB101F4F8>, 7, {})"
      ]
     },
     "execution_count": 124,
     "metadata": {},
     "output_type": "execute_result"
    }
   ],
   "source": [
    "g.vs[7]"
   ]
  },
  {
   "cell_type": "code",
   "execution_count": 127,
   "metadata": {},
   "outputs": [
    {
     "data": {
      "text/plain": [
       "igraph.Vertex(<igraph.Graph object at 0x000001EAB101F4F8>, 10, {'name': 999})"
      ]
     },
     "execution_count": 127,
     "metadata": {},
     "output_type": "execute_result"
    }
   ],
   "source": [
    "g.add_vertex(999)"
   ]
  },
  {
   "cell_type": "code",
   "execution_count": 128,
   "metadata": {},
   "outputs": [
    {
     "data": {
      "text/plain": [
       "[(1, 0), (2, 0), (3, 0), (4, 3), (5, 2), (6, 3), (7, 1), (8, 3), (9, 0)]"
      ]
     },
     "execution_count": 128,
     "metadata": {},
     "output_type": "execute_result"
    }
   ],
   "source": [
    "g.get_edgelist()"
   ]
  },
  {
   "cell_type": "code",
   "execution_count": 130,
   "metadata": {},
   "outputs": [
    {
     "ename": "InternalError",
     "evalue": "Error at src/graph/iterators.c:751: Cannot create iterator, invalid vertex id. -- Invalid vertex id",
     "output_type": "error",
     "traceback": [
      "\u001b[1;31m---------------------------------------------------------------------------\u001b[0m",
      "\u001b[1;31mInternalError\u001b[0m                             Traceback (most recent call last)",
      "\u001b[1;32m<ipython-input-130-be2a45632a34>\u001b[0m in \u001b[0;36m<module>\u001b[1;34m\u001b[0m\n\u001b[1;32m----> 1\u001b[1;33m \u001b[0mg\u001b[0m\u001b[1;33m.\u001b[0m\u001b[0mneighborhood\u001b[0m\u001b[1;33m(\u001b[0m\u001b[0mvertices\u001b[0m\u001b[1;33m=\u001b[0m\u001b[1;36m999\u001b[0m\u001b[1;33m,\u001b[0m \u001b[0morder\u001b[0m\u001b[1;33m=\u001b[0m\u001b[1;36m1\u001b[0m\u001b[1;33m,\u001b[0m \u001b[0mmode\u001b[0m\u001b[1;33m=\u001b[0m\u001b[1;34m'all'\u001b[0m\u001b[1;33m,\u001b[0m \u001b[0mmindist\u001b[0m\u001b[1;33m=\u001b[0m\u001b[1;36m0\u001b[0m\u001b[1;33m)\u001b[0m\u001b[1;33m\u001b[0m\u001b[1;33m\u001b[0m\u001b[0m\n\u001b[0m",
      "\u001b[1;31mInternalError\u001b[0m: Error at src/graph/iterators.c:751: Cannot create iterator, invalid vertex id. -- Invalid vertex id"
     ]
    }
   ],
   "source": [
    "g.neighborhood(vertices=999, order=1, mode='all', mindist=0)"
   ]
  },
  {
   "cell_type": "code",
   "execution_count": 88,
   "metadata": {},
   "outputs": [
    {
     "data": {
      "text/plain": [
       "False"
      ]
     },
     "execution_count": 88,
     "metadata": {},
     "output_type": "execute_result"
    }
   ],
   "source": [
    "0 in list(g.vs)"
   ]
  },
  {
   "cell_type": "code",
   "execution_count": 89,
   "metadata": {},
   "outputs": [],
   "source": [
    "yy = [n for n in g.vs]"
   ]
  },
  {
   "cell_type": "code",
   "execution_count": 94,
   "metadata": {},
   "outputs": [
    {
     "data": {
      "text/plain": [
       "1"
      ]
     },
     "execution_count": 94,
     "metadata": {},
     "output_type": "execute_result"
    }
   ],
   "source": [
    "yy[1].index"
   ]
  },
  {
   "cell_type": "code",
   "execution_count": 81,
   "metadata": {},
   "outputs": [
    {
     "data": {
      "text/plain": [
       "igraph.Vertex(<igraph.Graph object at 0x000001EAAD343E58>, 10, {'name': 10})"
      ]
     },
     "execution_count": 81,
     "metadata": {},
     "output_type": "execute_result"
    }
   ],
   "source": [
    "g.add_vertex(10)"
   ]
  },
  {
   "cell_type": "code",
   "execution_count": 57,
   "metadata": {},
   "outputs": [
    {
     "data": {
      "text/plain": [
       "[0, 1, 2, 3, 4, 5, 6, 7, 8, 9]"
      ]
     },
     "execution_count": 57,
     "metadata": {},
     "output_type": "execute_result"
    }
   ],
   "source": [
    "g.vs.indices"
   ]
  },
  {
   "cell_type": "code",
   "execution_count": 51,
   "metadata": {},
   "outputs": [
    {
     "data": {
      "text/plain": [
       "2"
      ]
     },
     "execution_count": 51,
     "metadata": {},
     "output_type": "execute_result"
    }
   ],
   "source": [
    "np.random.choice(g.neighbors(9, mode='out'), 1)[0]"
   ]
  },
  {
   "cell_type": "code",
   "execution_count": 58,
   "metadata": {},
   "outputs": [
    {
     "data": {
      "text/plain": [
       "Matrix([[0, 0, 0, 0, 0, 0, 0, 0, 0, 0], [0, 0, 0, 0, 0, 0, 0, 0, 0, 0], [0, 0, 0, 0, 0, 0, 0, 0, 0, 0], [0, 0, 0, 0, 0, 0, 0, 0, 0, 0], [0, 0, 0, 0, 0, 0, 0, 0, 0, 0], [0, 0, 0, 0, 0, 0, 0, 0, 0, 0], [0, 0, 0, 0, 0, 0, 0, 0, 0, 0], [0, 0, 0, 0, 0, 0, 0, 0, 0, 0], [0, 0, 0, 0, 0, 0, 0, 0, 0, 0], [0, 0, 0, 0, 0, 0, 0, 0, 0, 0]])"
      ]
     },
     "execution_count": 58,
     "metadata": {},
     "output_type": "execute_result"
    }
   ],
   "source": [
    "g.get_adjacency()"
   ]
  },
  {
   "cell_type": "code",
   "execution_count": null,
   "metadata": {},
   "outputs": [],
   "source": []
  },
  {
   "cell_type": "code",
   "execution_count": 26,
   "metadata": {},
   "outputs": [
    {
     "data": {
      "text/plain": [
       "'M'"
      ]
     },
     "execution_count": 26,
     "metadata": {},
     "output_type": "execute_result"
    }
   ],
   "source": [
    "z.vs['name' == 4]['_class']"
   ]
  },
  {
   "cell_type": "code",
   "execution_count": null,
   "metadata": {},
   "outputs": [],
   "source": []
  },
  {
   "cell_type": "code",
   "execution_count": 6,
   "metadata": {},
   "outputs": [],
   "source": [
    "G_nodes_0 = [x for x,y in G2.nodes(data=True) if y['class']==0]\n",
    "G_nodes_1 = [x for x,y in G2.nodes(data=True) if y['class']==1]"
   ]
  },
  {
   "cell_type": "code",
   "execution_count": 7,
   "metadata": {},
   "outputs": [
    {
     "name": "stdout",
     "output_type": "stream",
     "text": [
      "500\n",
      "500\n"
     ]
    }
   ],
   "source": [
    "print(len(G_nodes_0))\n",
    "print(len(G_nodes_1))"
   ]
  },
  {
   "cell_type": "code",
   "execution_count": 8,
   "metadata": {},
   "outputs": [],
   "source": [
    "sample_nodes_0 = [x for x,y in sample.nodes(data=True) if y['_class']==0]\n",
    "sample_nodes_1 = [x for x,y in sample.nodes(data=True) if y['_class']==1]"
   ]
  },
  {
   "cell_type": "code",
   "execution_count": 9,
   "metadata": {},
   "outputs": [
    {
     "name": "stdout",
     "output_type": "stream",
     "text": [
      "190\n",
      "210\n"
     ]
    }
   ],
   "source": [
    "print(len(sample_nodes_0))\n",
    "print(len(sample_nodes_1))"
   ]
  },
  {
   "cell_type": "code",
   "execution_count": 5,
   "metadata": {},
   "outputs": [
    {
     "data": {
      "image/png": "[encoded data removed]",
      "text/plain": [
       "<Figure size 640x480 with 1 Axes>"
      ]
     },
     "metadata": {},
     "output_type": "display_data"
    }
   ],
   "source": [
    "rw.show_sample()"
   ]
  },
  {
   "cell_type": "code",
   "execution_count": 158,
   "metadata": {},
   "outputs": [],
   "source": [
    "def plot_degree_dist(G):\n",
    "    degrees = [G.degree(n) for n in G.nodes()]\n",
    "    sns.histplot(degrees)\n",
    "    plt.ylabel('Frequency')\n",
    "    plt.xlabel('Degree')\n",
    "    plt.show()"
   ]
  },
  {
   "cell_type": "code",
   "execution_count": 11,
   "metadata": {},
   "outputs": [
    {
     "data": {
      "image/png": "[encoded data removed]",
      "text/plain": [
       "<Figure size 640x480 with 1 Axes>"
      ]
     },
     "metadata": {},
     "output_type": "display_data"
    }
   ],
   "source": [
    "plot_degree_dist(sample)"
   ]
  },
  {
   "cell_type": "code",
   "execution_count": 16,
   "metadata": {},
   "outputs": [
    {
     "data": {
      "image/png": "[encoded data removed]",
      "text/plain": [
       "<Figure size 640x480 with 1 Axes>"
      ]
     },
     "metadata": {},
     "output_type": "display_data"
    }
   ],
   "source": [
    "plot_degree_dist(G2)"
   ]
  },
  {
   "cell_type": "code",
   "execution_count": 12,
   "metadata": {},
   "outputs": [],
   "source": [
    "def plot_degree_dist_per_group(G, attribute=''):\n",
    "    group_0 = [G.degree(n[0]) for n in G.nodes(data=True) if n[-1][attribute] == 0]\n",
    "    group_1 = [G.degree(n[0]) for n in G.nodes(data=True) if n[-1][attribute] == 1]\n",
    "    \n",
    "    plt.subplot(1, 2, 1)  # 1 line, 2 rows, index nr 1 (first position in the subplot)\n",
    "    plt.hist(group_0)\n",
    "    plt.ylabel('Frequency')\n",
    "    plt.xlabel('Degree')\n",
    "    plt.title('group_0')\n",
    "    plt.subplot(1, 2, 2)  # 1 line, 2 rows, index nr 2 (second position in the subplot)\n",
    "    plt.hist(group_1)\n",
    "    plt.xlabel('Degree')\n",
    "    plt.title('group_1')\n",
    "\n",
    "    plt.show()\n",
    "\n",
    "def plot_degree_dist(G):\n",
    "    degrees = [G.degree(n) for n in G.nodes()]\n",
    "    sns.histplot(degrees)\n",
    "    plt.ylabel('Frequency')\n",
    "    plt.xlabel('Degree')\n",
    "    plt.show()"
   ]
  },
  {
   "cell_type": "code",
   "execution_count": 13,
   "metadata": {},
   "outputs": [
    {
     "data": {
      "image/png": "[encoded data removed]",
      "text/plain": [
       "<Figure size 640x480 with 2 Axes>"
      ]
     },
     "metadata": {},
     "output_type": "display_data"
    }
   ],
   "source": [
    "plot_degree_dist_per_group(sample, attribute='_class')"
   ]
  },
  {
   "cell_type": "code",
   "execution_count": 14,
   "metadata": {},
   "outputs": [
    {
     "name": "stdout",
     "output_type": "stream",
     "text": [
      "1.9433073073073073\n"
     ]
    }
   ],
   "source": [
    "print(nx.average_shortest_path_length(G2))"
   ]
  },
  {
   "cell_type": "code",
   "execution_count": 15,
   "metadata": {},
   "outputs": [
    {
     "name": "stdout",
     "output_type": "stream",
     "text": [
      "1.922625313283208\n"
     ]
    }
   ],
   "source": [
    "print(nx.average_shortest_path_length(sample))"
   ]
  },
  {
   "cell_type": "markdown",
   "metadata": {},
   "source": [
    "----------------------------------------------------------------------------------------------------"
   ]
  },
  {
   "cell_type": "code",
   "execution_count": null,
   "metadata": {},
   "outputs": [],
   "source": []
  },
  {
   "cell_type": "code",
   "execution_count": 103,
   "metadata": {},
   "outputs": [],
   "source": [
    "# EXPERIMENTAL\n",
    "\n",
    "SAMPLE_SIZE = 100\n",
    "\n",
    "all_nodes  = [n for n in G.nodes()]\n",
    "k_0 = np.random.choice(all_nodes, 1)[0]\n",
    "\n",
    "sampled_network = nx.DiGraph()\n",
    "\n",
    "for i in range(SAMPLE_SIZE):\n",
    "    \n",
    "    out_edges_k0 = [tup[1] for tup in G.out_edges(k_0)]\n",
    "    \n",
    "    traversion_proba = np.random.randint(1, 100)\n",
    "\n",
    "    if traversion_proba <= 85:\n",
    "        if len(out_edges_k0) > 0:\n",
    "            k_1 = np.random.choice(out_edges_k0, 1)[0]\n",
    "            sampled_network.add_edge(k_0, k_1)\n",
    "        else:\n",
    "            sampled_network.add_node(k_0)\n",
    "            k_1 = np.random.choice(all_nodes, 1)[0]\n",
    "    \n",
    "    else:\n",
    "        k_1 = np.random.choice(all_nodes, 1)[0]\n",
    "        sampled_network.add_node(k_1)\n",
    "        sampled_network.add_node(k_0)\n",
    "\n",
    "    k_0 = k_1\n",
    "    \n"
   ]
  },
  {
   "cell_type": "code",
   "execution_count": null,
   "metadata": {},
   "outputs": [],
   "source": []
  },
  {
   "cell_type": "code",
   "execution_count": null,
   "metadata": {},
   "outputs": [],
   "source": []
  },
  {
   "cell_type": "code",
   "execution_count": null,
   "metadata": {},
   "outputs": [],
   "source": []
  },
  {
   "cell_type": "code",
   "execution_count": 57,
   "metadata": {},
   "outputs": [],
   "source": [
    "aG = DPA(N=1000, \n",
    "        fm=0.5, \n",
    "        d=0.01, \n",
    "        plo_M=2.5, \n",
    "        plo_m=2.5,\n",
    "        verbose=False)"
   ]
  },
  {
   "cell_type": "code",
   "execution_count": 70,
   "metadata": {},
   "outputs": [
    {
     "name": "stderr",
     "output_type": "stream",
     "text": [
      "C:\\Users\\timod\\Anaconda3\\lib\\site-packages\\seaborn\\distributions.py:2619: FutureWarning: `distplot` is a deprecated function and will be removed in a future version. Please adapt your code to use either `displot` (a figure-level function with similar flexibility) or `histplot` (an axes-level function for histograms).\n",
      "  warnings.warn(msg, FutureWarning)\n"
     ]
    },
    {
     "data": {
      "image/png": "[encoded data removed]",
      "text/plain": [
       "<Figure size 640x480 with 1 Axes>"
      ]
     },
     "metadata": {},
     "output_type": "display_data"
    }
   ],
   "source": [
    "plot_degree_dist(G)"
   ]
  },
  {
   "cell_type": "code",
   "execution_count": 64,
   "metadata": {},
   "outputs": [
    {
     "name": "stderr",
     "output_type": "stream",
     "text": [
      "C:\\Users\\timod\\Anaconda3\\lib\\site-packages\\seaborn\\distributions.py:2619: FutureWarning: `distplot` is a deprecated function and will be removed in a future version. Please adapt your code to use either `displot` (a figure-level function with similar flexibility) or `histplot` (an axes-level function for histograms).\n",
      "  warnings.warn(msg, FutureWarning)\n"
     ]
    },
    {
     "data": {
      "image/png": "[encoded data removed]",
      "text/plain": [
       "<Figure size 640x480 with 1 Axes>"
      ]
     },
     "metadata": {},
     "output_type": "display_data"
    }
   ],
   "source": [
    "plot_degree_dist(aG)"
   ]
  },
  {
   "cell_type": "code",
   "execution_count": null,
   "metadata": {},
   "outputs": [],
   "source": []
  },
  {
   "cell_type": "code",
   "execution_count": null,
   "metadata": {},
   "outputs": [],
   "source": []
  }
 ],
 "metadata": {
  "interpreter": {
   "hash": "0c356627e19890640c661bf35b313e3ac05771087fe3f4aaa57d60dc61ec63b4"
  },
  "kernelspec": {
   "display_name": "Python 3.7.6 ('base')",
   "language": "python",
   "name": "python3"
  },
  "language_info": {
   "codemirror_mode": {
    "name": "ipython",
    "version": 3
   },
   "file_extension": ".py",
   "mimetype": "text/x-python",
   "name": "python",
   "nbconvert_exporter": "python",
   "pygments_lexer": "ipython3",
   "version": "3.7.6"
  },
  "orig_nbformat": 4
 },
 "nbformat": 4,
 "nbformat_minor": 2
}
