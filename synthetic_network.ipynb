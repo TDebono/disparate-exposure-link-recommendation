{
 "cells": [
  {
   "cell_type": "code",
   "execution_count": 2,
   "metadata": {},
   "outputs": [
    {
     "name": "stdout",
     "output_type": "stream",
     "text": [
      "Collecting igraph\n",
      "  Downloading igraph-0.9.9-cp37-cp37m-win_amd64.whl (2.8 MB)\n",
      "Collecting texttable>=1.6.2\n",
      "  Using cached texttable-1.6.4-py2.py3-none-any.whl (10 kB)\n",
      "Installing collected packages: texttable, igraph\n",
      "Successfully installed igraph-0.9.9 texttable-1.6.4\n",
      "Note: you may need to restart the kernel to use updated packages.\n"
     ]
    }
   ],
   "source": [
    "%pip install igraph"
   ]
  },
  {
   "cell_type": "code",
   "execution_count": 4,
   "metadata": {},
   "outputs": [],
   "source": [
    "import networkx as nx\n",
    "import numpy as np\n",
    "import pandas as pd\n",
    "import igraph as ig"
   ]
  },
  {
   "cell_type": "code",
   "execution_count": 10,
   "metadata": {},
   "outputs": [],
   "source": [
    "NUM_NODES = 1632803\n",
    "NUM_EDGES = 30622564"
   ]
  },
  {
   "cell_type": "code",
   "execution_count": 11,
   "metadata": {},
   "outputs": [],
   "source": [
    "def load_graph_data(path, graph, package='igraph'):\n",
    "    packages = ['igraph', 'networkx']\n",
    "    assert package in packages\n",
    "    \n",
    "    if package == 'networkx':\n",
    "        with open(path) as f:\n",
    "            [graph.add_edge(*(int(vert) for vert in line.rstrip().split())) for line in f]\n",
    "    \n",
    "    if package == 'igraph':\n",
    "        graph.add_vertices(NUM_NODES)\n",
    "        with open(path) as f:\n",
    "            [graph.add_edge(*(int(vert) for vert in line.rstrip().split())) for line in f]\n",
    "    return graph"
   ]
  },
  {
   "cell_type": "code",
   "execution_count": 12,
   "metadata": {},
   "outputs": [],
   "source": [
    "g = nx.DiGraph()\n",
    "gg = ig.Graph(directed=True)\n",
    "path = 'C:/Users/timod/Box/University Documents/Master/UvA/Thesis/work/soc-pokec-relationships.txt'"
   ]
  },
  {
   "cell_type": "code",
   "execution_count": null,
   "metadata": {},
   "outputs": [],
   "source": [
    "G = load_graph_data(path, gg)"
   ]
  },
  {
   "cell_type": "code",
   "execution_count": null,
   "metadata": {},
   "outputs": [],
   "source": [
    "# g = nx.read_edgelist(path, create_using=nx.DiGraph(), nodetype = int)\n"
   ]
  },
  {
   "cell_type": "code",
   "execution_count": 9,
   "metadata": {},
   "outputs": [],
   "source": [
    "degree_centrality = nx.degree_centrality(G)"
   ]
  },
  {
   "cell_type": "code",
   "execution_count": 17,
   "metadata": {},
   "outputs": [],
   "source": [
    "avg_degree_centrality = np.array(list(degree_centrality.values())).mean()"
   ]
  },
  {
   "cell_type": "code",
   "execution_count": null,
   "metadata": {},
   "outputs": [],
   "source": [
    "avg_degree_centrality"
   ]
  },
  {
   "cell_type": "code",
   "execution_count": null,
   "metadata": {},
   "outputs": [],
   "source": [
    "# diameter = nx.diameter(G)\n",
    "approx_diameter = nx.approximation.diameter(G)\n",
    "print(approx_diameter)"
   ]
  },
  {
   "cell_type": "code",
   "execution_count": null,
   "metadata": {},
   "outputs": [],
   "source": [
    "# avg_clustering = nx.average_clustering(G)\n",
    "approx_clustering = nx.approximation.average_clustering(G)\n",
    "print(approx_clustering)"
   ]
  },
  {
   "cell_type": "code",
   "execution_count": null,
   "metadata": {},
   "outputs": [],
   "source": [
    "avg_shortest_path_length = nx.average_shortest_path_length(G)\n",
    "print(avg_shortest_path_length)"
   ]
  },
  {
   "cell_type": "code",
   "execution_count": 5,
   "metadata": {},
   "outputs": [],
   "source": [
    "profile_data_file = 'C:/Users/timod/Box/University Documents/Master/UvA/Thesis/work/soc-pokec-profiles.txt'"
   ]
  },
  {
   "cell_type": "code",
   "execution_count": 6,
   "metadata": {},
   "outputs": [],
   "source": [
    "profile_info = pd.read_csv(profile_data_file, sep='\\t', lineterminator='\\r')"
   ]
  },
  {
   "cell_type": "code",
   "execution_count": null,
   "metadata": {},
   "outputs": [],
   "source": []
  },
  {
   "cell_type": "code",
   "execution_count": null,
   "metadata": {},
   "outputs": [],
   "source": []
  },
  {
   "cell_type": "code",
   "execution_count": null,
   "metadata": {},
   "outputs": [],
   "source": []
  },
  {
   "cell_type": "code",
   "execution_count": null,
   "metadata": {},
   "outputs": [],
   "source": [
    "# import random\n",
    "# k = 100\n",
    "# sampled_nodes = random.sample(G.nodes, k)\n",
    "# sampled_graph = G.subgraph(sampled_nodes)"
   ]
  },
  {
   "cell_type": "code",
   "execution_count": null,
   "metadata": {},
   "outputs": [],
   "source": []
  }
 ],
 "metadata": {
  "interpreter": {
   "hash": "1fb8e078cb962540c7e7ee51bf113dc58305575cec4abc5de20bbf9c14466811"
  },
  "kernelspec": {
   "display_name": "Python 3.7.6 ('base')",
   "language": "python",
   "name": "python3"
  },
  "language_info": {
   "codemirror_mode": {
    "name": "ipython",
    "version": 3
   },
   "file_extension": ".py",
   "mimetype": "text/x-python",
   "name": "python",
   "nbconvert_exporter": "python",
   "pygments_lexer": "ipython3",
   "version": "3.7.6"
  },
  "orig_nbformat": 4
 },
 "nbformat": 4,
 "nbformat_minor": 2
}
